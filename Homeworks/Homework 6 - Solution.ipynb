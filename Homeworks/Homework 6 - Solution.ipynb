{
 "cells": [
  {
   "cell_type": "markdown",
   "metadata": {},
   "source": [
    "# Homework 6 Solution\n",
    "\n",
    "**Learning Objectives Assessed:**\n",
    "\n",
    "- Formulating linear programs (LP) to model an optimization problem. (Model)\n",
    "- Solving LPs of two variables manually by graphing. (Analyze)\n",
    "- Solving LPs using Gurobi in Python. (Code)\n",
    "- Interpreting shadow price information. (Analyze)\n",
    "- Communicate LP formulations using LaTex. (Communicate)\n",
    "\n",
    "**For this homework, you must add your response to this Jupyter notebook and submit it.**\n",
    "\n",
    "## Instructions for typesetting LP formulations in Markdown cells\n",
    "In questions 1,3,4,5, you are asked to \"formulate a LP.\" This means to define your decision variables, then write the objective function and constraints. An example of a LP formulation is given below (this is the LP from the class on Thursday 3/1).\n",
    "\n",
    "Let decision variables $X$ and $Y$ denote the amount of product X and product Y to use respective. The linear program is\n",
    "$$\\begin{aligned}\n",
    "\\text{maximize} && 20X+10Y \\\\\n",
    "\\text{subject to:} \\\\\n",
    "\\text{Material 1:} && 4X+Y & \\le 60 \\\\\n",
    "\\text{Material 2:} && 2Y & \\le 48 \\\\\n",
    "\\text{Labor:} && X+Y & \\le 30 \\\\\n",
    "\\text{Non-negativity} && X,Y & \\ge 0\n",
    "\\end{aligned}$$\n",
    "\n",
    "Notice that the variables $X$ and $Y$ are in a special font denoting mathematical variables. Moreover, notice that the linear program above is centered and aligned, both at the colons and at the signs ($\\le$ and $\\ge$). It is useful to learn to do such formating in Markdown in order to better communicate your LP formulations to others.\n",
    "\n",
    "Double click this Markdown cell to see the code that created the math. Then execute the cell again to render it."
   ]
  },
  {
   "cell_type": "markdown",
   "metadata": {},
   "source": [
    "As you can see, to render a mathematical expression nicely, we enclose it using dollar signs. So the expression X>0, becomes $X>0$. A single dollar sign is for mathematical expressions inline, and double dollar signs are for a standalone mathematical expressions in its own line (See code by double clicking this cell). $$X>=0$$\n",
    "\n",
    "To make the linear program aligned, we not only use the double dollar signs, but also use the `\\begin{aligned} \\end{aligned}` commands. (Double click the linear program above to see the code.) Within the alignment block:\n",
    "\n",
    "- `\\text{ }` is for displaying the enclosed string as plain text, without the mathematical rendering.\n",
    "- `&` is for alignment. The convention is right align before the first `&`, then left align between the first and second `&` of each line, then right align again between the second and third `&` and so on. Hence, to make it right aligned both before and after the colon, we use a double `&&` after the `\\text{}`. If this is confusing, you can simply copy this convention for this homework (`&&` after the explanation of constraint, and `&` before the sign). \n",
    "- `\\\\` is for creating a new line. Notice that we end the line early using `\\\\` for \"subject to\" and \"maximize\".\n",
    "- `\\le` (less than or equal to) is for $\\le$, and `\\ge` (greater than or equal to) is for $\\ge$. This looks better than $<=$ and $>=$.\n",
    "\n",
    "This notation is called LaTex, and is the standard for people in technical fields to display math. Make sure that you close any braces you begin and put the alignment characters `&` and newlines `\\\\` at the right places, or the math may not render. You can see another example in the prompt to Q2 (double click the prompt of Q2 to see the LaTex code)."
   ]
  },
  {
   "cell_type": "markdown",
   "metadata": {},
   "source": [
    "## Q1: (Solving a LP manually by graphing)\n",
    "\n",
    "Solve DMD Exercise 7.2. The question begins with \"The Magnetron Company manufactures and markets microwave ovens.\" For part a), you should type your formulation into a Markdown cell following the typesetting instructions above. For parts b) and c), you should plot by hand on a scrap piece of paper, and type the answer in a Markdown cell. **You do not have to submit your hand drawing**, but you need to learn to do this for a quiz or an exam. "
   ]
  },
  {
   "cell_type": "markdown",
   "metadata": {},
   "source": [
    "**Solution:**\n",
    "\n",
    "a) Decision variables: Let $F$ and $C$ be the number full-size and compact-size microwave ovens to produce respectively **(in hundreds)**. (Expressing in hundreds is not necessary, but is done here to illustrate the point that you can decide the units in your formulation.) The linear program is:\n",
    "\n",
    "$$\\begin{aligned}\n",
    "\\text{maximize} && 12000F+13000C \\\\\n",
    "\\text{subject to:} && \\\\\n",
    "\\text{General assembly:} && 2F + C & \\le 5 \\\\\n",
    "\\text{Electric assembly:} && 2F + 3C & \\le 8 \\\\\n",
    "\\text{Full-size demand:} && F & \\le 2.2 \\\\\n",
    "\\text{Compact-size demand:} && C & \\le 1.8 \\\\\n",
    "\\text{Non-negativity:} && F,C & \\ge 0\n",
    "\\end{aligned}$$\n",
    "\n",
    "b) The plot is below. The direction of the objective function is the vector $(F,C)=(12000,13000)$, which is toward the north east in the graph below (slightly more north than east because $13000>12000$). Hence, the optimal solution is the intersection of the general assembly constraint and the electric assembly constraint. (These two are the binding constraints at the optimal solution.) Solving the system of equations:\n",
    "\n",
    "$$\\begin{aligned}\n",
    "2F + C & = 5 \\\\\n",
    "2F + 3C &= 8\n",
    "\\end{aligned}$$\n",
    "\n",
    "We get $(F,C)=(1.75,1.5)$. The value of the objective function is 40500 dollars."
   ]
  },
  {
   "cell_type": "markdown",
   "metadata": {},
   "source": [
    "![graph.png](graph.png)"
   ]
  },
  {
   "cell_type": "markdown",
   "metadata": {},
   "source": [
    "c) When the number $500$ is changed to $510$, the new system of equations is (recall that $F$ and $C$ are expressed in hundreds)\n",
    "$$\\begin{aligned}\n",
    "2F + C & = 5.1 \\\\\n",
    "2F + 3C &= 8\n",
    "\\end{aligned}$$\n",
    "\n",
    "The solutions is $(F,C)=(1.825,1.45)$. The new value of the objective is $12000\\times 1.825 + 13000 \\times 1.45=40750$, which is 250 more than the previous objective. Hence, the marginal value of general assembly labor is $250/(510-500)=25$ dollars per hour."
   ]
  },
  {
   "cell_type": "markdown",
   "metadata": {},
   "source": [
    "## Q2: (Solving a LP using Gurobi)\n",
    "\n",
    "**a)** Solve the LP for the NBS supply problem (DMD section 7.1) using Gurobi. Print the optimal solution, as well as the shadow price of each constraint. For your convenience, the LP formulation is reproduced below. \n",
    "\n",
    "Let decision variables $A$, $B$, $C$, $D$, $E$, $F$, $G$, and $H$ correspond to the amount of coal to be contracted from Ashley, Bedford, Consol, Dunby, Earlam, Florence, Gaston and Hopt respectively (in mtons).\n",
    "\n",
    "$$\\begin{aligned}\n",
    " \\text{minimize} && 49.5A+50B+61C+63.5D+66.5E+71F+72.5G+80H \\\\\n",
    " \\text{subject to:} && \\\\\n",
    " \\text{Supply:} && A+B+C+D+E+F+G+H & = 1225 \\\\\n",
    " \\text{Union:} && A+B-C+D-E+F-G-H & \\ge 0 \\\\\n",
    " \\text{Truck:}&& B+D+E+F & \\le 720 \\\\\n",
    " \\text{Rail:}&& A+C+G+H & \\le 650 \\\\\n",
    " \\text{Volatility:} && -4A-3B-C+D+2E+3F+4G+6H & \\ge 0 \\\\\n",
    " \\text{Acap:}&& A &\\le 300 \\\\\n",
    "\\text{Bcap:}&& B &\\le 600 \\\\\n",
    "\\text{Ccap:}&& C &\\le 510 \\\\\n",
    "\\text{Dcap:}&& D &\\le 655 \\\\\n",
    "\\text{Ecap:}&& E &\\le 575 \\\\\n",
    "\\text{Fcap:}&& F &\\le 680 \\\\\n",
    "\\text{Gcap:}&& G &\\le 450 \\\\\n",
    "\\text{Hcap:}&& H &\\le 490 \\\\\n",
    "\\text{Non-negativity:} && A,B,C,D,E,F,G,H & \\ge 0\n",
    "\\end{aligned}$$\n"
   ]
  },
  {
   "cell_type": "code",
   "execution_count": 61,
   "metadata": {},
   "outputs": [
    {
     "name": "stdout",
     "output_type": "stream",
     "text": [
      "Optimal solution\n",
      "\tA=55.0\n",
      "\tB=600.0\n",
      "\tC=0.0\n",
      "\tD=20.0\n",
      "\tE=100.0\n",
      "\tF=0.0\n",
      "\tG=450.0\n",
      "\tH=0.0\n",
      "\n",
      "Shadow prices\n",
      "\tSupply constraint: 61.5\n",
      "\tUnion constraint: 0.0\n",
      "\tTruck constraint: -1.0\n",
      "\tRail constraint: 0.0\n",
      "\tVolatility constraint: 3.0\n",
      "\tAcap: 0.0\n",
      "\tBcap: -1.5\n",
      "\tCcap: 0.0\n",
      "\tDcap: 0.0\n",
      "\tEcap: 0.0\n",
      "\tFcap: 0.0\n",
      "\tGcap: -1.0\n",
      "\tHcap: 0.0\n"
     ]
    }
   ],
   "source": [
    "import gurobipy as grb\n",
    "m=grb.Model()\n",
    "\n",
    "# add variables\n",
    "A=m.addVar(lb=0,name='A')\n",
    "B=m.addVar(lb=0,name='B')\n",
    "C=m.addVar(lb=0,name='C')\n",
    "D=m.addVar(lb=0,name='D')\n",
    "E=m.addVar(lb=0,name='E')\n",
    "F=m.addVar(lb=0,name='F')\n",
    "G=m.addVar(lb=0,name='G')\n",
    "H=m.addVar(lb=0,name='H')\n",
    "\n",
    "# add objective\n",
    "m.setObjective(49.5*A+50*B+61*C+63.5*D+66.5*E+71*F+72.5*G+80*H,sense=grb.GRB.MINIMIZE)\n",
    "\n",
    "# add constraints\n",
    "m.addConstr(A+B+C+D+E+F+G+H==1225,name='Supply constraint')\n",
    "m.addConstr(A+B-C+D-E+F-G-H >= 0, name='Union constraint')\n",
    "m.addConstr(B+D+E+F <=720, name='Truck constraint')\n",
    "m.addConstr(A+C+G+H<=650, name='Rail constraint')\n",
    "m.addConstr(-4*A-3*B-C+D+2*E+3*F+4*G+6*H >=0, name='Volatility constraint')\n",
    "m.addConstr(A<=300, name='Acap')\n",
    "m.addConstr(B<=600, name='Bcap')\n",
    "m.addConstr(C<=510, name='Ccap')\n",
    "m.addConstr(D<=655, name='Dcap')\n",
    "m.addConstr(E<=575, name='Ecap')\n",
    "m.addConstr(F<=680, name='Fcap')\n",
    "m.addConstr(G<=450, name='Gcap')\n",
    "m.addConstr(H<=490, name='Hcap')\n",
    "\n",
    "# Solve the model\n",
    "m.setParam('OutputFlag',False)\n",
    "m.optimize()\n",
    "\n",
    "print('Optimal solution')\n",
    "for var in m.getVars():\n",
    "    print('\\t{0}={1}'.format(var.VarName,var.x))\n",
    "\n",
    "# Print the shadow prices\n",
    "print('\\nShadow prices')\n",
    "for constr in m.getConstrs():\n",
    "    print('\\t{0}: {1}'.format(constr.ConstrName,constr.PI))\n"
   ]
  },
  {
   "cell_type": "markdown",
   "metadata": {},
   "source": [
    "**b)** For each of the constraints except for the volatility constraint, write 1-2 sentence describing what insights can be obtained from the shadow price. You may check your answers using DMD section 7.5.4, but please write the sentence in your own words. For the capacity constraints with zero shadow cost (Acap, Ccap, Dcap, Ecap, Fcap, Hcap), you only need to describe for one constraint, and say that the others are like it.\n",
    "\n",
    "Example sentence: The shadow price of the union constraint is zero, which means that the union is not a bottleneck in this scenario. (In other words, NBS Corporation would not be able to benefit from the union relaxing its requirement on coal contracts, by allowing for slightly more coal to be contracted from non-union suppliers than from union suppliers.)"
   ]
  },
  {
   "cell_type": "markdown",
   "metadata": {},
   "source": [
    "**Solution:**\n",
    "The shadow price of the supply constraint is 61.5, which means that increasing the supply requirement by one mton would increase NBS Corporation's costs by 61.5 thousand dollars. \n",
    "\n",
    "The shadow price of the union constraint is zero, which means that the union is not a bottleneck for NBS.\n",
    "\n",
    "The shadow price of the truck constraint is -1, which means that if NBS can ship 1 mton more by truck, then it can decrease its cost by 1 thousand dollars.\n",
    "\n",
    "The shadow price of the rail constraint is zero, which means that the capacity for rail is not a bottleneck.\n",
    "\n",
    "The shadow price of the capacitiy constraints for A, C, D, E, F, and H are zero, meaning that these are not bottlenecks for HBS.\n",
    "\n",
    "The shadow price of the capacity constraint for $B$ is -1.5, meaning that having 1 mton additional capacity from Bedford would decrease the overall cost by 1.5 thousand dollars.\n",
    "\n",
    "The shadow price of the capacity constraint for $G$ is -1, meaning that having 1 mton additional capacity from Gaston would decrease the overall cost by 1 thousand dollars."
   ]
  },
  {
   "cell_type": "markdown",
   "metadata": {},
   "source": [
    "## Q3 (Production Planning)\n",
    "\n",
    "Solve DMD Exercise 7.8. The question begins with \"Nature's best Frozen Foods company produces four different mixes of frozen ready-to-eat vegetables. \n",
    "\n",
    "For part a), you should formulate the linear program following the instructions at the top of this homework (define the decision variables then write the LP nicely in a Markdown cell using LaTex)."
   ]
  },
  {
   "cell_type": "markdown",
   "metadata": {},
   "source": [
    "a) Let $S$ be the number of bags of Stir Fry mixes to produce, $B$ the number of bags of Barbeque, $H$ the number of bags of Hearty Mushrooms, and $V$ the number of bags of Veggie Crunch.\n",
    "\n",
    "$$\\begin{aligned}\n",
    "\\text{maximize:} && 0.22S+0.2B+0.18H+0.18V \\\\\n",
    "\\text{subject to:} \\\\\n",
    "\\text{Carrots:} && 2.5S+2.0B+2.5V & \\le 150000 \\\\\n",
    "\\text{Mushrooms:} && 3S + 4H & \\le 80000 \\\\\n",
    "\\text{Green peppers:} && 2.5S+2B+3H+2.5V & \\le 135000 \\\\\n",
    "\\text{Broccoli:} && 2S+3B+3H+2.5V & \\le 140000 \\\\\n",
    "\\text{Corn:} && 3B +2.5V & \\le 150000 \\\\\n",
    "\\text{Non-negativity:} && S,B,H,V & \\ge 0\n",
    "\\end{aligned}$$\n",
    "\n",
    "b) See the code below. "
   ]
  },
  {
   "cell_type": "code",
   "execution_count": 35,
   "metadata": {},
   "outputs": [
    {
     "name": "stdout",
     "output_type": "stream",
     "text": [
      "Optimal objective value is 11813.333333333334\n",
      "Optimal solution is S=26666.666666666668, B=18333.333333333343, H=0.0, V=12666.666666666655\n",
      "Shadow price of green peppers constraint is 0.016\n"
     ]
    }
   ],
   "source": [
    "import gurobipy as grb\n",
    "m=grb.Model()\n",
    "# Define the decision variables\n",
    "S=m.addVar(lb=0)\n",
    "B=m.addVar(lb=0)\n",
    "H=m.addVar(lb=0)\n",
    "V=m.addVar(lb=0)\n",
    "\n",
    "# Set the objective\n",
    "m.setObjective(0.22*S+0.2*B+0.18*H+0.18*V,sense=grb.GRB.MAXIMIZE)\n",
    "\n",
    "# Add the constraints\n",
    "m.addConstr(2.5*S+2*B+2.5*V<=150000)\n",
    "m.addConstr(3*S+4*H <=80000)\n",
    "green=m.addConstr(2.5*S+2*B+3*H+2.5*V <= 135000)\n",
    "m.addConstr(2*S+3*B+3*H+2.5*V <= 140000)\n",
    "m.addConstr(3*B + 2.5*V <= 150000)\n",
    "\n",
    "# Optimize\n",
    "m.setParam( 'OutputFlag', False ) # Not print Gurobi outputs while solving\n",
    "m.optimize()\n",
    "\n",
    "# Optimal solution\n",
    "print('Optimal objective value is',m.ObjVal)\n",
    "print('Optimal solution is S={0}, B={1}, H={2}, V={3}'.format(S.x,B.x,H.x,V.x))\n",
    "print('Shadow price of green peppers constraint is',green.PI)\n"
   ]
  },
  {
   "cell_type": "markdown",
   "metadata": {},
   "source": [
    "c) Based on the shadow price, the value of an extra ounce of green peppers is 0.016 dollars."
   ]
  },
  {
   "cell_type": "markdown",
   "metadata": {},
   "source": [
    "## Q4 (Formulating Constraints)\n",
    "\n",
    "Solve DMD Exercise 7.12. Before solving using Gurobi, you should formulate the linear program by defining the decision variables and write the objective and constraints nicely using LaTex.\n",
    "\n",
    "a) Let $A$, $B$, $C$, $D$, $E$ be the amounts invested in each of the five funds respectively. The linear program is\n",
    "\n",
    "$$\\begin{aligned}\n",
    "\\text{maximize} && 0.045A+0.0562B+0.068C+0.1015D+0.206E \\\\\n",
    "\\text{subject to:}  \\\\\n",
    "\\text{Total investment:} && A+B+C+D+E & = 10000 \\\\\n",
    "\\text{Average risk:} && A+2B+2C+3D+5E & \\le 2.5(A+B+C+D+E) \\\\\n",
    "\\text{Money market:} && A+B & \\ge 0.3(A+B+C+D+E) \\\\\n",
    "\\text{Aggressive growth:} && E & \\le 2000 \\\\\n",
    "\\text{Non-negativity:} && A,B,C,D,E &\\ge 0 \n",
    "\\end{aligned}$$\n",
    "\n",
    "The solution is as follows."
   ]
  },
  {
   "cell_type": "code",
   "execution_count": 62,
   "metadata": {},
   "outputs": [
    {
     "name": "stdout",
     "output_type": "stream",
     "text": [
      "Optimal objective 969.75\n",
      "Optimal solution:\n",
      "\t Adams = 4500.0\n",
      "\t Barney = 0.0\n",
      "\t Chilton = 0.0\n",
      "\t Dunster = 3500.0\n",
      "\t Excelsior = 2000.0\n"
     ]
    }
   ],
   "source": [
    "import gurobipy as grb\n",
    "mod=grb.Model()\n",
    "A=mod.addVar(lb=0,name='Adams')\n",
    "B=mod.addVar(lb=0,name='Barney')\n",
    "C=mod.addVar(lb=0,name='Chilton')\n",
    "D=mod.addVar(lb=0,name='Dunster')\n",
    "E=mod.addVar(lb=0,name='Excelsior')\n",
    "mod.setObjective(0.045*A+0.0562*B+0.068*C+0.1015*D+0.206*E,sense=grb.GRB.MAXIMIZE)\n",
    "mod.addConstr(A+B+C+D+E==10000, 'Total investment')\n",
    "mod.addConstr(A+2*B+2*C+3*D+5*E <= 2.5*(A+B+C+D+E),'Average risk')\n",
    "mod.addConstr(A+B >= 0.3*(A+B+C+D+E), 'Money market')\n",
    "mod.addConstr(E <= 2000, 'Aggressive growth')\n",
    "\n",
    "mod.setParam('OutputFlag',False)\n",
    "mod.optimize()\n",
    "\n",
    "print('Optimal objective',mod.ObjVal)\n",
    "print('Optimal solution:')\n",
    "for var in mod.getVars():\n",
    "    print('\\t',var.VarName,'=',var.x)"
   ]
  },
  {
   "cell_type": "markdown",
   "metadata": {},
   "source": [
    "## Q5 (Production and Transportation)\n",
    "\n",
    "Solve DMD Exercise 7.9. The question begins with \"Johnson Electric produces small electric motors for four appliance manufacturers in each of the three plants). \n",
    "\n",
    "When formulating the linear program in part a), **instead of manually defining each variable as in the hint in the book, you should practice using indexing notation**, which also saves you effort on manual input and makes your formulation easily generalizable to larger data sets. You should use the following notation in your formulation:\n",
    "\n",
    "- $I=\\{A,B,C\\}$ represents the set of plants;\n",
    "- $J=\\{O,T,H,D\\}$ represent the set of manufacturers. \n",
    "- Let your decision variables be $x_{ij}$, which is the amount shipped from plant $i \\in I$ to manufacturer $j \\in J$. (For example $x_{AO}$ is the amount shipped from Arlington to Onyx. $\\sum_{j\\in J} x_{Aj}$ is the total amount produced from Arlington. $\\sum_{i \\in I} x_{iO}$ is the total amount shipped to Onyx.)\n",
    "- For each plant $i \\in I$, the production cost is $p_i$ and the monthly capacity is $q_i$. (For example, $p_A=17$ and $q_A=800$.)\n",
    "- For each manufactuer $j \\in J$, the demand of motors per month is given by $d_j$. (For example, $d_O=300$, $d_T=500$.) \n",
    "- For each plant $i\\in I$ and each manufacturer $j\\in J$, the transportation cost from plant $i$ to manufactuer $j$ can be indexed by $c_{ij}$. (For example using the data from the table associated with the question, $c_{AO}=3$, $c_{BT}=4$.)\n",
    "\n",
    "To write a indexed variable in Latex, you can use `c_{ij}` for $c_{ij}$ (make sure to enclose it either in single dollar sign for in-line math or double-dollar sign for stand-alone math). To write summation, you can use `\\sum_{i \\in I, j \\in J} c_{ij}x_{ij}` for $$\\sum_{i \\in I, j \\in J} c_{ij}x_{ij}.$$\n",
    "\n",
    "For example you can write the capacity constraint at all three plants using the equation\n",
    "$$ \\text{Respecting capacity:  } \\sum_{j \\in J} x_{ij} \\le q_i \\text{ for every plant $i \\in I$}.$$\n"
   ]
  },
  {
   "cell_type": "markdown",
   "metadata": {},
   "source": [
    "a) Let $I=\\{A,B,C\\}$ be the set of plants and $J=\\{O,T,H,D\\}$ be the set of manufacturers. For each $i\\in I$ and $j\\in J$, let $c_{ij}$ be the unit cost to ship from plant $i$ to manufacturer $j$. The decision variables $x_{ij}$ represents the amount to ship from plant $i$ to manufactuer $j$.\n",
    "\n",
    "$$\\begin{aligned}\n",
    "\\text{maximize} && \\sum_{i \\in I, j \\in J} (p_i + c_{ij})x_{ij} \\\\\n",
    "\\text{subject to:} \\\\\n",
    "\\text{Respecting capacity:} && \\sum_{j \\in J} x_{ij} & \\le q_i \\text{ for every plant $i\\in I$} \\\\\n",
    "\\text{Satisfying demand:} && \\sum_{i \\in I} x_{ij} & \\ge d_j \\text{ for every manufacturer $j \\in J$}\\\\\n",
    "\\text{Non-negativity:} && x_{ij} & \\ge 0 \\text{ for every $i \\in I$, $j \\in J$.}\n",
    "\\end{aligned}$$\n",
    "\n",
    "b) See code below."
   ]
  },
  {
   "cell_type": "code",
   "execution_count": 53,
   "metadata": {},
   "outputs": [
    {
     "name": "stdout",
     "output_type": "stream",
     "text": [
      "Optimal objective value is 40500.0\n",
      "Optimal solution\n",
      "\tx[Arlington,Onyx]=300.0\n",
      "\tx[Arlington,Treble]=100.0\n",
      "\tx[Arlington,Hilton]=400.0\n",
      "\tx[Arlington,Dean]=0.0\n",
      "\tx[Binghamton,Onyx]=0.0\n",
      "\tx[Binghamton,Treble]=0.0\n",
      "\tx[Binghamton,Hilton]=0.0\n",
      "\tx[Binghamton,Dean]=600.0\n",
      "\tx[Canton,Onyx]=0.0\n",
      "\tx[Canton,Treble]=400.0\n",
      "\tx[Canton,Hilton]=0.0\n",
      "\tx[Canton,Dean]=0.0\n",
      "Shadow costs\n",
      "\tDemand for Onyx: 26.0\n",
      "\tDemand for Treble: 25.0\n",
      "\tDemand for Hilton: 28.0\n",
      "\tDemand for Dean: 24.0\n",
      "\tCapacity for Arlington: -6.0\n",
      "\tCapacity for Binghamton: -1.0\n",
      "\tCapacity for Canton: 0.0\n"
     ]
    }
   ],
   "source": [
    "import gurobipy as grb\n",
    "import pandas as pd\n",
    "plants=['Arlington','Binghamton','Canton']\n",
    "manufac=['Onyx','Treble','Hilton','Dean']\n",
    "prodCosts=pd.Series([17,20,24],index=plants)\n",
    "capacities=pd.Series([800,600,700],index=plants)\n",
    "demands=pd.Series([300,500,400,600],index=manufac)\n",
    "tranCosts=pd.DataFrame([[3,2,5,7],[6,4,8,3],[9,1,5,4]],index=plants,columns=manufac)\n",
    "\n",
    "mod=grb.Model()\n",
    "x={}\n",
    "for i in plants:\n",
    "    for j in manufac:\n",
    "        x[i,j]=mod.addVar(lb=0,name='x[{0},{1}]'.format(i,j))\n",
    "mod.setObjective(sum((tranCosts.loc[i,j]+prodCosts.loc[i])*x[i,j] for i in plants for j in manufac))\n",
    "demConstr={}\n",
    "for j in manufac:\n",
    "    demConstr[j]=mod.addConstr(sum(x[i,j] for i in plants) >= demands.loc[j],name='Demand for '+j)\n",
    "capConstr={}\n",
    "for i in plants:\n",
    "    capConstr[i]=mod.addConstr(sum(x[i,j] for j in manufac) <= capacities.loc[i],name='Capacity for '+i)\n",
    "\n",
    "mod.setParam( 'OutputFlag', False ) # Not print Gurobi outputs while solving\n",
    "mod.optimize()\n",
    "mod.write('7.8.lp')\n",
    "print ('Optimal objective value is',mod.ObjVal)\n",
    "\n",
    "print('Optimal solution')\n",
    "for var in mod.getVars():\n",
    "    print('\\t{0}={1}'.format(var.VarName,var.x))\n",
    "    \n",
    "print('Shadow costs')\n",
    "for constr in mod.getConstrs():\n",
    "    print('\\t{0}: {1}'.format(constr.ConstrName,constr.PI))\n"
   ]
  },
  {
   "cell_type": "markdown",
   "metadata": {},
   "source": [
    "As can be seen from the solution, the optimal solution is not using all the capacity for Canton (where the production cost is the highest), and this plant is only serving Treble, for which it has a good transportation cost. Furthermore, all of the demand from Dean is being served from Binghamton, which serves no other manufacturer. Arlington, the plant where the production cost is the lowest, is used to satisfy demand from a variety of manufacturers, and is the most valuable resource. Increasing capacity at Arlington by 1 motor/month would reduce total costs by 6 dollars, where as increasing capacity at Binghamton by 1 motor/month would reduce total cost only by 1 dollar. Increasing capacity at Canton is not helpful at this point as we are not even using all of the current capacity."
   ]
  }
 ],
 "metadata": {
  "kernelspec": {
   "display_name": "Python 3",
   "language": "python",
   "name": "python3"
  },
  "language_info": {
   "codemirror_mode": {
    "name": "ipython",
    "version": 3
   },
   "file_extension": ".py",
   "mimetype": "text/x-python",
   "name": "python",
   "nbconvert_exporter": "python",
   "pygments_lexer": "ipython3",
   "version": "3.6.3"
  }
 },
 "nbformat": 4,
 "nbformat_minor": 2
}
