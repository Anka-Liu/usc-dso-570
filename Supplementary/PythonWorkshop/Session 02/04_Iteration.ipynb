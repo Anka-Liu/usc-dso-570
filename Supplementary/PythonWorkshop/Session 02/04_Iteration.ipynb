{
 "cells": [
  {
   "cell_type": "markdown",
   "metadata": {},
   "source": [
    "# Iteration"
   ]
  },
  {
   "cell_type": "markdown",
   "metadata": {},
   "source": [
    "### The While Loop"
   ]
  },
  {
   "cell_type": "markdown",
   "metadata": {},
   "source": [
    "The while loop is used to repeating identical or similar tasks. The following chunk of code is a program that repeats \"Hello World\" five times.  "
   ]
  },
  {
   "cell_type": "code",
   "execution_count": 1,
   "metadata": {},
   "outputs": [
    {
     "name": "stdout",
     "output_type": "stream",
     "text": [
      "Hello World!\n",
      "Hello World!\n",
      "Hello World!\n",
      "Hello World!\n",
      "Hello World!\n"
     ]
    }
   ],
   "source": [
    "print(\"Hello World!\")\n",
    "print(\"Hello World!\")\n",
    "print(\"Hello World!\")\n",
    "print(\"Hello World!\")\n",
    "print(\"Hello World!\")"
   ]
  },
  {
   "cell_type": "markdown",
   "metadata": {},
   "source": [
    "Since the above task was repetitive, we can use a while loop to do it:"
   ]
  },
  {
   "cell_type": "code",
   "execution_count": 2,
   "metadata": {},
   "outputs": [
    {
     "name": "stdout",
     "output_type": "stream",
     "text": [
      "Hello World!\n",
      "Hello World!\n",
      "Hello World!\n",
      "Hello World!\n",
      "Hello World!\n"
     ]
    }
   ],
   "source": [
    "count = 1 #initialize the count to 1\n",
    "\n",
    "while count <=5 :\n",
    "    print(\"Hello World!\")\n",
    "    count = count + 1 #increase the count by 1\n",
    "\n"
   ]
  },
  {
   "cell_type": "markdown",
   "metadata": {},
   "source": [
    "The above loop execution will have 5 iterations and with each iteration, the exection works as follows: \n",
    "\n",
    "1. Evaluates the condition (count <=5), yielding True or False\n",
    "2. If the condition (count <=5) is false, Python with exit the while loop, and continues execution at the next statement\n",
    "3. If the condition (count <=5) is true, execute the statements in the loop and then go back up to the begining of the while statement. \n",
    "\n",
    "\n",
    "Notice that the \"count\" variable is there to prevent the loop from running indefinitly (i.e. infinit loop). It is initialized to 1, and with each iteration, it is incremeneted by 1 using the statement (count = count + 1). It will keep incrementing until it reaches 6 in this case, and thus it will have the condition (count <=5 ) be false, so the loop will stop. \n"
   ]
  },
  {
   "cell_type": "markdown",
   "metadata": {},
   "source": [
    "#### Write a program that counts down from five and then says \"Hello World\" once it is done from the countdown."
   ]
  },
  {
   "cell_type": "code",
   "execution_count": 3,
   "metadata": {},
   "outputs": [
    {
     "name": "stdout",
     "output_type": "stream",
     "text": [
      "5\n",
      "4\n",
      "3\n",
      "2\n",
      "1\n",
      "Hello World!\n"
     ]
    }
   ],
   "source": [
    "count = 5 # start at 5\n",
    "\n",
    "while count >=1:\n",
    "    print (count)\n",
    "    count = count - 1\n",
    "    \n",
    "print(\"Hello World!\")"
   ]
  },
  {
   "cell_type": "markdown",
   "metadata": {},
   "source": [
    "### Infinite Loops and the `break` Statement"
   ]
  },
  {
   "cell_type": "markdown",
   "metadata": {},
   "source": [
    "The break statement is used to jump out of a loop. "
   ]
  },
  {
   "cell_type": "markdown",
   "metadata": {},
   "source": [
    "#### Write a program that keeps taking input from a user, prints it,  until the user inputs the magic input \"MSBA\". Once the user input \"MSBA\", then the program prints out \"You are a winner!\", and stops."
   ]
  },
  {
   "cell_type": "code",
   "execution_count": 4,
   "metadata": {},
   "outputs": [
    {
     "name": "stdout",
     "output_type": "stream",
     "text": [
      "> Hello!\n",
      "Hello!\n",
      "> Canada\n",
      "Canada\n",
      "> MSBA\n",
      "You are a winner!\n"
     ]
    }
   ],
   "source": [
    "while True:\n",
    "    line = input(\"> \")\n",
    "    if line ==\"MSBA\":\n",
    "        print(\"You are a winner!\")\n",
    "        break\n",
    "    print(line)\n"
   ]
  },
  {
   "cell_type": "markdown",
   "metadata": {},
   "source": [
    "### Finishing Iterations with `continue`"
   ]
  },
  {
   "cell_type": "markdown",
   "metadata": {},
   "source": [
    "Sometimes you are in an iteration of a loop and want to finish the current iteration and immediatly jump to the next iteration. In that case you can use the `continue` statement to skip the next iteration without finishing the body of the loop for the current statement. "
   ]
  },
  {
   "cell_type": "markdown",
   "metadata": {},
   "source": [
    "#### Update the previous code so that the program keeps taking input from the user until they get the input \"MSBA\", however, it treats lines that start with the hash character (#) as lines not to be printed (kind of like Python comments)"
   ]
  },
  {
   "cell_type": "code",
   "execution_count": 5,
   "metadata": {},
   "outputs": [
    {
     "name": "stdout",
     "output_type": "stream",
     "text": [
      "> Hello!\n",
      "Hello!\n",
      "> # I am a comment.. don't print me\n",
      "> Canda\n",
      "Canda\n",
      "> MSBA\n",
      "You are a winner!\n"
     ]
    }
   ],
   "source": [
    "while True:\n",
    "    line = input(\"> \")\n",
    "    if line ==\"MSBA\":\n",
    "        print(\"You are a winner!\")\n",
    "        break\n",
    "    if line[0] == \"#\":\n",
    "        continue\n",
    "    print(line)"
   ]
  },
  {
   "cell_type": "markdown",
   "metadata": {},
   "source": [
    "### Using `for` Loops"
   ]
  },
  {
   "cell_type": "markdown",
   "metadata": {},
   "source": [
    "The following for loop prints \"Hello World!\" 5 times. The `range()` function creates number of integers (whole numbers) to generate, starting from zero. eg. `range(3) == [0, 1, 2]`."
   ]
  },
  {
   "cell_type": "code",
   "execution_count": 6,
   "metadata": {},
   "outputs": [
    {
     "name": "stdout",
     "output_type": "stream",
     "text": [
      "Hello, World!\n",
      "Hello, World!\n",
      "Hello, World!\n",
      "Hello, World!\n",
      "Hello, World!\n"
     ]
    }
   ],
   "source": [
    "for count in range(5):\n",
    "    print(\"Hello, World!\")"
   ]
  },
  {
   "cell_type": "markdown",
   "metadata": {},
   "source": [
    "The following chunck of code wishes happy new year to 3 of my friends:"
   ]
  },
  {
   "cell_type": "code",
   "execution_count": 7,
   "metadata": {},
   "outputs": [
    {
     "name": "stdout",
     "output_type": "stream",
     "text": [
      "Happy New Year, Hilary\n",
      "Happy New Year, Robertas\n",
      "Happy New Year, Lily\n"
     ]
    }
   ],
   "source": [
    "friends = [\"Hilary\", \"Robertas\", \"Lily\"] #list \n",
    "\n",
    "for name in friends: #looping through the list of 3 people. \n",
    "    print(\"Happy New Year,\",name)"
   ]
  },
  {
   "cell_type": "markdown",
   "metadata": {},
   "source": [
    "#### Write a function `repeat(count)`, that takes an argument `count` from the user and prints \"Hello, World\" `count` times. "
   ]
  },
  {
   "cell_type": "code",
   "execution_count": 8,
   "metadata": {
    "collapsed": true
   },
   "outputs": [],
   "source": [
    "def repeat(count):\n",
    "    for i in range(count):\n",
    "        print(\"Hello, world!\")\n",
    "        \n"
   ]
  },
  {
   "cell_type": "code",
   "execution_count": 9,
   "metadata": {},
   "outputs": [
    {
     "name": "stdout",
     "output_type": "stream",
     "text": [
      "4\n",
      "Hello, world!\n",
      "Hello, world!\n",
      "Hello, world!\n",
      "Hello, world!\n"
     ]
    }
   ],
   "source": [
    "count = int(input())\n",
    "repeat(count)"
   ]
  },
  {
   "cell_type": "markdown",
   "metadata": {},
   "source": [
    "#### Write a program that takes numeric input from the user, and prints the sum of all previous input until the user input is 999, then the program stops. e.g. \n",
    "\n",
    "`>1`\n",
    "\n",
    "`1`\n",
    "\n",
    "`>2`\n",
    "\n",
    "`3`\n",
    "\n",
    "`>4`\n",
    "\n",
    "`7`\n",
    "\n",
    "`>999`\n"
   ]
  },
  {
   "cell_type": "code",
   "execution_count": 10,
   "metadata": {},
   "outputs": [
    {
     "name": "stdout",
     "output_type": "stream",
     "text": [
      "5\n",
      "5.0\n",
      "4\n",
      "9.0\n",
      "6\n",
      "15.0\n",
      "999\n"
     ]
    }
   ],
   "source": [
    "sum = 0\n",
    "while True:\n",
    "    value = float(input())\n",
    "    if value == 999:\n",
    "        break\n",
    "    sum = sum + value\n",
    "    print(sum)\n",
    "    "
   ]
  },
  {
   "cell_type": "markdown",
   "metadata": {},
   "source": [
    "#### Write a program that returns the minimum of a given list of numbers. Don't use Python's built-in functions."
   ]
  },
  {
   "cell_type": "code",
   "execution_count": 11,
   "metadata": {},
   "outputs": [
    {
     "name": "stdout",
     "output_type": "stream",
     "text": [
      "The minimun is:  2\n"
     ]
    }
   ],
   "source": [
    "mylist = [4, 6, 2, 90, 19]\n",
    "\n",
    "smallest = mylist[0] # initialize the minimum to be the first element in the list for now\n",
    "\n",
    "for num in mylist:\n",
    "    if num < smallest:\n",
    "        smallest = num\n",
    "\n",
    "print(\"The minimun is: \", smallest)"
   ]
  },
  {
   "cell_type": "code",
   "execution_count": null,
   "metadata": {
    "collapsed": true
   },
   "outputs": [],
   "source": []
  },
  {
   "cell_type": "code",
   "execution_count": null,
   "metadata": {
    "collapsed": true
   },
   "outputs": [],
   "source": []
  }
 ],
 "metadata": {
  "kernelspec": {
   "display_name": "Python 3",
   "language": "python",
   "name": "python3"
  },
  "language_info": {
   "codemirror_mode": {
    "name": "ipython",
    "version": 3
   },
   "file_extension": ".py",
   "mimetype": "text/x-python",
   "name": "python",
   "nbconvert_exporter": "python",
   "pygments_lexer": "ipython3",
   "version": "3.6.3"
  }
 },
 "nbformat": 4,
 "nbformat_minor": 2
}
