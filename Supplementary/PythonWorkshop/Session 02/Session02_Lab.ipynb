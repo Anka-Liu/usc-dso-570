{
 "cells": [
  {
   "cell_type": "markdown",
   "metadata": {},
   "source": [
    "# Session 02: LAB"
   ]
  },
  {
   "cell_type": "markdown",
   "metadata": {},
   "source": [
    "1. Write a program that counts down from five and then says \"Hello World\" once it is done from the countdown.\n",
    "\n",
    "2. Write a program that keeps taking input from a user, prints it,  until the user inputs the magic input \"MSBA\". Once the user input \"MSBA\", then the program prints out \"You are a winner!\", and stops.\n",
    "\n",
    "3. Update the previous code so that the program keeps taking input from the user until they get the input \"MSBA\", however, it treats lines that start with the hash character (#) as lines not to be printed (kind of like Python comments)\n",
    "\n",
    "4. Write a function `repeat(count)`, that takes an argument `count` from the user and prints \"Hello, World\" `count` times.\n",
    "\n",
    "5. Write a program that takes numeric input from the user, and prints the sum of all previous input until the user input is 999, then the program stops.\n",
    "\n",
    "6. Write a program that returns the minimum of a given list of numbers. Don't use Python's built-in functions.\n",
    "\n",
    "7. Write a function `count_a(word)` that counts and returns the number of \"a\" in a given string.\n",
    "8. Rewrite the function the computes the average of a list of numbers entered by the user using a list.\n",
    "9. (Homework) Write a Python function that checks if a given string is a palindrome. e.g. \"radar\" is palindrom because if you read it backwords, it is still radar. (\"eye\", \"12321\", \"A nut for a jar of tuna\").\n"
   ]
  },
  {
   "cell_type": "code",
   "execution_count": null,
   "metadata": {
    "collapsed": true
   },
   "outputs": [],
   "source": []
  }
 ],
 "metadata": {
  "kernelspec": {
   "display_name": "Python 3",
   "language": "python",
   "name": "python3"
  },
  "language_info": {
   "codemirror_mode": {
    "name": "ipython",
    "version": 3
   },
   "file_extension": ".py",
   "mimetype": "text/x-python",
   "name": "python",
   "nbconvert_exporter": "python",
   "pygments_lexer": "ipython3",
   "version": "3.6.3"
  }
 },
 "nbformat": 4,
 "nbformat_minor": 2
}
