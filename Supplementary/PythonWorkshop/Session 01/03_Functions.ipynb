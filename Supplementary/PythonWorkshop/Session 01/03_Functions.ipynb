{
 "cells": [
  {
   "cell_type": "markdown",
   "metadata": {},
   "source": [
    "# Functions"
   ]
  },
  {
   "cell_type": "markdown",
   "metadata": {},
   "source": [
    "A fucntion is a named sequence of statements that performs a computation. A function could be either already defined (built-in) in a programming language (e.g. print()), or you can define your own function and"
   ]
  },
  {
   "cell_type": "markdown",
   "metadata": {},
   "source": [
    "### Examples of Built-in Functions"
   ]
  },
  {
   "cell_type": "code",
   "execution_count": 1,
   "metadata": {},
   "outputs": [
    {
     "data": {
      "text/plain": [
       "5"
      ]
     },
     "execution_count": 1,
     "metadata": {},
     "output_type": "execute_result"
    }
   ],
   "source": [
    "min(30, 5, 7)"
   ]
  },
  {
   "cell_type": "code",
   "execution_count": 2,
   "metadata": {},
   "outputs": [
    {
     "data": {
      "text/plain": [
       "'y'"
      ]
     },
     "execution_count": 2,
     "metadata": {},
     "output_type": "execute_result"
    }
   ],
   "source": [
    "max(\"This is a Python workshop\")"
   ]
  },
  {
   "cell_type": "code",
   "execution_count": 3,
   "metadata": {},
   "outputs": [
    {
     "data": {
      "text/plain": [
       "6"
      ]
     },
     "execution_count": 3,
     "metadata": {},
     "output_type": "execute_result"
    }
   ],
   "source": [
    "len(\"Python\")"
   ]
  },
  {
   "cell_type": "markdown",
   "metadata": {},
   "source": [
    "### Random Numbers"
   ]
  },
  {
   "cell_type": "code",
   "execution_count": 4,
   "metadata": {},
   "outputs": [
    {
     "name": "stdout",
     "output_type": "stream",
     "text": [
      "0.9420782336639401\n"
     ]
    }
   ],
   "source": [
    "import random # import the library random to generate random numbers\n",
    "\n",
    "x = random.random()  # returns a random float between 0 and 1\n",
    "print(x)"
   ]
  },
  {
   "cell_type": "code",
   "execution_count": 5,
   "metadata": {},
   "outputs": [
    {
     "name": "stdout",
     "output_type": "stream",
     "text": [
      "0.7608862622892321\n"
     ]
    }
   ],
   "source": [
    "# Another way of defining libraries\n",
    "\n",
    "import random as rdm # giving the library an alias\n",
    "\n",
    "x = rdm.random()\n",
    "print(x)"
   ]
  },
  {
   "cell_type": "code",
   "execution_count": 6,
   "metadata": {},
   "outputs": [
    {
     "data": {
      "text/plain": [
       "8"
      ]
     },
     "execution_count": 6,
     "metadata": {},
     "output_type": "execute_result"
    }
   ],
   "source": [
    "# randint() takes two parameters \"low\" and \"high\" and returns an integer \n",
    "# between \"low\" and \"high\"\n",
    "\n",
    "rdm.randint(3, 12)\n",
    "# or\n",
    "random.randint(3,12)"
   ]
  },
  {
   "cell_type": "code",
   "execution_count": 7,
   "metadata": {},
   "outputs": [
    {
     "data": {
      "text/plain": [
       "8"
      ]
     },
     "execution_count": 7,
     "metadata": {},
     "output_type": "execute_result"
    }
   ],
   "source": [
    "# we can choose an element from a given sequence at random\n",
    "\n",
    "# define the sequence\n",
    "t = [1,5, 8, 10, 20]\n",
    "rdm.choice(t)"
   ]
  },
  {
   "cell_type": "markdown",
   "metadata": {},
   "source": [
    "### Creating New Functions"
   ]
  },
  {
   "cell_type": "code",
   "execution_count": 8,
   "metadata": {
    "collapsed": true
   },
   "outputs": [],
   "source": [
    "# A function definition specifies the name of the function followed by a sequence of\n",
    "# statements that execute when the function is called.\n",
    "\n",
    "def print_me():\n",
    "    print(\"My name is Adele\")"
   ]
  },
  {
   "cell_type": "code",
   "execution_count": 9,
   "metadata": {},
   "outputs": [
    {
     "name": "stdout",
     "output_type": "stream",
     "text": [
      "My name is Adele\n"
     ]
    }
   ],
   "source": [
    "# call the function print_me()\n",
    "\n",
    "print_me()"
   ]
  },
  {
   "cell_type": "code",
   "execution_count": 10,
   "metadata": {
    "collapsed": true
   },
   "outputs": [],
   "source": [
    "# Update the print_me() function to print a string given as an argument\n",
    "\n",
    "def print_me(toprint): #toprint is an argument\n",
    "    print(toprint)"
   ]
  },
  {
   "cell_type": "code",
   "execution_count": 11,
   "metadata": {},
   "outputs": [
    {
     "name": "stdout",
     "output_type": "stream",
     "text": [
      "My name is Beyonce\n"
     ]
    }
   ],
   "source": [
    "print_me(\"My name is Beyonce\")"
   ]
  },
  {
   "cell_type": "markdown",
   "metadata": {},
   "source": [
    "### Creating Functions that returns a value"
   ]
  },
  {
   "cell_type": "markdown",
   "metadata": {},
   "source": [
    "The previous function print_me() is called a \"void\" function because it is not return a value. It is simply performing an action (printing), but not returning a value.\n",
    "\n",
    "#### Suppose that we want to create a new function that takes two arguments \"a\", and \"b\", and returns the double of their sum i.e. 2*(a+b). Let's call this function \"bing()\"."
   ]
  },
  {
   "cell_type": "code",
   "execution_count": 12,
   "metadata": {
    "collapsed": true
   },
   "outputs": [],
   "source": [
    "def bing(a, b):\n",
    "    result = 2*(a+b)\n",
    "    return result \n",
    "\n",
    "# if we don't have the return statemnet, the value of the result \n",
    "# will not be returned after the function is done computations"
   ]
  },
  {
   "cell_type": "code",
   "execution_count": 13,
   "metadata": {},
   "outputs": [
    {
     "data": {
      "text/plain": [
       "10"
      ]
     },
     "execution_count": 13,
     "metadata": {},
     "output_type": "execute_result"
    }
   ],
   "source": [
    "bing(2, 3)"
   ]
  },
  {
   "cell_type": "code",
   "execution_count": 14,
   "metadata": {},
   "outputs": [
    {
     "name": "stdout",
     "output_type": "stream",
     "text": [
      "18\n"
     ]
    }
   ],
   "source": [
    "# Now we can save the returned value in a variable\n",
    "\n",
    "x = bing(4,5)\n",
    "print(x)"
   ]
  },
  {
   "cell_type": "markdown",
   "metadata": {},
   "source": [
    "### Exercises"
   ]
  },
  {
   "cell_type": "markdown",
   "metadata": {},
   "source": [
    "#### Rewrite your pay computation with time-and-a-half for overtime and create a function called \"computepay\" which takes two parameters (hours and rate)."
   ]
  },
  {
   "cell_type": "code",
   "execution_count": 15,
   "metadata": {},
   "outputs": [
    {
     "name": "stdout",
     "output_type": "stream",
     "text": [
      "Enter Hours: 3\n",
      "Enter Rate: 15\n",
      "Pay: 45.00\n",
      "Pay: 45.0\n",
      "Pay: 45.0\n"
     ]
    }
   ],
   "source": [
    "import sys\n",
    "\n",
    "try:\n",
    "    hours = float(input(\"Enter Hours: \"))\n",
    "    rate = float(input(\"Enter Rate: \"))\n",
    "except:\n",
    "    print(\"Please enter valid input...\")\n",
    "    sys.exit(1)\n",
    "\n",
    "\n",
    "def computepay(hours, rate):\n",
    "    if hours > 40:\n",
    "        overtime_hours = hours - 40  # hours over 40\n",
    "        hours -= overtime_hours  # regular rate hours\n",
    "        overtime_pay = overtime_hours * rate * 1.5\n",
    "        return (hours * rate) + overtime_pay\n",
    "    else:\n",
    "        return (hours * rate)\n",
    "\n",
    "pay = computepay(hours, rate)\n",
    "    \n",
    "print(\"Pay: %.2f\" % pay) \n",
    "\n",
    "# OR \n",
    "print(\"Pay: \" + str(pay))\n",
    "\n",
    "# OR \n",
    "print(\"Pay: {}\".format(pay))"
   ]
  },
  {
   "cell_type": "code",
   "execution_count": null,
   "metadata": {
    "collapsed": true
   },
   "outputs": [],
   "source": []
  }
 ],
 "metadata": {
  "kernelspec": {
   "display_name": "Python 3",
   "language": "python",
   "name": "python3"
  },
  "language_info": {
   "codemirror_mode": {
    "name": "ipython",
    "version": 3
   },
   "file_extension": ".py",
   "mimetype": "text/x-python",
   "name": "python",
   "nbconvert_exporter": "python",
   "pygments_lexer": "ipython3",
   "version": "3.6.3"
  }
 },
 "nbformat": 4,
 "nbformat_minor": 2
}
