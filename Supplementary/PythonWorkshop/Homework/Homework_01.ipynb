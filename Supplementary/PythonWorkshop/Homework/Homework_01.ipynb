{
 "cells": [
  {
   "cell_type": "markdown",
   "metadata": {},
   "source": [
    "# Homework 01"
   ]
  },
  {
   "cell_type": "markdown",
   "metadata": {},
   "source": [
    "#### 1. Write a program that read an integer, n. For all non-negative integers i < n, print square of i. See the sample for details.\n",
    "\n",
    "**Sample Input**\n",
    "\n",
    "* 5\n",
    "\n",
    "**Sample Output**\n",
    "\n",
    "* 0\n",
    "* 1\n",
    "* 4\n",
    "* 9\n",
    "* 16"
   ]
  },
  {
   "cell_type": "markdown",
   "metadata": {},
   "source": [
    "#### 2. Write a program to prompt for a score between 0 and 100. If the score is out of range print an error (\"Bad Score\"). If the score is between 0 and 100, print a grade using the following table:\n",
    "\n",
    "|Score  | Grade|\n",
    "| ----- |-----|\n",
    "|>= 90  |   A |\n",
    "|>= 80  |   B |\n",
    "|>= 70  |   C |\n",
    "|>= 60  |   D |\n",
    "|< 60   |   F |\n"
   ]
  },
  {
   "cell_type": "markdown",
   "metadata": {
    "collapsed": true
   },
   "source": [
    "#### 3. We add a Leap Day on February 29, almost every four years. The leap day is an extra, or intercalary day and we add it to the shortest month of the year, February. \n",
    "\n",
    "In the Gregorian calendar three criteria must be taken into account to identify leap years:\n",
    "\n",
    "* The year can be evenly divided by 4, is a leap year, unless:\n",
    "* The year can be evenly divided by 100, it is NOT a leap year, unless:\n",
    "* The year is also evenly divisible by 400. Then it is a leap year.\n",
    "\n",
    "This means that in the Gregorian calendar, the years 2000 and 2400 are leap years, while 1800, 1900, 2100, 2200, 2300 and 2500 are NOT leap years.\n",
    "\n",
    "**Task** \n",
    "You are given the year, and you have to write a function to check if the year is leap or not.\n",
    "\n",
    "**Input Format**\n",
    "\n",
    "Read y, the year that needs to be checked.\n",
    "\n",
    "**Output Format**\n",
    "\n",
    "Your function must return a boolean value (True/False)\n",
    "\n",
    "**Sample Input**\n",
    "\n",
    "1990\n",
    "\n",
    "**Sample Output**\n",
    "\n",
    "False\n",
    "\n",
    "**Explanation**\n",
    "\n",
    "1990 is not a multiple of 4 hence it's not a leap year."
   ]
  },
  {
   "cell_type": "code",
   "execution_count": null,
   "metadata": {
    "collapsed": true
   },
   "outputs": [],
   "source": []
  }
 ],
 "metadata": {
  "kernelspec": {
   "display_name": "Python 3",
   "language": "python",
   "name": "python3"
  },
  "language_info": {
   "codemirror_mode": {
    "name": "ipython",
    "version": 3
   },
   "file_extension": ".py",
   "mimetype": "text/x-python",
   "name": "python",
   "nbconvert_exporter": "python",
   "pygments_lexer": "ipython3",
   "version": "3.6.3"
  }
 },
 "nbformat": 4,
 "nbformat_minor": 2
}
