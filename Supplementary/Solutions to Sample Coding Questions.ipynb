{
 "cells": [
  {
   "cell_type": "markdown",
   "metadata": {},
   "source": [
    "# Solutions to Sample Coding Questions\n",
    "\n",
    "## Solution to Sample Question 1\n",
    "\n",
    "**Part 1. (10 points)** Predict the output of the following code, which is similar to the RM2 policy in Lab 2."
   ]
  },
  {
   "cell_type": "code",
   "execution_count": 3,
   "metadata": {},
   "outputs": [
    {
     "name": "stdout",
     "output_type": "stream",
     "text": [
      "160\n"
     ]
    }
   ],
   "source": [
    "import numpy as np\n",
    "data=np.array([100,70,50,30,200])\n",
    "order=np.array([4,0,1,2,3])\n",
    "price=60\n",
    "left=3\n",
    "tot=0\n",
    "for element in data[order.argsort()]:\n",
    "    if element>=price:\n",
    "        tot+=price\n",
    "        left-=1\n",
    "    if left==2:\n",
    "        price=100\n",
    "    elif left==1:\n",
    "        price=150\n",
    "    elif left==0:\n",
    "        break\n",
    "print(tot)"
   ]
  },
  {
   "cell_type": "markdown",
   "metadata": {},
   "source": [
    "To understand what's going on, you can print each step of the above code to have the computer help you take baby steps to work out everything line by line. Also you can watch last part of the video on the review session on 2/22 for a walk-through.\n",
    "\n",
    "Note that the first `if` statement, `if element>=price`, along with the next two indented lines, is one block. The next group of `if left==2` followed by two `elif` statements are one block. The two blocks are executed one after another, with no relationship in between. On the other hand, the first `elif` statement is only checked if the first `if left==2` statement does not hold. The second `elif` is checked only if the `if` and the first `elif` does not hold. `elif` stands for \"else if\"."
   ]
  },
  {
   "cell_type": "markdown",
   "metadata": {},
   "source": [
    "**Part 2. (15 points)**\n",
    "\n",
    "**Completed Solution:**\n"
   ]
  },
  {
   "cell_type": "code",
   "execution_count": null,
   "metadata": {},
   "outputs": [],
   "source": [
    "from scipy.stats import bernoulli,poisson\n",
    "import numpy as np\n",
    "\n",
    "def generateScenario():\n",
    "    x=bernoulli(p=0.3).rvs()\n",
    "    if x==1:\n",
    "        return poisson(mu=100).rvs(size=8)\n",
    "    else:\n",
    "        return poisson(mu=45).rvs(size=8)\n",
    "    \n",
    "def simulateScenario(data,inventory):\n",
    "    i=0\n",
    "    for demand in data:\n",
    "        inventory-=demand\n",
    "        if inventory<=0:\n",
    "            break\n",
    "        i+=1\n",
    "    return i\n",
    "\n",
    "inventory=400\n",
    "dataset=[generateScenario() for i in range(1000)]\n",
    "values=[simulateScenario(data,inventory) for data in dataset]\n",
    "import matplotlib.pyplot as plt\n",
    "plt.hist(values,bins=range(10),density=True)\n",
    "plt.title('Distribution of weeks before tickets sell out')\n",
    "plt.ylabel('Probability')\n",
    "plt.xlabel('Week in which ticket sells out')\n",
    "plt.show()"
   ]
  },
  {
   "cell_type": "code",
   "execution_count": 59,
   "metadata": {},
   "outputs": [
    {
     "data": {
      "image/png": "[encoded data removed]",
      "text/plain": [
       "<matplotlib.figure.Figure at 0x1c5149d7e48>"
      ]
     },
     "metadata": {},
     "output_type": "display_data"
    }
   ],
   "source": [
    "# Expected output when complete."
   ]
  },
  {
   "cell_type": "markdown",
   "metadata": {},
   "source": [
    "## Solution to Sample Question 2\n",
    "\n",
    "**Part 1. (10 points)** Predict the output of the following code "
   ]
  },
  {
   "cell_type": "code",
   "execution_count": 4,
   "metadata": {},
   "outputs": [
    {
     "name": "stdout",
     "output_type": "stream",
     "text": [
      "4\n"
     ]
    }
   ],
   "source": [
    "import numpy as np\n",
    "\n",
    "def f(x):\n",
    "    x[1:]=x[:-1]\n",
    "    x[0]=0\n",
    "    s=np.sum(x)\n",
    "    x[0]=max(0,15-s)\n",
    "    return x\n",
    "\n",
    "print(f(np.array([3,8,2]))[0])"
   ]
  },
  {
   "cell_type": "markdown",
   "metadata": {},
   "source": [
    "**Part 2. (15 points)** \n"
   ]
  },
  {
   "cell_type": "code",
   "execution_count": 5,
   "metadata": {},
   "outputs": [
    {
     "name": "stdout",
     "output_type": "stream",
     "text": [
      "On day 1, 0 incoming patient(s) is rejected.\n",
      "On day 2, 1 incoming patient(s) is rejected.\n",
      "On day 3, 3 incoming patient(s) is rejected.\n",
      "On day 4, 2 incoming patient(s) is rejected.\n",
      "On day 5, 0 incoming patient(s) is rejected.\n",
      "On day 6, 1 incoming patient(s) is rejected.\n",
      "Total number of rejected patients is 7\n"
     ]
    }
   ],
   "source": [
    "import numpy as np\n",
    "\n",
    "def simulate(data,beds,stay):\n",
    "    pipeline=np.zeros(stay,dtype=int)\n",
    "    totRejected=0\n",
    "    day=1\n",
    "    for demand in data:\n",
    "        \n",
    "        # BEGIN\n",
    "        pipeline[1:]=pipeline[:-1]\n",
    "        pipeline[0]=0\n",
    "        occupied=sum(pipeline)\n",
    "        openBeds=max(0,beds-occupied)\n",
    "        admitted=min(openBeds,demand)\n",
    "        pipeline[0]=admitted\n",
    "        # End\n",
    "        \n",
    "        rejected=demand-admitted\n",
    "        print('On day {0}, {1} incoming patient(s) is rejected.'.format(day,rejected))\n",
    "        totRejected+=rejected\n",
    "        day+=1\n",
    "    return totRejected\n",
    "\n",
    "data=[6,10,3,8,4,6]\n",
    "stay=3              \n",
    "beds=15\n",
    "ans=simulate(data,beds,stay)        \n",
    "print('Total number of rejected patients is', ans)\n",
    "        "
   ]
  },
  {
   "cell_type": "markdown",
   "metadata": {},
   "source": [
    "## Solution to Sample Question 3\n",
    "\n",
    "**Part 1: (10 points)** \n",
    "Predict the output of the following code.\n"
   ]
  },
  {
   "cell_type": "code",
   "execution_count": 6,
   "metadata": {},
   "outputs": [
    {
     "name": "stdout",
     "output_type": "stream",
     "text": [
      "[3, 6, 3, 12, 9]\n"
     ]
    }
   ],
   "source": [
    "def f(x):\n",
    "    return 3*x\n",
    "\n",
    "x=np.array([3,6,2,10])\n",
    "y=np.array([5,4,2,9])\n",
    "a=np.sum(x-y)\n",
    "b=np.sum(x>y)\n",
    "c=np.sum(x<y)\n",
    "d=len(x)\n",
    "e=np.sum(np.maximum(x-y,0))\n",
    "l=[f(x) for x in [a,b,c,d,e]]\n",
    "print(l)"
   ]
  },
  {
   "cell_type": "markdown",
   "metadata": {},
   "source": [
    "**Part 2: (15 points)**\n"
   ]
  },
  {
   "cell_type": "code",
   "execution_count": 1,
   "metadata": {},
   "outputs": [
    {
     "name": "stdout",
     "output_type": "stream",
     "text": [
      "The profit for A is strictly larger than B with probability 20%\n",
      "The expected profit for A minus the expected profit for B is -0.4\n",
      "The standard deviation in the difference in expected profit is 2.94\n",
      "On days when profit for A is larger, it is larger on average by 5.0\n"
     ]
    }
   ],
   "source": [
    "import numpy as np\n",
    "\n",
    "def simulateScenario(profitA,profitB):\n",
    "    \n",
    "    # BEGIN\n",
    "    numDays=len(profitA)\n",
    "    numBigger=np.sum(profitA>profitB)     # a) Compute number of days A is bigger\n",
    "    avgDiff=np.average(profitA-profitB) # b) compute difference in mean\n",
    "    diff=profitA-profitB                 # c) compute average gain conditional on A is bigger\n",
    "    if numBigger==0:\n",
    "        avgGain=np.nan\n",
    "    else:\n",
    "        avgGain=np.sum(np.maximum(diff,0))/numBigger\n",
    "    stdDiff=np.std(diff)\n",
    "    prob=numBigger/numDays\n",
    "    # END\n",
    "    \n",
    "    return prob,avgDiff,stdDiff,avgGain\n",
    "\n",
    "profitA=np.array([10,5,8,4,6])\n",
    "profitB=np.array([11,8,3,7,6])\n",
    "prob,avgDiff,stdDiff,avgGainCondBigger=simulateScenario(profitA,profitB)\n",
    "\n",
    "print('The profit for A is strictly larger than B with probability {0:.0%}'.format(prob))\n",
    "print('The expected profit for A minus the expected profit for B is',avgDiff)\n",
    "print('The standard deviation in the difference in expected profit is {0:.2f}'.format(stdDiff))\n",
    "print('On days when profit for A is larger, it is larger on average by',avgGainCondBigger)\n"
   ]
  }
 ],
 "metadata": {
  "kernelspec": {
   "display_name": "Python 3",
   "language": "python",
   "name": "python3"
  },
  "language_info": {
   "codemirror_mode": {
    "name": "ipython",
    "version": 3
   },
   "file_extension": ".py",
   "mimetype": "text/x-python",
   "name": "python",
   "nbconvert_exporter": "python",
   "pygments_lexer": "ipython3",
   "version": "3.6.3"
  }
 },
 "nbformat": 4,
 "nbformat_minor": 2
}
