{
 "cells": [
  {
   "cell_type": "markdown",
   "metadata": {},
   "source": [
    "**The following is version A of the Exam. Version B is very similar, except the choices are shuffled in Q1, and the numbers are slightly changed in Q4 a). See the Exam solutions for the differences.**\n",
    "\n",
    "# Q1. Identifying Fishy Statements (15 points)\n",
    "\n",
    "**i) (5 points)** Let $X$ and $Y$ be independent Bernoulli distributed random variables with $p=0.6$. In other words,\n",
    "$$X = \\begin{cases} 1 & \\text{ with probability $.6$} \\\\ 0 & \\text{ with probability $.4$} \\end{cases}$$\n",
    "and $Y$ follows the same distribution. Let $Z = X+Y$. **Which of the following statements is FALSE?**\n",
    "\n",
    "A. $Z$ follows a binomial distribution. <br>\n",
    "B. The expected value of $Z$ is $1.2$. <br>\n",
    "C. $Z$ is independent of $X$. <br>\n",
    "E. $Z$ has 3 possible outcomes.<br>\n",
    "\n",
    "**ii) (5 points)** Let $X_1$, $X_2$, and $X_3$ be the weekly demand in three different stores. Each random variable has mean $100$ and standard deviation $30$, and the random variables are independent of one another. Let $Z=\\frac{1}{3}(X_1+X_2+X_3)$. **Which of the following statements is FALSE?**\n",
    "\n",
    "A. The expected value of $Z$ is $100$. <br>\n",
    "B. The standard deviation of $Z$ is $30$. <br>\n",
    "C. The histogram of 100,000 samples of $Z$ can look very different from a bell curve. <br>\n",
    "D. A sample of the random variable $Z$ can exceed $500$. <br>\n",
    "\n",
    "**iii) (5 points)** Marquis is a senior manager at an online retail website who is in charge of the overall pricing strategy. He would like to apply optimization modeling in his job. **Which of the following modeling choices would NOT make sense under any situation?**\n",
    "\n",
    "A. Using customer demand as a decision variable. <br>\n",
    "B. Setting the objective to maximize the company's market share instead of profit.<br>\n",
    "C. Having more constraints than decision variables.<br>\n",
    "D. Having a domain that includes only two feasible solutions.<br>\n"
   ]
  },
  {
   "cell_type": "markdown",
   "metadata": {},
   "source": [
    "# Q2. Value of Additional Information (28 Points)\n",
    "\n",
    "**a) (6 points)** Lydia is an investor who must choose to invest in one of two possible ventures: a safe venture that will succeed for sure, or a risky venture that may succeed or fail. She cannot go back to the safe venture if she chooses the risky one. The value of the safe venture is normalized to zero. The value from the risky venture is 10 if the venture succeeds, and the value is -10 if it fails. The probability that the risky venture succeeds is 40%. She would like to maximize her expected value. **Which of the two ventures should she choose and what is the optimal expected value she can obtain?**\n",
    "\n",
    "**b) (10 points)** Suppose that Lydia can conduct a pilot study that gives her additional information about the prospect of the risky venture. The pilot study would return either a positive or a negative result. If the risky venture is one that would eventually succeed, the pilot study would return a positive result with 80% probability. Similarly, if the risky venture is one that would eventually fail, the pilot study would return a negative result with 80% probability. **Calculate the following quantities:**\n",
    "\n",
    "- i) the probability that the pilot study returns a positive result.\n",
    "- ii) the probability that the venture succeeds when the pilot study returns a positive result.\n",
    "- iii) the probability that the venture succeeds when the pilot study returns a negative result.\n",
    "\n",
    "**c) (10 points)** Suppose that Lydia can conduct the pilot study before committing to one of the two ventures. Construct a decision tree to help Lydia find her optimal strategy for responding to the result of the pilot study. Compare the expected value of this strategy with her optimal expected value without the pilot study from part a). **How much should Lydia be willing to pay for this pilot study?** \n",
    "\n"
   ]
  },
  {
   "cell_type": "markdown",
   "metadata": {},
   "source": [
    "# Q3. Inferring from Purchase Behavior (28 Points)\n",
    "\n",
    "**For the following question, you are allowed to write your answers either as mathematical expressions or as Python code. If you choose to write mathematical expressions, you must define every quantity you refer to; if you choose to write Python code, you must import every module you use. If you like, you can break the expression into multiple lines and use intermediate variables.**\n",
    "\n",
    "Blaise owns a store selling a certain product. His market research team categorizes potential customers into two segments, A and B. They estimate that on average, 30% of customers are of segment A, and 70% customers are of segment B. (However, the actual proportion of your customers each day who are of segment A may vary from day to day, as there are random fluctuations.) They further estimate that the maximum willingness to pay of a segment A customer is normally distriuted with mean 150 and standard deviation 30, while the maximum willingness to pay of a segment B customer is normally distributed with mean 120 and standard deviation 40. Suppose Blaise prices his product at 160 dollars and that he has more than enough inventory. \n",
    "\n",
    "**a) (6 points)** Let variables $buyProbA$, and $buyProbB$ denote the the purchase probabilities of a segment A customer and a segment B customer respectively. (You can assume that a customer purchases a product if and only if his/her willingness to pay is at least 160 dollars.) **Write mathematical expressions or Python code that calculates these two variables.** \n",
    "\n",
    "\n",
    "$buyProbA=$\n",
    "\n",
    "$buyProbB=$\n",
    "\n",
    "\n",
    "**b) (12 points)** Let variable $probSoldToA$ denote the probability that a randomly chosen customer who purchased the product is of segment A. **Write a mathematical expression or Python code that calculates the variable $prob$.** You can use the two variables from part a) in your expression.\n",
    "\n",
    "$probSoldToA=$\n",
    "\n",
    "\n",
    "\n",
    "**c) (10 points)** The market research team estimates that each segment A customer who purchased your product would later return it with 20% probability, and each segment B customer would return it with 1% probability. Let variable $probOneReturn$ denote the probability that a randomly chosen customer who purchased the product would return it, and let $probManyReturn$ denote the probability that out of 1000 customers who purchased the product, more than 100 later return it. **Write mathematical expressions or Python code that calculate $probOneReturn$ and $probManyReturn$.**\n",
    "\n",
    "$probOneReturn=$\n",
    "\n",
    "$probManyReturn=$\n"
   ]
  },
  {
   "cell_type": "markdown",
   "metadata": {},
   "source": [
    "# Q4.   (29 Points)\n",
    "\n",
    "**a) (9 points)**\n",
    "Predict the output of the following code, and write your answer in the space provided after the code."
   ]
  },
  {
   "cell_type": "code",
   "execution_count": null,
   "metadata": {},
   "outputs": [],
   "source": [
    "x=np.array([3,4,6,2])\n",
    "y=np.array([8,0,2,3])\n",
    "b=np.array([1,1,0,0])\n",
    "\n",
    "comb=x*b+y*(1-b)\n",
    "\n",
    "lis=[]\n",
    "for i in range(len(x)):\n",
    "    if b[i]:\n",
    "        lis.append(x[i])\n",
    "    else:\n",
    "        lis.append(y[i])\n",
    "        \n",
    "ans1=np.sum(np.maximum(x-3,0))\n",
    "ans2=np.sum(comb)\n",
    "ans3=np.average(lis)\n",
    "\n",
    "print('ans1 =', int(ans1))\n",
    "print('ans2 =', int(ans2))\n",
    "print('ans3 =', int(ans3))"
   ]
  },
  {
   "cell_type": "code",
   "execution_count": 73,
   "metadata": {},
   "outputs": [
    {
     "name": "stdout",
     "output_type": "stream",
     "text": [
      "\n",
      "ans1 =\n",
      "\n",
      "\n",
      "ans2 =\n",
      "\n",
      "\n",
      "ans3 =\n",
      "\n",
      "\n"
     ]
    }
   ],
   "source": [
    "# Fill in your predictions below."
   ]
  },
  {
   "cell_type": "markdown",
   "metadata": {},
   "source": [
    "**b) (20 points)**\n",
    "Nadeem is a car salesperson who faces the following incentive scheme at the dealership where he works. For each month, there is a \"target profit\" that the dealership sets for the month. If he makes more profit for the dealership that month than the target, then he receives a 20% bonus on the amount of profit over the target. However, if he does not meet the target, he receives zero.  For example, if the target is 80,000 and he makes 100,000 of profit, then he receives a 4,000 bonus that month. However, if he makes 70,000, then he receives zero bonus that month. Nadeem would like to understand the distribution of his monthly bonus.\n",
    "\n",
    "Nadeem estimates that the number of cars he sells is binomial distributed with $n=200$ and $p=0.2$. On every car he sells, the amount of profit he makes for the dealership is normally distributed with mean 3000 and standard deviation 1000. (The customer negotiation process is highly variable; on rare occassions, he ends up selling a car with negative profit.)\n",
    "\n",
    "**Write a function named ```generateBonus``` with two inputs:**\n",
    "\n",
    "- `monthlyTarget`: the target profit each month.\n",
    "- `numSamples`: the number of samples to return.\n",
    "\n",
    "**The function should return either a list or a numpy array of samples of his monthly bonus.** The length of the list or array should equal to `numSamples`. As an illustration, after you are done, Jakes should be able to use your code as follows, to plot a histogram of 1000 samples of his monthly bonus when the target monthly profit is 80,000. You should write your code in the space provided after the histogram and import any packages you need. "
   ]
  },
  {
   "cell_type": "code",
   "execution_count": 2,
   "metadata": {},
   "outputs": [
    {
     "data": {
      "image/png": "[encoded data removed]",
      "text/plain": [
       "<matplotlib.figure.Figure at 0x1c7763f97f0>"
      ]
     },
     "metadata": {},
     "output_type": "display_data"
    }
   ],
   "source": [
    "import matplotlib.pyplot as plt\n",
    "np.random.seed(0)\n",
    "samples=generateBonus(monthlyTarget=80000,numSamples=1000)\n",
    "plt.hist(samples,bins=range(0,40000,5000))\n",
    "plt.title('Histogram of monthly bonus (1000 samples)')\n",
    "plt.xlabel('Monthly bonus')\n",
    "plt.ylabel('Frequency')\n",
    "plt.show()"
   ]
  },
  {
   "cell_type": "code",
   "execution_count": 1,
   "metadata": {},
   "outputs": [],
   "source": [
    "# WRITE YOUR CODE IN THE SPACE BELOW\n",
    "\n",
    "\n",
    "\n",
    "\n"
   ]
  },
  {
   "cell_type": "markdown",
   "metadata": {},
   "source": []
  }
 ],
 "metadata": {
  "kernelspec": {
   "display_name": "Python 3",
   "language": "python",
   "name": "python3"
  },
  "language_info": {
   "codemirror_mode": {
    "name": "ipython",
    "version": 3
   },
   "file_extension": ".py",
   "mimetype": "text/x-python",
   "name": "python",
   "nbconvert_exporter": "python",
   "pygments_lexer": "ipython3",
   "version": "3.6.3"
  }
 },
 "nbformat": 4,
 "nbformat_minor": 2
}
