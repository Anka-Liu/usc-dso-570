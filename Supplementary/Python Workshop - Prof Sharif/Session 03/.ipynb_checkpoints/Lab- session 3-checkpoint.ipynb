{
 "cells": [
  {
   "cell_type": "markdown",
   "metadata": {},
   "source": [
    "# Lab: Session 3"
   ]
  },
  {
   "cell_type": "markdown",
   "metadata": {},
   "source": [
    "1. Import `pandas`, `numpy`, and `matplotlib` Python libraries.\n",
    "2. Import the `sales_data.csv` dataset into Python. Make sure that the date is parsed correctly.\n",
    "3. Create some summary statistics for the sales data.\n",
    "4. Create a histogram to understand the distribution of purchasing patterns\n",
    "5. Create a new dataset from the sales data, by having only `name`, `ext.price` columns for all transactions.\n",
    "6. How many transactions did each customer have?\n",
    "7. How much did each customer pay in total? Arrange the dataframe in increasing order.\n",
    "8. Create a bar chart to show the distribution of total sales for all customers.\n",
    "9. Create a table that shows the total sales for each customer by category.\n",
    "10. Visualize the data in the previous question, using a stacked bar graph.\n",
    "11. Create a line plot to check if we have certain months that are busier than others.\n",
    "\n",
    "### Pivot Tables\n",
    "\n",
    "12. Import the `sales-funnel.xlsx` dataset into Python.\n",
    "13. Create a pivot table that shows you the number of units sold by each rep for each product.\n",
    "14. Create a pivot table that shows you the total quantity for each rep, and the max number of units per transaction\n",
    "15. Create a pivot table that shows you the number of units sold by each rep for each product \n",
    "16. Create a pivot table that shows you the number of units sold by each rep for each product  with the margins of the table showing\n",
    "\n"
   ]
  },
  {
   "cell_type": "code",
   "execution_count": null,
   "metadata": {
    "collapsed": true
   },
   "outputs": [],
   "source": []
  }
 ],
 "metadata": {
  "kernelspec": {
   "display_name": "Python 3",
   "language": "python",
   "name": "python3"
  },
  "language_info": {
   "codemirror_mode": {
    "name": "ipython",
    "version": 3
   },
   "file_extension": ".py",
   "mimetype": "text/x-python",
   "name": "python",
   "nbconvert_exporter": "python",
   "pygments_lexer": "ipython3",
   "version": "3.6.3"
  }
 },
 "nbformat": 4,
 "nbformat_minor": 2
}
