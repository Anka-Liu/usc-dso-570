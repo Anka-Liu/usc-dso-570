{
 "cells": [
  {
   "cell_type": "markdown",
   "metadata": {},
   "source": [
    "# Session 01: LAB"
   ]
  },
  {
   "cell_type": "markdown",
   "metadata": {},
   "source": [
    "1. Write a program to prompt the user for hours and rate per hour to compute gross pay.\n",
    "\n",
    "2. Write a program to prompt the user for an integerand then checks if it is odd or even.\n",
    "\n",
    "3. Rewrite your pay computation to give the employee 1.5 times the hourly rate for hours worked above 40 hours.\n",
    "\n",
    "4. Rewrite your pay program using try and except so that your program handles non-numeric input gracefully by printing a message and exiting the program.\n",
    "\n",
    "5. Suppose that we want to create a new function that takes two arguments `a`, and `b`, and returns the double of their sum i.e. `2*(a+b)`. Let's call this function `bing()`.\n",
    "\n",
    "6. Rewrite your pay computation with time-and-a-half for overtime and create a function called `computepay()` which takes two parameters (hours and rate).\n",
    "\n",
    "7. Write a program that counts down from five and then says \"Hello World\" once it is done from the countdown.\n",
    "\n",
    "8. Write a program that keeps taking input from a user, prints it,  until the user inputs the magic input \"MSBA\". Once the user input \"MSBA\", then the program prints out \"You are a winner!\", and stops.\n",
    "\n",
    "9. Update the previous code so that the program keeps taking input from the user until they get the input \"MSBA\", however, it treats lines that start with the hash character (#) as lines not to be printed (kind of like Python comments)\n",
    "\n",
    "10. Write a function `repeat(count)`, that takes an argument `count` from the user and prints \"Hello, World\" `count` times.\n",
    "\n",
    "11. Write a program that takes numeric input from the user, and prints the sum of all previous input until the user input is 999, then the program stops.\n",
    "\n",
    "12. Write a program that returns the minimum of a given list of numbers. Don't use Python's built-in functions."
   ]
  },
  {
   "cell_type": "code",
   "execution_count": null,
   "metadata": {
    "collapsed": true
   },
   "outputs": [],
   "source": []
  }
 ],
 "metadata": {
  "kernelspec": {
   "display_name": "Python 3",
   "language": "python",
   "name": "python3"
  },
  "language_info": {
   "codemirror_mode": {
    "name": "ipython",
    "version": 3
   },
   "file_extension": ".py",
   "mimetype": "text/x-python",
   "name": "python",
   "nbconvert_exporter": "python",
   "pygments_lexer": "ipython3",
   "version": "3.6.3"
  }
 },
 "nbformat": 4,
 "nbformat_minor": 2
}
