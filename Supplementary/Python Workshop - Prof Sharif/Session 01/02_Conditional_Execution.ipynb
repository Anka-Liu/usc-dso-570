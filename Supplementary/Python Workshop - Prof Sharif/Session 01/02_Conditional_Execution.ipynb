{
 "cells": [
  {
   "cell_type": "markdown",
   "metadata": {},
   "source": [
    "# Conditional Execution"
   ]
  },
  {
   "cell_type": "markdown",
   "metadata": {},
   "source": [
    "### If Statements"
   ]
  },
  {
   "cell_type": "code",
   "execution_count": 1,
   "metadata": {},
   "outputs": [
    {
     "name": "stdout",
     "output_type": "stream",
     "text": [
      "x is positive\n"
     ]
    }
   ],
   "source": [
    "# The boolean expression after the if statement is called the condition. \n",
    "# We end the if statement with a colon character (:) and the line(s) after \n",
    "# the if statement are indented.\n",
    "\n",
    "x = 3\n",
    "\n",
    "if x>0:\n",
    "    print(\"x is positive\")"
   ]
  },
  {
   "cell_type": "markdown",
   "metadata": {},
   "source": [
    "### If-Else statement"
   ]
  },
  {
   "cell_type": "code",
   "execution_count": 2,
   "metadata": {},
   "outputs": [
    {
     "name": "stdout",
     "output_type": "stream",
     "text": [
      "x is positive\n"
     ]
    }
   ],
   "source": [
    "# Alternative Execution\n",
    "\n",
    "if x >0:\n",
    "    print(\"x is positive\")\n",
    "else:\n",
    "    print(\"x is not positive\")"
   ]
  },
  {
   "cell_type": "markdown",
   "metadata": {},
   "source": [
    "#### Write a program to prompt the user for an integerand then checks if it is odd or even."
   ]
  },
  {
   "cell_type": "code",
   "execution_count": 3,
   "metadata": {},
   "outputs": [
    {
     "name": "stdout",
     "output_type": "stream",
     "text": [
      "Enter an integer: 3\n",
      "3 is odd\n"
     ]
    }
   ],
   "source": [
    "num = int(input(\"Enter an integer: \"))\n",
    "\n",
    "if num%2 == 0: \n",
    "    print(str(num) + \" is even\")\n",
    "else: \n",
    "    print(str(num) + \" is odd\")\n"
   ]
  },
  {
   "cell_type": "markdown",
   "metadata": {},
   "source": [
    "### Nested If Statement"
   ]
  },
  {
   "cell_type": "code",
   "execution_count": 4,
   "metadata": {},
   "outputs": [
    {
     "name": "stdout",
     "output_type": "stream",
     "text": [
      "x is less than y\n"
     ]
    }
   ],
   "source": [
    "# try different values for x and y\n",
    "\n",
    "x = 3\n",
    "y = 7\n",
    "\n",
    "if x == y:\n",
    "    print(\"x and y are equal\")\n",
    "else:\n",
    "    if x < y:\n",
    "        print(\"x is less than y\")\n",
    "    else:\n",
    "        print(\"x is greater than y\")"
   ]
  },
  {
   "cell_type": "markdown",
   "metadata": {},
   "source": [
    "### Elif Statements"
   ]
  },
  {
   "cell_type": "code",
   "execution_count": 5,
   "metadata": {
    "scrolled": true
   },
   "outputs": [
    {
     "name": "stdout",
     "output_type": "stream",
     "text": [
      "x is negative\n"
     ]
    }
   ],
   "source": [
    "# Must be after an if statement. elif statement statement allows you to check multiple \n",
    "# expressions for True and execute a block of code as soon as one of the conditions evaluates to True.\n",
    "# Similar to the else, the elif statement is optional. However, unlike else, for which there \n",
    "# can be at most one statement, there can be an arbitrary number of elif statements following an if.\n",
    "\n",
    "x = -3 \n",
    "\n",
    "if x >0:\n",
    "    print(\"x is positive\")\n",
    "elif x < 0: #elif needs a condition\n",
    "    print(\"x is negative\")\n",
    "else:\n",
    "    print(\"x is zero\")"
   ]
  },
  {
   "cell_type": "markdown",
   "metadata": {},
   "source": [
    "### Catching Exceptions using try and except"
   ]
  },
  {
   "cell_type": "code",
   "execution_count": 6,
   "metadata": {},
   "outputs": [
    {
     "name": "stdout",
     "output_type": "stream",
     "text": [
      "Enter Fahrenheit Temprature:\n",
      "72\n",
      "The temperature in cel: 22.22222222222222\n"
     ]
    }
   ],
   "source": [
    "# This is useful, when you want to make sure that the input is correct\n",
    "# Python starts by executing the sequence of statements in the try block. \n",
    "# If all goes well, it skips the except block and proceeds.\n",
    "# If an exception occurs in the try block, Python jumps to the except block\n",
    "\n",
    "inp = input(\"Enter Fahrenheit Temprature:\\n\")\n",
    "\n",
    "try:\n",
    "    fahr = float(inp)\n",
    "    cel = (fahr - 32) *(5/9)\n",
    "    print(\"The temperature in cel: \" + str(cel))\n",
    "except:\n",
    "    print(\"Please enter a number!\")\n"
   ]
  },
  {
   "cell_type": "markdown",
   "metadata": {},
   "source": [
    "#### 1. Rewrite your pay computation to give the employee 1.5 times the hourly rate for hours worked above 40 hours."
   ]
  },
  {
   "cell_type": "code",
   "execution_count": 7,
   "metadata": {},
   "outputs": [
    {
     "name": "stdout",
     "output_type": "stream",
     "text": [
      "Enter Hours: 3\n",
      "Enter Rate: 15\n",
      "Pay: 45.0\n"
     ]
    }
   ],
   "source": [
    "hours = float(input(\"Enter Hours: \"))\n",
    "rate = float(input(\"Enter Rate: \"))\n",
    "\n",
    "# check if the empolyee had overtime hours, and compute pay\n",
    "if hours > 40:\n",
    "    overtime_hours = hours - 40\n",
    "    overtime_pay = overtime_hours * rate * 1.5\n",
    "    final_pay = ((hours - overtime_hours) * rate) + overtime_pay\n",
    "else: # if the emplpoyee did not have overtime\n",
    "    final_pay = (hours * rate)\n",
    "\n",
    "print(\"Pay: \" + str(final_pay))"
   ]
  },
  {
   "cell_type": "markdown",
   "metadata": {},
   "source": [
    "#### 2. Rewrite your pay program using try and except so that your program handles non-numeric input gracefully by printing a message and exiting the program."
   ]
  },
  {
   "cell_type": "code",
   "execution_count": 8,
   "metadata": {},
   "outputs": [
    {
     "name": "stdout",
     "output_type": "stream",
     "text": [
      "Enter Hours: 48\n",
      "Enter Rate: 15\n",
      "Pay: 780.0\n"
     ]
    }
   ],
   "source": [
    "import sys # needed for the function sys.exit() to stope the execution\n",
    "\n",
    "try:\n",
    "    hours = float(input(\"Enter Hours: \"))\n",
    "    rate = float(input(\"Enter Rate: \"))\n",
    "except:\n",
    "    print(\"please enter a number\")\n",
    "    sys.exit(1)\n",
    "\n",
    "# check if the empolyee had overtime hours, and compute pay\n",
    "if hours > 40:\n",
    "    overtime_hours = hours - 40\n",
    "    overtime_pay = overtime_hours * rate * 1.5\n",
    "    final_pay = ((hours - overtime_hours) * rate) + overtime_pay\n",
    "else: # if the emplpoyee did not have overtime\n",
    "    final_pay = (hours * rate)\n",
    "\n",
    "print(\"Pay: \" + str(final_pay))"
   ]
  },
  {
   "cell_type": "code",
   "execution_count": null,
   "metadata": {
    "collapsed": true
   },
   "outputs": [],
   "source": []
  }
 ],
 "metadata": {
  "kernelspec": {
   "display_name": "Python 3",
   "language": "python",
   "name": "python3"
  },
  "language_info": {
   "codemirror_mode": {
    "name": "ipython",
    "version": 3
   },
   "file_extension": ".py",
   "mimetype": "text/x-python",
   "name": "python",
   "nbconvert_exporter": "python",
   "pygments_lexer": "ipython3",
   "version": "3.6.3"
  }
 },
 "nbformat": 4,
 "nbformat_minor": 2
}
