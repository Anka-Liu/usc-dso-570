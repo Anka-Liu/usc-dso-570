{
 "cells": [
  {
   "cell_type": "markdown",
   "metadata": {},
   "source": [
    "# Installing Python 3.6 via Miniconda\n",
    "\n",
    "We will be using Python 3.6 in this class. The easiest way to install this is through the Anaconda distribution, which is platform independent so avoids many potential tricky IT issues. However, the Anaconda installer takes much space and a while to download, since it installs 150 packages at once. I would recommend instead using the **Miniconda** installer, which installs the basic Python environment, and you can later install the specific packages you need. (However, if you have a lot of disk space and don't mind the large download, you can skip the rest of this section and following the [full Anaconda installation instructions here](https://conda.io/docs/user-guide/install/index.html#regular-installation).)\n",
    "\n",
    "To install using Miniconda (skip this if you already installed the full Anaconda by following instructions above), download the installer for your Operating System (OS) here: https://conda.io/miniconda.html.\n",
    "\n",
    "Then run the installer and keep the default options. (Choose the default location for copying files and to add this location to your \"PATH\" environment variable.)\n",
    "\n",
    "- For windows, simply double click the .exe file downloaded, and choose the two options above.\n",
    "- For Mac or Linux, you would open a Terminal and type in the following, replacing the capitalized terms with the correct location. Then, go through the user agreement and type yes for everything.\n",
    "\n",
    "```\n",
    "cd PATH_WHERE_YOU_DOWNLOADED_THE_FILE_STARTING_WITH_SLASH\n",
    "bash NAME_OF_FILE_YOU_DOWNLOADED\n",
    "```\n",
    "\n",
    "For example, depending on where you downloaded the installer, this might be\n",
    "``` \n",
    "cd /home/user/pengshi/Downloads/\n",
    "bash Miniconda3-latest-MacOSX-x86_64.sh\n",
    "```\n",
    "\n",
    "After this, launch the **Anaconda Prompt** if you are using Windows and type the following command to install the packages we will frequently use. If you are using Mac or Linux, you would have to close the terminal where you installed and start a new one, then type in the following commands into the terminal.\n",
    "\n",
    "```\n",
    "conda install numpy scipy matplotlib pandas jupyter ipython spyder\n",
    "```\n",
    "\n",
    "In the above command, the first two words are standard syntax. Starting from `numpy`, we are listing a set of Python packages to install. Each package is separated by a space. This is the Syntax for installing future Python packages. The first four packages, numpy, scipy, matplotlib and pandas and bread and butter for manipulating data sets. Jupyter is what is used to create notebooks similar to the one you are reading now. IPython is an interactive shell that is better than the original \"Python\" shell. Spyder is a Interactive Development Environment (IDE), which is an editor for code, that I recommend (similar to RStudio for R), but there are many IDEs that you can use instead. Here is a [webpage suggesting the pros and cons of popular IDEs for Python](https://www.datacamp.com/community/tutorials/data-science-python-ide). \n",
    "\n",
    "To start running Python, type one of `ipython`, `spyder`, or `jupyter notebook` into the Anaconda prompt (on Windows) or any terminal (on Linux or Mac).  The first activates the IPython shell. You can begin typing Python commands and seeing the output. The second is the graphical interface. The third launches a web browser. And you can start a new Python 3 shell and the interface looks like what you see now. You can test your installation by running the code.\n"
   ]
  },
  {
   "cell_type": "code",
   "execution_count": 2,
   "metadata": {},
   "outputs": [
    {
     "name": "stdout",
     "output_type": "stream",
     "text": [
      "My first Python code\n"
     ]
    }
   ],
   "source": [
    "print (\"My first Python code\")"
   ]
  },
  {
   "cell_type": "markdown",
   "metadata": {},
   "source": [
    "## Installing Graphviz (Optional)\n",
    "\n",
    "This is a software package you need in order to visualize decision trees using the code provided in the course notes. \n",
    "\n",
    "In the Anaconda prompt in Windows and in any termina in Mac or Linux, type the following set of commands:\n",
    "\n",
    "```\n",
    "conda install -c conda-forge graphviz python-graphviz\n",
    "```\n",
    "\n",
    "To test whether this works, go into IPython or Jupyter notebook and type the following, and see if there's an error message.\n",
    "```python\n",
    "from graphviz import Graph\n",
    "g=Graph('test')\n",
    "g.node('a')\n",
    "g.node('b')\n",
    "g.edge('a','b')\n",
    "g.view()\n",
    "```"
   ]
  },
  {
   "cell_type": "markdown",
   "metadata": {},
   "source": [
    "## Installing Gurobi\n",
    "\n",
    "Later in the course, we will need to install Gurobi, which is the most powerful software in the world currently for solving large-scale linear optimization and mixed-integer optimization problems. (We will learn about these topics in the second half of the course.) \n",
    "\n",
    "To do this, follow the instructions here: http://www.gurobi.com/downloads/get-anaconda. This webpage tells you to type into the Anaconda prompt,\n",
    "\n",
    "```conda config --add channels http://conda.anaconda.org/gurobi```\n",
    "\n",
    "Followed by\n",
    "\n",
    "```conda install gurobi```\n",
    "\n",
    "If the first line above results in a Permission denied error, an alternative way (replacing the above two lines is to execute the following single command\n",
    "\n",
    "```\n",
    "conda install -c http://conda.anaconda.org/gurobi gurobi\n",
    "```\n",
    "\n",
    "Afterward, close your Anaconda prompt or terminal and start a new one and you should be good to go. \n",
    "\n",
    "To use Gurobi, you need to obtain a **free academic license** for your computer. To do so, following steps 2-4 of the instructions on the following webpage, under the heading \"***To obtain a free named-user academic license***\": http://www.gurobi.com/academia/for-universities. \n",
    "\n",
    "Note that after registering on the Gurobi website using your USC.edu email address, you also need to run the command `grbgetkey` followed by the license key, as indicated in step 4 of the above instructions. \n",
    "\n",
    "To test if you successfully installed, enter IPython and type the following and see if there is an error.\n",
    "\n",
    "```import gurobi\n",
    "```\n"
   ]
  }
 ],
 "metadata": {
  "kernelspec": {
   "display_name": "Python 3",
   "language": "python",
   "name": "python3"
  },
  "language_info": {
   "codemirror_mode": {
    "name": "ipython",
    "version": 3
   },
   "file_extension": ".py",
   "mimetype": "text/x-python",
   "name": "python",
   "nbconvert_exporter": "python",
   "pygments_lexer": "ipython3",
   "version": "3.6.3"
  }
 },
 "nbformat": 4,
 "nbformat_minor": 2
}
