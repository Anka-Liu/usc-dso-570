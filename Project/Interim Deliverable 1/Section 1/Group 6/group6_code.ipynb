{
 "cells": [
  {
   "cell_type": "markdown",
   "metadata": {},
   "source": [
    "### Group 6 Interim Deliverable Metric Calculation\n",
    "#### DSO 570: Professor Peng Shi\n",
    "#### Due: 3/6/18 by 12:30 p.m."
   ]
  },
  {
   "cell_type": "markdown",
   "metadata": {},
   "source": [
    "First, we imported all relevant datasets for the metric calculation"
   ]
  },
  {
   "cell_type": "code",
   "execution_count": 5,
   "metadata": {
    "collapsed": true
   },
   "outputs": [],
   "source": [
    "import pandas as pd\n",
    "student_course = pd.read_excel('./Blackboard Content/Student_Course_Selection_1516.xlsx', sheetname=0)\n",
    "session_codes = pd.read_excel('./Blackboard Content/Summary_Special_Session_Codes_1516_1617.xlsx', sheetname=0)\n",
    "dept_allocations = pd.read_excel('./Blackboard Content/Department_Allocations_20171.xlsx', sheetname=0)\n",
    "course_enrollment = pd.read_excel('./Blackboard Content/Marshall_Course_Enrollment_1516_1617.xlsx', sheetname=0)\n",
    "room_capacity = pd.read_excel('./Blackboard Content/Marshall_Room_Capacity_Chart.xlsx', sheetname=0)\n",
    "cancelled_courses = pd.read_excel('./Blackboard Content/Cancelled_Courses_1516_1617.xlsx', sheetname=0)"
   ]
  },
  {
   "cell_type": "markdown",
   "metadata": {},
   "source": [
    "Next, we merged the course enrollment and room capacity files to calculate the ratio between the number of students enrolled, and filled capacity. We dropped all classes with non available room size data. This included online courses, international courses, and courses that met in the office."
   ]
  },
  {
   "cell_type": "code",
   "execution_count": 68,
   "metadata": {
    "collapsed": true
   },
   "outputs": [],
   "source": [
    "enrolled = course_enrollment.loc[:,('Reg Count', 'First Room', 'Session', 'Term')] \n",
    "courseRatio = pd.merge(enrolled, room_capacity,  how='left', left_on=['First Room'], right_on = ['Room'])\n",
    "courseRatio = courseRatio.loc[:,('Session', 'Reg Count', 'First Room', 'Room', 'Size', 'Term')]\n",
    "courseRatio = courseRatio.dropna(subset=['Size']) "
   ]
  },
  {
   "cell_type": "markdown",
   "metadata": {},
   "source": [
    "Finally, we calculated the capacity ratio by summing the total enrollments by the total capacity. We did it this way as opposed to averaging the capacity ratio across every course because taking the mean will be skewed by smaller course sizes. The summation method favors the larger courses and thus the greater population. The overall capacity ratio is as follows:"
   ]
  },
  {
   "cell_type": "code",
   "execution_count": 69,
   "metadata": {},
   "outputs": [
    {
     "name": "stdout",
     "output_type": "stream",
     "text": [
      "The current capacity ratio is: 0.6821620705722878\n"
     ]
    }
   ],
   "source": [
    "capacityRatio = courseRatio.loc[:,'Reg Count'].sum()/courseRatio.loc[:,'Size'].sum()\n",
    "print('The current capacity ratio is: {0}'.format(capacityRatio))"
   ]
  },
  {
   "cell_type": "markdown",
   "metadata": {},
   "source": [
    "When examining the trend of the capacity ratio across terms, we see that summer terms utilize capacity the best while there is a slight decrease from the fall to the spring term. We can see that both tabularly and graphically."
   ]
  },
  {
   "cell_type": "code",
   "execution_count": 82,
   "metadata": {},
   "outputs": [
    {
     "data": {
      "text/html": [
       "<div>\n",
       "<style>\n",
       "    .dataframe thead tr:only-child th {\n",
       "        text-align: right;\n",
       "    }\n",
       "\n",
       "    .dataframe thead th {\n",
       "        text-align: left;\n",
       "    }\n",
       "\n",
       "    .dataframe tbody tr th {\n",
       "        vertical-align: top;\n",
       "    }\n",
       "</style>\n",
       "<table border=\"1\" class=\"dataframe\">\n",
       "  <thead>\n",
       "    <tr style=\"text-align: right;\">\n",
       "      <th></th>\n",
       "      <th>CapacityRatio</th>\n",
       "      <th>Term</th>\n",
       "    </tr>\n",
       "  </thead>\n",
       "  <tbody>\n",
       "    <tr>\n",
       "      <th>0</th>\n",
       "      <td>0.711227</td>\n",
       "      <td>20153</td>\n",
       "    </tr>\n",
       "    <tr>\n",
       "      <th>1</th>\n",
       "      <td>0.657928</td>\n",
       "      <td>20161</td>\n",
       "    </tr>\n",
       "    <tr>\n",
       "      <th>2</th>\n",
       "      <td>0.621945</td>\n",
       "      <td>20162</td>\n",
       "    </tr>\n",
       "    <tr>\n",
       "      <th>3</th>\n",
       "      <td>0.701406</td>\n",
       "      <td>20163</td>\n",
       "    </tr>\n",
       "    <tr>\n",
       "      <th>4</th>\n",
       "      <td>0.669520</td>\n",
       "      <td>20171</td>\n",
       "    </tr>\n",
       "    <tr>\n",
       "      <th>5</th>\n",
       "      <td>0.659848</td>\n",
       "      <td>20172</td>\n",
       "    </tr>\n",
       "  </tbody>\n",
       "</table>\n",
       "</div>"
      ],
      "text/plain": [
       "   CapacityRatio   Term\n",
       "0       0.711227  20153\n",
       "1       0.657928  20161\n",
       "2       0.621945  20162\n",
       "3       0.701406  20163\n",
       "4       0.669520  20171\n",
       "5       0.659848  20172"
      ]
     },
     "execution_count": 82,
     "metadata": {},
     "output_type": "execute_result"
    }
   ],
   "source": [
    "capacityRatio = courseRatio.groupby(['Term'])['Reg Count'].sum()/courseRatio.groupby(['Term'])['Size'].sum()\n",
    "capacityRatio = pd.DataFrame({'Term':capacityRatio.index, 'CapacityRatio':capacityRatio.values})\n",
    "capacityRatio"
   ]
  },
  {
   "cell_type": "code",
   "execution_count": 88,
   "metadata": {},
   "outputs": [
    {
     "data": {
      "image/png": "[encoded data removed]",
      "text/plain": [
       "<matplotlib.figure.Figure at 0x226af4180b8>"
      ]
     },
     "metadata": {},
     "output_type": "display_data"
    }
   ],
   "source": [
    "import matplotlib.pyplot as plt\n",
    "import seaborn as sns\n",
    "\n",
    "sns.pointplot(x = 'Term', y = 'CapacityRatio', data = capacityRatio)\n",
    "plt.show()"
   ]
  }
 ],
 "metadata": {
  "kernelspec": {
   "display_name": "Python 3",
   "language": "python",
   "name": "python3"
  },
  "language_info": {
   "codemirror_mode": {
    "name": "ipython",
    "version": 3
   },
   "file_extension": ".py",
   "mimetype": "text/x-python",
   "name": "python",
   "nbconvert_exporter": "python",
   "pygments_lexer": "ipython3",
   "version": "3.6.2"
  }
 },
 "nbformat": 4,
 "nbformat_minor": 2
}
