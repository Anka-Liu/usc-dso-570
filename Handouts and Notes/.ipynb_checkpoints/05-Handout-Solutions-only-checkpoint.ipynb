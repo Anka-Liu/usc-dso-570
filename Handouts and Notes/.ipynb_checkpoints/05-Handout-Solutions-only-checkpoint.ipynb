{
 "cells": [
  {
   "cell_type": "markdown",
   "metadata": {},
   "source": [
    "# Handout for Session 5 (Solutions Only)\n",
    "\n",
    "## 1. Basic Syntax for Python Lists\n",
    "### 1.1 Indexing and slicing"
   ]
  },
  {
   "cell_type": "markdown",
   "metadata": {},
   "source": [
    "**Q1-a:** Create a list of the following objects: `30`, `4.0`, `[3,4]`, `\"Hi\"`.\n",
    "\n",
    "**Q1-b:** Obtain the type of each element of the list."
   ]
  },
  {
   "cell_type": "code",
   "execution_count": 8,
   "metadata": {},
   "outputs": [
    {
     "data": {
      "text/plain": [
       "int"
      ]
     },
     "execution_count": 8,
     "metadata": {},
     "output_type": "execute_result"
    }
   ],
   "source": [
    "t=[30,4.0,[3,4],\"Hi\"]\n",
    "type(t[0])"
   ]
  },
  {
   "cell_type": "code",
   "execution_count": 9,
   "metadata": {},
   "outputs": [
    {
     "data": {
      "text/plain": [
       "float"
      ]
     },
     "execution_count": 9,
     "metadata": {},
     "output_type": "execute_result"
    }
   ],
   "source": [
    "type(t[1])"
   ]
  },
  {
   "cell_type": "code",
   "execution_count": 10,
   "metadata": {},
   "outputs": [
    {
     "data": {
      "text/plain": [
       "list"
      ]
     },
     "execution_count": 10,
     "metadata": {},
     "output_type": "execute_result"
    }
   ],
   "source": [
    "type(t[2])"
   ]
  },
  {
   "cell_type": "code",
   "execution_count": 11,
   "metadata": {},
   "outputs": [
    {
     "data": {
      "text/plain": [
       "str"
      ]
     },
     "execution_count": 11,
     "metadata": {},
     "output_type": "execute_result"
    }
   ],
   "source": [
    "type(t[3])"
   ]
  },
  {
   "cell_type": "markdown",
   "metadata": {},
   "source": [
    "**Q1-c:** Obtain a slice of the list from `30` to `4.0`."
   ]
  },
  {
   "cell_type": "code",
   "execution_count": 12,
   "metadata": {},
   "outputs": [
    {
     "data": {
      "text/plain": [
       "[30, 4.0]"
      ]
     },
     "execution_count": 12,
     "metadata": {},
     "output_type": "execute_result"
    }
   ],
   "source": [
    "t[0:2]"
   ]
  },
  {
   "cell_type": "markdown",
   "metadata": {},
   "source": [
    "**Q1-d:** Obtain the third element `[3,4]` in two different ways, using positive and negative indexing respectively. "
   ]
  },
  {
   "cell_type": "code",
   "execution_count": 13,
   "metadata": {},
   "outputs": [
    {
     "data": {
      "text/plain": [
       "[3, 4]"
      ]
     },
     "execution_count": 13,
     "metadata": {},
     "output_type": "execute_result"
    }
   ],
   "source": [
    "t[2]"
   ]
  },
  {
   "cell_type": "code",
   "execution_count": 14,
   "metadata": {},
   "outputs": [
    {
     "data": {
      "text/plain": [
       "[3, 4]"
      ]
     },
     "execution_count": 14,
     "metadata": {},
     "output_type": "execute_result"
    }
   ],
   "source": [
    "t[-2]"
   ]
  },
  {
   "cell_type": "markdown",
   "metadata": {},
   "source": [
    "**Q1-e:** Find the length of the third element (which is a list as well)."
   ]
  },
  {
   "cell_type": "code",
   "execution_count": 15,
   "metadata": {},
   "outputs": [
    {
     "data": {
      "text/plain": [
       "2"
      ]
     },
     "execution_count": 15,
     "metadata": {},
     "output_type": "execute_result"
    }
   ],
   "source": [
    "len(t[2])"
   ]
  },
  {
   "cell_type": "markdown",
   "metadata": {},
   "source": [
    "**Q1-f:** Check if the integer `4` is in the list. Do the same for the string `'4'`."
   ]
  },
  {
   "cell_type": "code",
   "execution_count": 16,
   "metadata": {},
   "outputs": [
    {
     "data": {
      "text/plain": [
       "True"
      ]
     },
     "execution_count": 16,
     "metadata": {},
     "output_type": "execute_result"
    }
   ],
   "source": [
    "4 in t"
   ]
  },
  {
   "cell_type": "code",
   "execution_count": 17,
   "metadata": {},
   "outputs": [
    {
     "data": {
      "text/plain": [
       "False"
      ]
     },
     "execution_count": 17,
     "metadata": {},
     "output_type": "execute_result"
    }
   ],
   "source": [
    "'4' in t"
   ]
  },
  {
   "cell_type": "markdown",
   "metadata": {},
   "source": [
    "## 1.2 Modifying lists"
   ]
  },
  {
   "cell_type": "markdown",
   "metadata": {},
   "source": [
    "**Q2-a:** Define list `m=[5,4,3]`. Find two ways of adding the elements `2` and `1` to `m`, using `append` and `+` respectively."
   ]
  },
  {
   "cell_type": "code",
   "execution_count": 24,
   "metadata": {},
   "outputs": [
    {
     "data": {
      "text/plain": [
       "[10, 20, 10, int, 2, 1]"
      ]
     },
     "execution_count": 24,
     "metadata": {},
     "output_type": "execute_result"
    }
   ],
   "source": [
    "m=[5,4,3]\n",
    "l.append(2)\n",
    "l.append(1)\n",
    "l"
   ]
  },
  {
   "cell_type": "code",
   "execution_count": 25,
   "metadata": {},
   "outputs": [
    {
     "data": {
      "text/plain": [
       "[5, 4, 3, 2, 1]"
      ]
     },
     "execution_count": 25,
     "metadata": {},
     "output_type": "execute_result"
    }
   ],
   "source": [
    "m=[5,4,3]\n",
    "m=m+[2,1]\n",
    "m"
   ]
  },
  {
   "cell_type": "markdown",
   "metadata": {},
   "source": [
    "**Q2-b:** Modify the list so that the element 2 becomes a string `\"Two\"`."
   ]
  },
  {
   "cell_type": "code",
   "execution_count": 26,
   "metadata": {},
   "outputs": [
    {
     "data": {
      "text/plain": [
       "[5, 4, 3, 'Two', 1]"
      ]
     },
     "execution_count": 26,
     "metadata": {},
     "output_type": "execute_result"
    }
   ],
   "source": [
    "m[3]=\"Two\"\n",
    "m"
   ]
  },
  {
   "cell_type": "markdown",
   "metadata": {},
   "source": [
    "**Q2-c:** Remove the last two elements from the list `m`."
   ]
  },
  {
   "cell_type": "code",
   "execution_count": 27,
   "metadata": {},
   "outputs": [
    {
     "data": {
      "text/plain": [
       "[5, 4, 3]"
      ]
     },
     "execution_count": 27,
     "metadata": {},
     "output_type": "execute_result"
    }
   ],
   "source": [
    "del m[-2:]\n",
    "m"
   ]
  },
  {
   "cell_type": "markdown",
   "metadata": {},
   "source": [
    "## 1.3 For loops and list comprehension"
   ]
  },
  {
   "cell_type": "markdown",
   "metadata": {},
   "source": [
    "**Q3:** Write a function called `squares` with one input parameter `n`. The function should return a list of the first $n$ squares, including 0. You should write two versions of this function, one by building from an empty list, and the other by using list comprehension. "
   ]
  },
  {
   "cell_type": "code",
   "execution_count": 31,
   "metadata": {},
   "outputs": [
    {
     "data": {
      "text/plain": [
       "[0, 1, 4, 9, 16]"
      ]
     },
     "execution_count": 31,
     "metadata": {},
     "output_type": "execute_result"
    }
   ],
   "source": [
    "def squares(n):\n",
    "    l=[]\n",
    "    for i in range(n):\n",
    "        l.append(i*i)\n",
    "    return l\n",
    "\n",
    "squares(5)"
   ]
  },
  {
   "cell_type": "code",
   "execution_count": 32,
   "metadata": {},
   "outputs": [
    {
     "data": {
      "text/plain": [
       "[0, 1, 4, 9, 16]"
      ]
     },
     "execution_count": 32,
     "metadata": {},
     "output_type": "execute_result"
    }
   ],
   "source": [
    "def squares(n):\n",
    "    return [i*i for i in range(n)]\n",
    "\n",
    "squares(5)"
   ]
  },
  {
   "cell_type": "markdown",
   "metadata": {},
   "source": [
    "## 2. Basic Syntax for Python Dictionaries\n",
    "\n",
    "### 2.1 Indexing"
   ]
  },
  {
   "cell_type": "markdown",
   "metadata": {},
   "source": [
    "**Q4-a:** Create a dictionary `name` mapping the numbers from 0 to 3 to their English name. (i.e. 0 should map to `\"zero\"` and `1` should map to `one` and so on.)"
   ]
  },
  {
   "cell_type": "code",
   "execution_count": 41,
   "metadata": {},
   "outputs": [
    {
     "data": {
      "text/plain": [
       "{0: 'zero', 1: 'one', 2: 'two', 3: 'three'}"
      ]
     },
     "execution_count": 41,
     "metadata": {},
     "output_type": "execute_result"
    }
   ],
   "source": [
    "name={0:'zero',1:'one',2:'two',3:'three'}\n",
    "name"
   ]
  },
  {
   "cell_type": "markdown",
   "metadata": {},
   "source": [
    "**Q4-b:** Find the number of elements in the dictionary using `len`."
   ]
  },
  {
   "cell_type": "code",
   "execution_count": 42,
   "metadata": {},
   "outputs": [
    {
     "data": {
      "text/plain": [
       "4"
      ]
     },
     "execution_count": 42,
     "metadata": {},
     "output_type": "execute_result"
    }
   ],
   "source": [
    "len(name)"
   ]
  },
  {
   "cell_type": "markdown",
   "metadata": {},
   "source": [
    "**Q4-c:** Check if 2 is a key is in the dictionary. Check if it is a value."
   ]
  },
  {
   "cell_type": "code",
   "execution_count": 43,
   "metadata": {},
   "outputs": [
    {
     "data": {
      "text/plain": [
       "True"
      ]
     },
     "execution_count": 43,
     "metadata": {},
     "output_type": "execute_result"
    }
   ],
   "source": [
    "2 in name"
   ]
  },
  {
   "cell_type": "code",
   "execution_count": 44,
   "metadata": {},
   "outputs": [
    {
     "data": {
      "text/plain": [
       "False"
      ]
     },
     "execution_count": 44,
     "metadata": {},
     "output_type": "execute_result"
    }
   ],
   "source": [
    "2 in name.values()"
   ]
  },
  {
   "cell_type": "markdown",
   "metadata": {},
   "source": [
    "## 2.2 Modifying"
   ]
  },
  {
   "cell_type": "markdown",
   "metadata": {},
   "source": [
    "**Q5:** Write a function `histogram` with one input argument `values`, which is a list. The function should return a dictionary mapping each unique element in the list to the number of occurences. (Hint: use a `for` loop to go through each `item` in the list and add 1 to the corresponding dictionary value each time.)"
   ]
  },
  {
   "cell_type": "code",
   "execution_count": 51,
   "metadata": {},
   "outputs": [
    {
     "data": {
      "text/plain": [
       "{3: 1, 2: 4, 1: 1}"
      ]
     },
     "execution_count": 51,
     "metadata": {},
     "output_type": "execute_result"
    }
   ],
   "source": [
    "def histogram(values):\n",
    "    ans={}\n",
    "    for item in values:\n",
    "        ans[item]=ans.get(item,0)+1\n",
    "    return ans\n",
    "histogram([3,2,1,2,2,2])"
   ]
  },
  {
   "cell_type": "markdown",
   "metadata": {},
   "source": [
    "## 2.3 For loops and dictionary comprehension"
   ]
  },
  {
   "cell_type": "markdown",
   "metadata": {},
   "source": [
    "**Q6:** Modify the function `squares` so that instead of returning a list, return a dictionary mapping each number between $0$ and $n-1$ to the number squared. You should write two versions of this function, one by building from an empty dictionary, and the other by using dictionary comprehension. "
   ]
  },
  {
   "cell_type": "code",
   "execution_count": 55,
   "metadata": {},
   "outputs": [
    {
     "data": {
      "text/plain": [
       "{0: 0, 1: 1, 2: 4, 3: 9, 4: 16}"
      ]
     },
     "execution_count": 55,
     "metadata": {},
     "output_type": "execute_result"
    }
   ],
   "source": [
    "def squares(n):\n",
    "    d={}\n",
    "    for i in range(n):\n",
    "        d[i]=i*i\n",
    "    return d\n",
    "\n",
    "squares(5)"
   ]
  },
  {
   "cell_type": "code",
   "execution_count": 56,
   "metadata": {},
   "outputs": [
    {
     "data": {
      "text/plain": [
       "{0: 0, 1: 1, 2: 4, 3: 9, 4: 16}"
      ]
     },
     "execution_count": 56,
     "metadata": {},
     "output_type": "execute_result"
    }
   ],
   "source": [
    "def squares(n):\n",
    "    return {i:i*i for i in range(n)}\n",
    "\n",
    "squares(5)"
   ]
  },
  {
   "cell_type": "markdown",
   "metadata": {},
   "source": [
    "## Case 7a: Estimating Demand for a Given Price\n",
    "Write a function `demand` with two input arguments:\n",
    "\n",
    "- `price`: a proposed price for a certain product.\n",
    "- `values`: a list of numbers. Each number represents the willingness to pay for the product from a particular customer.\n",
    "\n",
    "The function should return the number of consumers willing to buy the product at the given price. (Hint: count the number of values greater than or equal to `price`.)"
   ]
  },
  {
   "cell_type": "code",
   "execution_count": 57,
   "metadata": {},
   "outputs": [],
   "source": [
    "def demand(price,values):\n",
    "    count=0\n",
    "    for value in values:\n",
    "        if value>=price:\n",
    "            count+=1\n",
    "    return count"
   ]
  },
  {
   "cell_type": "code",
   "execution_count": 58,
   "metadata": {},
   "outputs": [
    {
     "data": {
      "text/plain": [
       "5"
      ]
     },
     "execution_count": 58,
     "metadata": {},
     "output_type": "execute_result"
    }
   ],
   "source": [
    "price=20\n",
    "values=[32,10,15,18,25,40,50,43]\n",
    "demand(price,values)"
   ]
  },
  {
   "cell_type": "markdown",
   "metadata": {},
   "source": [
    "### Digression: Multiple return values"
   ]
  },
  {
   "cell_type": "code",
   "execution_count": 59,
   "metadata": {},
   "outputs": [
    {
     "name": "stdout",
     "output_type": "stream",
     "text": [
      "sum is 8\n",
      "product is 15\n"
     ]
    }
   ],
   "source": [
    "def f(a,b):\n",
    "    return a+b,a*b\n",
    "\n",
    "s,p=f(5,3)\n",
    "print('sum is',s)\n",
    "print('product is',p)"
   ]
  },
  {
   "cell_type": "markdown",
   "metadata": {},
   "source": [
    "## Case 7b: Optimal Pricing\n",
    "\n",
    "Write a function `optPrice` with two input arguments:\n",
    "\n",
    "- `priceList`: a list of proposed prices.\n",
    "- `values`: as in 7a.\n",
    "\n",
    "The function should iterate through the list of prices, and compute the estimated profit for each price (which equals to the estimated demand from Case 7a multiplied by the price). \n",
    "\n",
    "The function should return two objects: the first is the best price found. The second object is a dictionary mapping each price to the estimated profit for that price. "
   ]
  },
  {
   "cell_type": "code",
   "execution_count": 60,
   "metadata": {},
   "outputs": [],
   "source": [
    "def optPrice(priceList,values):\n",
    "    bestProfit=0\n",
    "    bestPrice=0\n",
    "    dic={}\n",
    "    for price in priceList:\n",
    "        profit=demand(price,values)*price\n",
    "        dic[price]=profit\n",
    "        if profit>bestProfit:\n",
    "            bestProfit=profit\n",
    "            bestPrice=price\n",
    "    return bestPrice, dic"
   ]
  },
  {
   "cell_type": "code",
   "execution_count": 61,
   "metadata": {},
   "outputs": [
    {
     "name": "stdout",
     "output_type": "stream",
     "text": [
      "Best price is 25\n"
     ]
    },
    {
     "data": {
      "text/plain": [
       "{0: 0, 5: 40, 10: 80, 15: 105, 20: 100, 25: 125, 30: 120, 35: 105}"
      ]
     },
     "execution_count": 61,
     "metadata": {},
     "output_type": "execute_result"
    }
   ],
   "source": [
    "priceList=list(range(0,40,5))\n",
    "bestPrice,profit=optPrice(priceList,values)\n",
    "print('Best price is',bestPrice)\n",
    "profit"
   ]
  },
  {
   "cell_type": "markdown",
   "metadata": {},
   "source": [
    "**(Optional):** Modify Case 7b) so that `optPrice` maximizes profit instead of revenue and takes into account production capacity. The function should take in two additional parameters: \n",
    "\n",
    "- `cost` (default 0): the production cost for one unit of the product.\n",
    "- `capacity` (default `1e100`): the maximum number of units that can be sold.\n",
    "\n",
    "The function should evaluate profit as $(price-cost)\\times \\min(demand,capacity)$, and return two objects. The first one being the optimal price found, and the second one being a dictionary mapping each price to each profit."
   ]
  },
  {
   "cell_type": "code",
   "execution_count": 63,
   "metadata": {},
   "outputs": [
    {
     "data": {
      "image/png": "[encoded data removed]",
      "text/plain": [
       "<Figure size 432x288 with 1 Axes>"
      ]
     },
     "metadata": {
      "needs_background": "light"
     },
     "output_type": "display_data"
    }
   ],
   "source": [
    "def optPrice(priceList,values,cost=0,capacity=1e100):\n",
    "    bestProfit=0\n",
    "    bestPrice=0\n",
    "    profit={}\n",
    "    for price in priceList:\n",
    "        profit[price]=min(capacity,demand(price,values))*(price-cost)\n",
    "        if profit[price]>bestProfit:\n",
    "            bestProfit=profit[price]\n",
    "            bestPrice=price\n",
    "    return bestPrice,profit\n",
    "\n",
    "import matplotlib.pyplot as plt\n",
    "bestPrice,profit=optPrice(priceList,values,cost=10,capacity=4)\n",
    "priceList.sort()\n",
    "revenueList=[profit[price] for price in priceList]\n",
    "plt.plot(priceList,revenueList)\n",
    "plt.plot([bestPrice],[profit[bestPrice]],'ro')\n",
    "plt.xlabel('Price')\n",
    "plt.ylabel('Profit')\n",
    "plt.title('Optimal price is '+str(bestPrice)+' with profit '+str(round(profit[price],2)))\n",
    "plt.show()"
   ]
  }
 ],
 "metadata": {
  "kernelspec": {
   "display_name": "Python 3",
   "language": "python",
   "name": "python3"
  },
  "language_info": {
   "codemirror_mode": {
    "name": "ipython",
    "version": 3
   },
   "file_extension": ".py",
   "mimetype": "text/x-python",
   "name": "python",
   "nbconvert_exporter": "python",
   "pygments_lexer": "ipython3",
   "version": "3.7.1"
  }
 },
 "nbformat": 4,
 "nbformat_minor": 2
}
