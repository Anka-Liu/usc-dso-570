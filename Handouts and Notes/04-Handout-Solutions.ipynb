{
 "cells": [
  {
   "cell_type": "markdown",
   "metadata": {},
   "source": [
    "# Session 4 Handout Solutions"
   ]
  },
  {
   "cell_type": "markdown",
   "metadata": {},
   "source": [
    "## 0. Debugging Illustration (Case 6a from last session)"
   ]
  },
  {
   "cell_type": "code",
   "execution_count": 18,
   "metadata": {},
   "outputs": [
    {
     "ename": "TypeError",
     "evalue": "'float' object is not callable",
     "output_type": "error",
     "traceback": [
      "\u001b[1;31m---------------------------------------------------------------------------\u001b[0m",
      "\u001b[1;31mTypeError\u001b[0m                                 Traceback (most recent call last)",
      "\u001b[1;32m<ipython-input-18-41abbd54549f>\u001b[0m in \u001b[0;36m<module>\u001b[1;34m()\u001b[0m\n\u001b[0;32m      6\u001b[0m     \u001b[0mD\u001b[0m\u001b[1;33m=\u001b[0m\u001b[0mdownpay\u001b[0m\u001b[1;33m\u001b[0m\u001b[1;33m\u001b[0m\u001b[0m\n\u001b[0;32m      7\u001b[0m     \u001b[1;32mreturn\u001b[0m \u001b[0mmath\u001b[0m\u001b[1;33m.\u001b[0m\u001b[0mceil\u001b[0m\u001b[1;33m(\u001b[0m\u001b[1;33m-\u001b[0m\u001b[0mmath\u001b[0m\u001b[1;33m.\u001b[0m\u001b[0mlog\u001b[0m\u001b[1;33m(\u001b[0m\u001b[1;36m1\u001b[0m\u001b[1;33m-\u001b[0m\u001b[0mI\u001b[0m\u001b[1;33m(\u001b[0m\u001b[0mT\u001b[0m\u001b[1;33m-\u001b[0m\u001b[0mD\u001b[0m\u001b[1;33m)\u001b[0m\u001b[1;33m/\u001b[0m\u001b[0mM\u001b[0m\u001b[1;33m)\u001b[0m\u001b[1;33m/\u001b[0m\u001b[0mmath\u001b[0m\u001b[1;33m.\u001b[0m\u001b[0mlog\u001b[0m\u001b[1;33m(\u001b[0m\u001b[1;36m1\u001b[0m\u001b[1;33m+\u001b[0m\u001b[0mI\u001b[0m\u001b[1;33m)\u001b[0m\u001b[1;33m)\u001b[0m\u001b[1;33m\u001b[0m\u001b[1;33m\u001b[0m\u001b[0m\n\u001b[1;32m----> 8\u001b[1;33m \u001b[0mnumberMonths\u001b[0m\u001b[1;33m(\u001b[0m\u001b[1;36m500000\u001b[0m\u001b[1;33m,\u001b[0m\u001b[1;36m4000\u001b[0m\u001b[1;33m)\u001b[0m\u001b[1;33m/\u001b[0m\u001b[1;36m12\u001b[0m\u001b[1;33m\u001b[0m\u001b[1;33m\u001b[0m\u001b[0m\n\u001b[0m",
      "\u001b[1;32m<ipython-input-18-41abbd54549f>\u001b[0m in \u001b[0;36mnumberMonths\u001b[1;34m(total, monthly, interest, downpay)\u001b[0m\n\u001b[0;32m      5\u001b[0m     \u001b[0mI\u001b[0m\u001b[1;33m=\u001b[0m\u001b[0minterest\u001b[0m\u001b[1;33m\u001b[0m\u001b[1;33m\u001b[0m\u001b[0m\n\u001b[0;32m      6\u001b[0m     \u001b[0mD\u001b[0m\u001b[1;33m=\u001b[0m\u001b[0mdownpay\u001b[0m\u001b[1;33m\u001b[0m\u001b[1;33m\u001b[0m\u001b[0m\n\u001b[1;32m----> 7\u001b[1;33m     \u001b[1;32mreturn\u001b[0m \u001b[0mmath\u001b[0m\u001b[1;33m.\u001b[0m\u001b[0mceil\u001b[0m\u001b[1;33m(\u001b[0m\u001b[1;33m-\u001b[0m\u001b[0mmath\u001b[0m\u001b[1;33m.\u001b[0m\u001b[0mlog\u001b[0m\u001b[1;33m(\u001b[0m\u001b[1;36m1\u001b[0m\u001b[1;33m-\u001b[0m\u001b[0mI\u001b[0m\u001b[1;33m(\u001b[0m\u001b[0mT\u001b[0m\u001b[1;33m-\u001b[0m\u001b[0mD\u001b[0m\u001b[1;33m)\u001b[0m\u001b[1;33m/\u001b[0m\u001b[0mM\u001b[0m\u001b[1;33m)\u001b[0m\u001b[1;33m/\u001b[0m\u001b[0mmath\u001b[0m\u001b[1;33m.\u001b[0m\u001b[0mlog\u001b[0m\u001b[1;33m(\u001b[0m\u001b[1;36m1\u001b[0m\u001b[1;33m+\u001b[0m\u001b[0mI\u001b[0m\u001b[1;33m)\u001b[0m\u001b[1;33m)\u001b[0m\u001b[1;33m\u001b[0m\u001b[1;33m\u001b[0m\u001b[0m\n\u001b[0m\u001b[0;32m      8\u001b[0m \u001b[0mnumberMonths\u001b[0m\u001b[1;33m(\u001b[0m\u001b[1;36m500000\u001b[0m\u001b[1;33m,\u001b[0m\u001b[1;36m4000\u001b[0m\u001b[1;33m)\u001b[0m\u001b[1;33m/\u001b[0m\u001b[1;36m12\u001b[0m\u001b[1;33m\u001b[0m\u001b[1;33m\u001b[0m\u001b[0m\n",
      "\u001b[1;31mTypeError\u001b[0m: 'float' object is not callable"
     ]
    }
   ],
   "source": [
    "import math\n",
    "def numberMonths(total,monthly,interest=0.0425,downpay=0):\n",
    "    T=total\n",
    "    M=monthly\n",
    "    I=interest\n",
    "    D=downpay\n",
    "    return math.ceil(-math.log(1-I(T-D)/M)/math.log(1+I))\n",
    "numberMonths(500000,4000)/12"
   ]
  },
  {
   "cell_type": "markdown",
   "metadata": {},
   "source": [
    "### A. Recreating the error outside of the function"
   ]
  },
  {
   "cell_type": "code",
   "execution_count": 19,
   "metadata": {},
   "outputs": [
    {
     "ename": "TypeError",
     "evalue": "'float' object is not callable",
     "output_type": "error",
     "traceback": [
      "\u001b[1;31m---------------------------------------------------------------------------\u001b[0m",
      "\u001b[1;31mTypeError\u001b[0m                                 Traceback (most recent call last)",
      "\u001b[1;32m<ipython-input-19-d77348fe2d7e>\u001b[0m in \u001b[0;36m<module>\u001b[1;34m()\u001b[0m\n\u001b[0;32m      3\u001b[0m \u001b[0mI\u001b[0m\u001b[1;33m=\u001b[0m\u001b[1;36m0.0425\u001b[0m\u001b[1;33m\u001b[0m\u001b[1;33m\u001b[0m\u001b[0m\n\u001b[0;32m      4\u001b[0m \u001b[0mD\u001b[0m\u001b[1;33m=\u001b[0m\u001b[1;36m0\u001b[0m\u001b[1;33m\u001b[0m\u001b[1;33m\u001b[0m\u001b[0m\n\u001b[1;32m----> 5\u001b[1;33m \u001b[0mmath\u001b[0m\u001b[1;33m.\u001b[0m\u001b[0mceil\u001b[0m\u001b[1;33m(\u001b[0m\u001b[1;33m-\u001b[0m\u001b[0mmath\u001b[0m\u001b[1;33m.\u001b[0m\u001b[0mlog\u001b[0m\u001b[1;33m(\u001b[0m\u001b[1;36m1\u001b[0m\u001b[1;33m-\u001b[0m\u001b[0mI\u001b[0m\u001b[1;33m(\u001b[0m\u001b[0mT\u001b[0m\u001b[1;33m-\u001b[0m\u001b[0mD\u001b[0m\u001b[1;33m)\u001b[0m\u001b[1;33m/\u001b[0m\u001b[0mM\u001b[0m\u001b[1;33m)\u001b[0m\u001b[1;33m/\u001b[0m\u001b[0mmath\u001b[0m\u001b[1;33m.\u001b[0m\u001b[0mlog\u001b[0m\u001b[1;33m(\u001b[0m\u001b[1;36m1\u001b[0m\u001b[1;33m+\u001b[0m\u001b[0mI\u001b[0m\u001b[1;33m)\u001b[0m\u001b[1;33m)\u001b[0m\u001b[1;33m\u001b[0m\u001b[1;33m\u001b[0m\u001b[0m\n\u001b[0m",
      "\u001b[1;31mTypeError\u001b[0m: 'float' object is not callable"
     ]
    }
   ],
   "source": [
    "T=500000\n",
    "M=4000\n",
    "I=0.0425\n",
    "D=0\n",
    "math.ceil(-math.log(1-I(T-D)/M)/math.log(1+I))"
   ]
  },
  {
   "cell_type": "markdown",
   "metadata": {},
   "source": [
    "### B. Dissecting the line containing the error"
   ]
  },
  {
   "cell_type": "code",
   "execution_count": 20,
   "metadata": {},
   "outputs": [
    {
     "data": {
      "text/plain": [
       "500000"
      ]
     },
     "execution_count": 20,
     "metadata": {},
     "output_type": "execute_result"
    }
   ],
   "source": [
    "T-D"
   ]
  },
  {
   "cell_type": "code",
   "execution_count": 21,
   "metadata": {},
   "outputs": [
    {
     "ename": "TypeError",
     "evalue": "'float' object is not callable",
     "output_type": "error",
     "traceback": [
      "\u001b[1;31m---------------------------------------------------------------------------\u001b[0m",
      "\u001b[1;31mTypeError\u001b[0m                                 Traceback (most recent call last)",
      "\u001b[1;32m<ipython-input-21-1a7a9b0b7ec8>\u001b[0m in \u001b[0;36m<module>\u001b[1;34m()\u001b[0m\n\u001b[1;32m----> 1\u001b[1;33m \u001b[0mI\u001b[0m\u001b[1;33m(\u001b[0m\u001b[0mT\u001b[0m\u001b[1;33m-\u001b[0m\u001b[0mD\u001b[0m\u001b[1;33m)\u001b[0m\u001b[1;33m\u001b[0m\u001b[1;33m\u001b[0m\u001b[0m\n\u001b[0m",
      "\u001b[1;31mTypeError\u001b[0m: 'float' object is not callable"
     ]
    }
   ],
   "source": [
    "I(T-D)"
   ]
  },
  {
   "cell_type": "code",
   "execution_count": 22,
   "metadata": {},
   "outputs": [
    {
     "data": {
      "text/plain": [
       "5.3125"
      ]
     },
     "execution_count": 22,
     "metadata": {},
     "output_type": "execute_result"
    }
   ],
   "source": [
    "I*(T-D)/M"
   ]
  },
  {
   "cell_type": "code",
   "execution_count": 23,
   "metadata": {},
   "outputs": [
    {
     "data": {
      "text/plain": [
       "-4.3125"
      ]
     },
     "execution_count": 23,
     "metadata": {},
     "output_type": "execute_result"
    }
   ],
   "source": [
    "1-I*(T-D)/M"
   ]
  },
  {
   "cell_type": "code",
   "execution_count": 24,
   "metadata": {},
   "outputs": [
    {
     "ename": "ValueError",
     "evalue": "math domain error",
     "output_type": "error",
     "traceback": [
      "\u001b[1;31m---------------------------------------------------------------------------\u001b[0m",
      "\u001b[1;31mValueError\u001b[0m                                Traceback (most recent call last)",
      "\u001b[1;32m<ipython-input-24-4e9cf63ad0b5>\u001b[0m in \u001b[0;36m<module>\u001b[1;34m()\u001b[0m\n\u001b[1;32m----> 1\u001b[1;33m \u001b[0mmath\u001b[0m\u001b[1;33m.\u001b[0m\u001b[0mlog\u001b[0m\u001b[1;33m(\u001b[0m\u001b[1;33m-\u001b[0m\u001b[1;36m4.3125\u001b[0m\u001b[1;33m)\u001b[0m\u001b[1;33m\u001b[0m\u001b[1;33m\u001b[0m\u001b[0m\n\u001b[0m",
      "\u001b[1;31mValueError\u001b[0m: math domain error"
     ]
    }
   ],
   "source": [
    "math.log(-4.3125)"
   ]
  },
  {
   "cell_type": "markdown",
   "metadata": {},
   "source": [
    "### C. Correcting the logic (this time building up one component at a time)"
   ]
  },
  {
   "cell_type": "code",
   "execution_count": 25,
   "metadata": {},
   "outputs": [
    {
     "data": {
      "text/plain": [
       "166"
      ]
     },
     "execution_count": 25,
     "metadata": {},
     "output_type": "execute_result"
    }
   ],
   "source": [
    "T=500000\n",
    "M=4000\n",
    "I=0.0425\n",
    "D=0\n",
    "i=I/12\n",
    "A=i*(T-D)/M\n",
    "top=-math.log(1-A)\n",
    "bottom=math.log(1+i)\n",
    "N=math.ceil(top/bottom)\n",
    "N"
   ]
  },
  {
   "cell_type": "markdown",
   "metadata": {},
   "source": [
    "### D. Putting correct logic back into function"
   ]
  },
  {
   "cell_type": "code",
   "execution_count": 26,
   "metadata": {},
   "outputs": [
    {
     "data": {
      "text/plain": [
       "13.833333333333334"
      ]
     },
     "execution_count": 26,
     "metadata": {},
     "output_type": "execute_result"
    }
   ],
   "source": [
    "import math\n",
    "def numberMonths(total,monthly,interest=0.0425,downpay=0):\n",
    "    T=total\n",
    "    M=monthly\n",
    "    I=interest\n",
    "    D=downpay\n",
    "    i=I/12\n",
    "    A=i*(T-D)/M\n",
    "    top=-math.log(1-A)\n",
    "    bottom=math.log(1+i)\n",
    "    N=math.ceil(top/bottom)\n",
    "    return N\n",
    "numberMonths(500000,4000)/12"
   ]
  },
  {
   "cell_type": "markdown",
   "metadata": {},
   "source": [
    "**(Optional: Shortening the code to work with original named variables directly.)**"
   ]
  },
  {
   "cell_type": "code",
   "execution_count": 27,
   "metadata": {},
   "outputs": [
    {
     "data": {
      "text/plain": [
       "13.833333333333334"
      ]
     },
     "execution_count": 27,
     "metadata": {},
     "output_type": "execute_result"
    }
   ],
   "source": [
    "import math\n",
    "def numberMonths(total,monthly,interest=0.0425,downpay=0):\n",
    "    i=interest/12\n",
    "    A=i*(total-downpay)/monthly\n",
    "    top=-math.log(1-A)\n",
    "    bottom=math.log(1+i)\n",
    "    return math.ceil(top/bottom)\n",
    "numberMonths(500000,4000)/12"
   ]
  },
  {
   "cell_type": "markdown",
   "metadata": {},
   "source": [
    "## 1. Using `while` loops\n",
    "\n",
    "The following code assumes that you have a correct `orderQuantity` function from last session in a `session3.py` file in the current directory."
   ]
  },
  {
   "cell_type": "code",
   "execution_count": 1,
   "metadata": {},
   "outputs": [
    {
     "name": "stdout",
     "output_type": "stream",
     "text": [
      "Enter inventory (or done): skip\n",
      "Enter inventory (or done): 30\n",
      "Order 70 units.\n",
      "Enter inventory (or done): 25\n",
      "Order 75 units.\n",
      "Enter inventory (or done): done\n"
     ]
    }
   ],
   "source": [
    "from session3 import orderQuantity\n",
    "while True:\n",
    "    userInput=input('Enter inventory (or done): ')    \n",
    "    if userInput=='done':\n",
    "        break\n",
    "    elif userInput=='skip':\n",
    "        continue\n",
    "    inventory=int(userInput)\n",
    "    print ('Order',orderQuantity(inventory),'units.')"
   ]
  },
  {
   "cell_type": "markdown",
   "metadata": {},
   "source": [
    "Alternative implementation without using `break` or `continue`."
   ]
  },
  {
   "cell_type": "code",
   "execution_count": null,
   "metadata": {},
   "outputs": [],
   "source": [
    "## from session3 import orderQuantity\n",
    "userInput=input('Enter inventory (or done): ')\n",
    "while userInput!='done':\n",
    "    if userInput!='skip':\n",
    "        inventory=int(userInput)\n",
    "        print ('Order',orderQuantity(inventory),'units.')\n",
    "    userInput=input('Enter inventory (or done): ')"
   ]
  },
  {
   "cell_type": "markdown",
   "metadata": {},
   "source": [
    "**Q1:** Write a program to repeatedly ask the user to input the number of hours worked, and display the total pay, assuming that the rate for first 40 hours is 10/hour, and the rate for additional hours is 15/hour. The program should terminate whenever the user inputs `done`."
   ]
  },
  {
   "cell_type": "code",
   "execution_count": 2,
   "metadata": {},
   "outputs": [
    {
     "name": "stdout",
     "output_type": "stream",
     "text": [
      "Enter hours worked (or done): 38\n",
      "Pay is 380.0\n",
      "Enter hours worked (or done): 42\n",
      "Pay is 430.0\n",
      "Enter hours worked (or done): done\n"
     ]
    }
   ],
   "source": [
    "from session3 import calculateWage\n",
    "while True:\n",
    "    userInput=input('Enter hours worked (or done): ')    \n",
    "    if userInput=='done':\n",
    "        break\n",
    "    hours=float(userInput)\n",
    "    print('Pay is',calculateWage(hours))"
   ]
  },
  {
   "cell_type": "markdown",
   "metadata": {},
   "source": [
    "**(optional) Q2**: Rewrite the code in Q1 but do not use `break`."
   ]
  },
  {
   "cell_type": "code",
   "execution_count": null,
   "metadata": {},
   "outputs": [],
   "source": [
    "from session3 import calculateWage\n",
    "prompt='Enter hours worked (or done): '\n",
    "userInput=input(prompt)\n",
    "\n",
    "while userInput!='done':\n",
    "    hours=float(userInput)\n",
    "    print('Pay is',calculateWage(hours))\n",
    "    userInput=input(prompt)"
   ]
  },
  {
   "cell_type": "markdown",
   "metadata": {},
   "source": [
    "The following function uses `try` and `except` (see PY4E Chapter 3) for checking whether a certain value is convertable to a `float`."
   ]
  },
  {
   "cell_type": "code",
   "execution_count": 3,
   "metadata": {},
   "outputs": [
    {
     "name": "stdout",
     "output_type": "stream",
     "text": [
      "True\n",
      "True\n",
      "False\n"
     ]
    }
   ],
   "source": [
    "def isNumber(x):\n",
    "    try:\n",
    "        float(x)\n",
    "        return True\n",
    "    except:\n",
    "        return False\n",
    "\n",
    "print(isNumber(3))\n",
    "print(isNumber('3'))\n",
    "print(isNumber('three'))"
   ]
  },
  {
   "cell_type": "markdown",
   "metadata": {},
   "source": [
    "**Q3:** Modify the first example of this handout so that if the user does not input `done` nor an integer, then the program prints `Invalid input.` and asks for another input. (Hint: first write an `isInteger(x)` function by modifying the above, then use an `if` statement to decide whether to convert the input to an integer, or display `Invalid input.`)"
   ]
  },
  {
   "cell_type": "code",
   "execution_count": 4,
   "metadata": {},
   "outputs": [
    {
     "name": "stdout",
     "output_type": "stream",
     "text": [
      "Enter inventory (or done): 2.5\n",
      "Invalid input.\n",
      "Enter inventory (or done): 30\n",
      "Order 70 units.\n",
      "Enter inventory (or done): thirty\n",
      "Invalid input.\n",
      "Enter inventory (or done): done\n"
     ]
    }
   ],
   "source": [
    "from session3 import orderQuantity\n",
    "def isInteger(x):\n",
    "    try:\n",
    "        if int(x)==float(x):\n",
    "            return True\n",
    "        else:\n",
    "            return False\n",
    "    except:\n",
    "        return False\n",
    "\n",
    "while True:\n",
    "    userInput=input('Enter inventory (or done): ')    \n",
    "    if userInput=='done':\n",
    "        break\n",
    "    if isInteger(userInput):\n",
    "        inventory=int(userInput)\n",
    "        print ('Order',orderQuantity(inventory),'units.')\n",
    "    else:\n",
    "        print('Invalid input.')  "
   ]
  },
  {
   "cell_type": "markdown",
   "metadata": {},
   "source": [
    "## 2. Using `for` loops"
   ]
  },
  {
   "cell_type": "code",
   "execution_count": 5,
   "metadata": {},
   "outputs": [
    {
     "name": "stdout",
     "output_type": "stream",
     "text": [
      "0 3 5 2 "
     ]
    }
   ],
   "source": [
    "for i in [0,3,5,2]:\n",
    "    print(i,end=' ')"
   ]
  },
  {
   "cell_type": "code",
   "execution_count": 6,
   "metadata": {},
   "outputs": [
    {
     "name": "stdout",
     "output_type": "stream",
     "text": [
      "0 1 2 3 4 "
     ]
    }
   ],
   "source": [
    "for i in range(5):\n",
    "    print(i,end=' ')"
   ]
  },
  {
   "cell_type": "markdown",
   "metadata": {},
   "source": [
    "**Q4:** Modify the first example of the handout to use a `for` loop instead of a `while` loop, and limit the number of iterations to at most 5.\n",
    "\n",
    "The following example illustrates reading and writing to a file using `for` loops. The generated file will be used as an input to case 8c."
   ]
  },
  {
   "cell_type": "markdown",
   "metadata": {},
   "source": [
    "## 2.1 Using `for` loops to read files\n",
    "\n",
    "Type the following code example in your Jupyter notebook, as it will create a data file that we will use later."
   ]
  },
  {
   "cell_type": "code",
   "execution_count": 7,
   "metadata": {},
   "outputs": [],
   "source": [
    "import random\n",
    "file=open('session4_data.txt','w')\n",
    "random.seed(0)\n",
    "for t in range(10):\n",
    "    value=random.randint(10,60)\n",
    "    print(value,file=file)\n",
    "file.close()"
   ]
  },
  {
   "cell_type": "code",
   "execution_count": 8,
   "metadata": {},
   "outputs": [
    {
     "name": "stdout",
     "output_type": "stream",
     "text": [
      "34 58 36 12 26 42 41 35 60 29 "
     ]
    }
   ],
   "source": [
    "file=open('session4_data.txt','r')\n",
    "for line in file:\n",
    "    print(int(line),end=' ')\n",
    "file.close()"
   ]
  },
  {
   "cell_type": "markdown",
   "metadata": {},
   "source": [
    "## 2.2 Computations Using Loops"
   ]
  },
  {
   "cell_type": "code",
   "execution_count": 9,
   "metadata": {},
   "outputs": [
    {
     "name": "stdout",
     "output_type": "stream",
     "text": [
      "Total: 8\n",
      "Average: 1.6\n",
      "Largest: 5\n",
      "Smallest: -2\n"
     ]
    }
   ],
   "source": [
    "l=[0,3,5,2,-2]\n",
    "total=0\n",
    "largest=-1e100\n",
    "smallest=1e100\n",
    "for num in l:\n",
    "    total=total+num\n",
    "    if num>largest:\n",
    "        largest=num\n",
    "    if num<smallest:\n",
    "        smallest=num   \n",
    "print('Total:',total)\n",
    "print('Average:',total/len(l))\n",
    "print('Largest:',largest)\n",
    "print('Smallest:',smallest)"
   ]
  },
  {
   "cell_type": "markdown",
   "metadata": {},
   "source": [
    "**Q5:** Modify the above code to apply to the numbers in the file `session4_data.txt` created by the previous code example."
   ]
  },
  {
   "cell_type": "code",
   "execution_count": 1,
   "metadata": {},
   "outputs": [
    {
     "name": "stdout",
     "output_type": "stream",
     "text": [
      "Total: 373.0\n",
      "Average: 37.3\n",
      "Largest: 60.0\n",
      "Smallest: 12.0\n"
     ]
    }
   ],
   "source": [
    "file=open('session4_data.txt','r')\n",
    "total=0\n",
    "largest=-1e100\n",
    "smallest=1e100\n",
    "count=0\n",
    "for line in file:\n",
    "    num=float(line)\n",
    "    total=total+num\n",
    "    count+=1\n",
    "    if num>largest:\n",
    "        largest=num\n",
    "    if num<smallest:\n",
    "        smallest=num   \n",
    "print('Total:',total)\n",
    "print('Average:',total/count)\n",
    "print('Largest:',largest)\n",
    "print('Smallest:',smallest)"
   ]
  },
  {
   "cell_type": "markdown",
   "metadata": {},
   "source": [
    "## Case 7: Batch Automation of Payroll Computations\n",
    "Write a function `calculateAllWages` which takes three input arguments:\n",
    "\n",
    "- `filename` (default `'session4_data.txt'`): the name of a file in which each line corresponds to the hours worked by an employee.\n",
    "- `base` (default 10.0): the base hourly rate for hours below 40.\n",
    "- `bonus` (default 0.5): each hour above 40 obtains a pay of `base*(1+bonus)`.\n",
    "\n",
    "and display the pay for each employee. (You may use the `calculateWage` function from before.) At the end, the function should display the total and average pay. See the sample output below."
   ]
  },
  {
   "cell_type": "code",
   "execution_count": 11,
   "metadata": {},
   "outputs": [],
   "source": [
    "from session3 import calculateWage\n",
    "def calculateAllWages(filename='session4_data.txt',base=10.0,bonus=0.5):\n",
    "    total=0\n",
    "    num=0\n",
    "    file=open(filename,'r')\n",
    "    for line in file:\n",
    "        hours=float(line)\n",
    "        pay=calculateWage(hours,base,bonus)\n",
    "        print('Employee #'+str(num+1),'worked',hours,'hours. Pay:',pay)\n",
    "        total=total+pay\n",
    "        num+=1\n",
    "    print('Total pay is',total)\n",
    "    print('Average pay is',total/num)"
   ]
  },
  {
   "cell_type": "code",
   "execution_count": 12,
   "metadata": {},
   "outputs": [
    {
     "name": "stdout",
     "output_type": "stream",
     "text": [
      "Employee #1 worked 34.0 hours. Pay: 340.0\n",
      "Employee #2 worked 58.0 hours. Pay: 670.0\n",
      "Employee #3 worked 36.0 hours. Pay: 360.0\n",
      "Employee #4 worked 12.0 hours. Pay: 120.0\n",
      "Employee #5 worked 26.0 hours. Pay: 260.0\n",
      "Employee #6 worked 42.0 hours. Pay: 430.0\n",
      "Employee #7 worked 41.0 hours. Pay: 415.0\n",
      "Employee #8 worked 35.0 hours. Pay: 350.0\n",
      "Employee #9 worked 60.0 hours. Pay: 700.0\n",
      "Employee #10 worked 29.0 hours. Pay: 290.0\n",
      "Total pay is 3935.0\n",
      "Average pay is 393.5\n"
     ]
    }
   ],
   "source": [
    "calculateAllWages()"
   ]
  },
  {
   "cell_type": "code",
   "execution_count": 13,
   "metadata": {},
   "outputs": [
    {
     "name": "stdout",
     "output_type": "stream",
     "text": [
      "Employee #1 worked 34.0 hours. Pay: 408.0\n",
      "Employee #2 worked 58.0 hours. Pay: 825.6\n",
      "Employee #3 worked 36.0 hours. Pay: 432.0\n",
      "Employee #4 worked 12.0 hours. Pay: 144.0\n",
      "Employee #5 worked 26.0 hours. Pay: 312.0\n",
      "Employee #6 worked 42.0 hours. Pay: 518.4\n",
      "Employee #7 worked 41.0 hours. Pay: 499.2\n",
      "Employee #8 worked 35.0 hours. Pay: 420.0\n",
      "Employee #9 worked 60.0 hours. Pay: 864.0\n",
      "Employee #10 worked 29.0 hours. Pay: 348.0\n",
      "Total pay is 4771.2\n",
      "Average pay is 477.12\n"
     ]
    }
   ],
   "source": [
    "calculateAllWages(base=12,bonus=0.6)"
   ]
  },
  {
   "cell_type": "markdown",
   "metadata": {},
   "source": [
    "## Case 8a: Estimating Demand for a Given Price\n",
    "Write a function `demand` with two input arguments:\n",
    "\n",
    "- `price`: a proposed price for a certain product.\n",
    "- `valueFile` (default `session4_data.txt`): a file in which each line contains one number, representing the willingness to pay for the product from a customer (according to a marketing survey).\n",
    "\n",
    "The function should return the number of consumers willing to buy the product at the given price. (Hint: count the number of values in `valueFile` greater than or equal to `price`.)"
   ]
  },
  {
   "cell_type": "code",
   "execution_count": 14,
   "metadata": {},
   "outputs": [],
   "source": [
    "def demand(price,valueFile='session4_data.txt'):\n",
    "    count=0\n",
    "    file=open(valueFile,'r')\n",
    "    for line in file:\n",
    "        value=float(line)\n",
    "        if value>=price:\n",
    "            count+=1\n",
    "    file.close()\n",
    "    return count"
   ]
  },
  {
   "cell_type": "code",
   "execution_count": 15,
   "metadata": {},
   "outputs": [
    {
     "data": {
      "text/plain": [
       "9"
      ]
     },
     "execution_count": 15,
     "metadata": {},
     "output_type": "execute_result"
    }
   ],
   "source": [
    "price=20\n",
    "demand(price)"
   ]
  },
  {
   "cell_type": "markdown",
   "metadata": {},
   "source": [
    "## Case 8b: Optimal Pricing\n",
    "\n",
    "Write a function `optPrice` with two input arguments:\n",
    "\n",
    "- `priceList`: a list of proposed prices.\n",
    "- `valueFile` (default `session4_data.txt`) as in Case 8a.\n",
    "\n",
    "The function should iterate through the list of prices, and display the estimated revenue for each price (which equals to the estimated demand from Case 8a multiplied by the price). The function should print a final line giving the best price in the list and the best possible revenue, and return the best price."
   ]
  },
  {
   "cell_type": "code",
   "execution_count": 16,
   "metadata": {},
   "outputs": [],
   "source": [
    "def optPrice(priceList,valueFile='session4_data.txt'):\n",
    "    bestRev=0\n",
    "    bestPrice=0\n",
    "    for price in priceList:\n",
    "        rev=demand(price,valueFile)*price\n",
    "        print('Revenue with price',price,'is',rev)\n",
    "        if rev>bestRev:\n",
    "            bestRev=rev\n",
    "            bestPrice=price\n",
    "    print('Best price is',bestPrice,'with revenue',bestRev)\n",
    "    return bestPrice"
   ]
  },
  {
   "cell_type": "code",
   "execution_count": 17,
   "metadata": {},
   "outputs": [
    {
     "name": "stdout",
     "output_type": "stream",
     "text": [
      "Revenue with price 0 is 0\n",
      "Revenue with price 5 is 50\n",
      "Revenue with price 10 is 100\n",
      "Revenue with price 15 is 135\n",
      "Revenue with price 20 is 180\n",
      "Revenue with price 25 is 225\n",
      "Revenue with price 30 is 210\n",
      "Revenue with price 35 is 210\n",
      "Best price is 25 with revenue 225\n"
     ]
    },
    {
     "data": {
      "text/plain": [
       "25"
      ]
     },
     "execution_count": 17,
     "metadata": {},
     "output_type": "execute_result"
    }
   ],
   "source": [
    "priceList=[0,5,10,15,20,25,30,35]\n",
    "optPrice(priceList)"
   ]
  },
  {
   "cell_type": "markdown",
   "metadata": {},
   "source": [
    "**(Optional) Q6:** Modify Case 8 so that `optPrice` maximizes profit instead of revenue and takes into account production capacity. The function should take in two additional parameters: \n",
    "\n",
    "- `cost` (default 0): the production cost for one unit of the product.\n",
    "- `capacity` (default `1e100`): the maximum number of units that can be sold.\n",
    "\n",
    "The function should evaluate profit as $(price-cost)\\times \\min(demand,capacity)$, and return the price that maximizes profit."
   ]
  },
  {
   "cell_type": "code",
   "execution_count": null,
   "metadata": {},
   "outputs": [],
   "source": [
    "def optPrice(priceList,valueFile='session4_data.txt',cost=0,capacity=1e100):\n",
    "    bestRev=0\n",
    "    bestPrice=0\n",
    "    for price in priceList:\n",
    "        rev=min(capacity,demand(price,valueFile))*(price-cost)\n",
    "        print('Revenue with price',price,'is',rev)\n",
    "        if rev>bestRev:\n",
    "            bestRev=rev\n",
    "            bestPrice=price\n",
    "    print('Best price is',bestPrice,'with revenue',bestRev)\n",
    "    return bestPrice"
   ]
  },
  {
   "cell_type": "markdown",
   "metadata": {},
   "source": [
    "**(Optional) Q7:** Modify Case 7 and Case 8 so that if the input file has lines that cannot be converted to numbers, then those lines are skipped without the program crashing."
   ]
  },
  {
   "cell_type": "code",
   "execution_count": null,
   "metadata": {},
   "outputs": [],
   "source": [
    "def calculateAllWages(filename='session4_data.txt',base=10.0,bonus=0.5):\n",
    "    total=0\n",
    "    num=0\n",
    "    file=open(filename,'r')\n",
    "    for line in file:\n",
    "        try:\n",
    "            hours=float(line)\n",
    "        except:\n",
    "            continue\n",
    "        pay=calculateWage(hours,base,bonus)\n",
    "        print('Employee #'+str(num+1),'worked',hours,'hours. Pay:',pay)\n",
    "        total=total+pay\n",
    "        num+=1\n",
    "    print('Total pay is',total)\n",
    "    print('Average pay is',total/num)\n",
    "\n",
    "def demand(price,valueFile='session4_data.txt'):\n",
    "    count=0\n",
    "    file=open(valueFile,'r')\n",
    "    for line in file:\n",
    "        try:\n",
    "            value=float(line)\n",
    "        except:\n",
    "            continue\n",
    "        if value>=price:\n",
    "            count+=1\n",
    "    file.close()\n",
    "    return count"
   ]
  },
  {
   "cell_type": "markdown",
   "metadata": {},
   "source": [
    "**(Optional) Q8:** Without running the following code, predict its output:\n",
    "```python\n",
    "l=[6,1,-3,8,3,3]\n",
    "n=len(l)\n",
    "for i in range(n):\n",
    "    for j in range(i+1,n):\n",
    "        if l[i]>l[j]:\n",
    "            tmp=l[i]\n",
    "            l[i]=l[j]\n",
    "            l[j]=tmp\n",
    "```"
   ]
  }
 ],
 "metadata": {
  "kernelspec": {
   "display_name": "Python 3",
   "language": "python",
   "name": "python3"
  },
  "language_info": {
   "codemirror_mode": {
    "name": "ipython",
    "version": 3
   },
   "file_extension": ".py",
   "mimetype": "text/x-python",
   "name": "python",
   "nbconvert_exporter": "python",
   "pygments_lexer": "ipython3",
   "version": "3.6.8"
  }
 },
 "nbformat": 4,
 "nbformat_minor": 2
}
