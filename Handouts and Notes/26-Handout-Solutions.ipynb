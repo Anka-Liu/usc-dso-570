{
 "cells": [
  {
   "cell_type": "markdown",
   "metadata": {},
   "source": [
    "# Session 26: Portfolio Optimization Solutions\n",
    "\n",
    "In this lab, you will practice your Gurobi coding skills by analyzing a large-scale portfolio optimization case.\n",
    "\n",
    "## 1. Problem\n",
    "\n",
    "Trojan investment is exploring new methods for updating its portfolio of US stocks based on mixed integer linear and quadratic optimization. In particular, it would like to optimize the trade-off between returns and risk, given the presence of transaction costs and managerial overhead. In particular, transaction cost implies that the new portfolio must not be too different from the current portfolio. Managerial overhead means that if the company invest in any stock, there should be a sufficiently large stake, and the number of stocks in the portfolio cannot be too large. The abstract formulation is given below.\n",
    "\n",
    "**Data:**\n",
    "\n",
    "- $S$: the set of stocks.\n",
    "- $w_i$: the old weight of stock $i \\in S$ before optimization. (The \"weight\" of a stock is % of total funds invested in the stock; weights of all stocks should add to one.)\n",
    "- $R_i$: the expected annual return of stock $i \\in S$.\n",
    "- $C_{ij}$: the estimated covariance between stocks $i, j \\in S$.\n",
    "- $\\sigma_{target}$: the maximum volatility of the final portfolio.\n",
    "- $\\Delta$: the total movement allowed between the old weights and the new weights.\n",
    "- $k$: the maximum \\# of stocks allowed in the portfolio.\n",
    "- $\\epsilon$: the minimum non-zero weight allowed. \n",
    "\n",
    "**Decision variables:** \n",
    "\n",
    "- $x_i$: the new weight of stock $i$. (Continuous)\n",
    "- $\\delta_i$: difference in weight for stock $i$. (Continuous)\n",
    "- $z_i$: whether to use stock $i$. (Binary)\n",
    "\n",
    "**Objective and constraints:** All summations are over the set $S$ of stocks.\n",
    "\n",
    "$$\\begin{aligned}\n",
    "\\text{Maximize:} && \\sum_{i} R_i x_i & && \\text{(Average Return)}\\\\\n",
    "\\text{subject to:} \\\\\n",
    "\\text{(Valid weights)} && \\sum_i x_i & = 1 \\\\\n",
    "\\text{(Risk tolerance)} && \\sum_{i,j} C_{ij}x_ix_j & \\le \\sigma_{target}^2 \\\\\n",
    "\\text{(Change in weights 1)} && x_i - w_i &\\le \\delta_i && \\text{for each stock $i$.} \\\\\n",
    "\\text{(Change in weights 2)} && -(x_i - w_i) &\\le \\delta_i && \\text{for each stock $i$.} \\\\\n",
    "\\text{(Change in weights 3)} && \\frac{1}{2}\\sum_i \\delta_i &\\le \\Delta\\\\\n",
    "\\text{(Non-negligible weights)} && \\epsilon z_i \\le x_i &\\le z_i && \\text{for each stock $i$.}\\\\\n",
    "\\text{(Simplicity)} && \\sum_i z_i & \\le k \\\\\n",
    "\\text{(Non-negativity)} && x_i & \\ge 0 \n",
    "\\end{aligned}$$\n"
   ]
  },
  {
   "cell_type": "markdown",
   "metadata": {},
   "source": [
    "## 2. Data\n",
    "\n",
    "The file \"26-data.xlsx\" (emailed to everyone and available on NBViewer along with other handouts and notes) contains two sheets. The sheet \"s&p500\" contains the stock prices of every stock on the S&P500 for 10 years. The sheet \"oldPortfolio\" contains the weights on the current portfolio. The following code can be used to load the data and calculate the returns $R_i$ and covariances $C_{ij}$. "
   ]
  },
  {
   "cell_type": "code",
   "execution_count": 1,
   "metadata": {},
   "outputs": [
    {
     "data": {
      "text/plain": [
       "Stock\n",
       "AMGN    0.306342\n",
       "CNC     0.231379\n",
       "FFIV    0.290586\n",
       "FL      0.019480\n",
       "LEG     0.152214\n",
       "Name: Weight, dtype: float64"
      ]
     },
     "execution_count": 1,
     "metadata": {},
     "output_type": "execute_result"
    }
   ],
   "source": [
    "import pandas as pd\n",
    "import numpy as np\n",
    "\n",
    "oldPortfolio=pd.read_excel('26-data.xlsx',sheet_name='oldPortfolio'\\\n",
    "                           ,index_col=0)['Weight']\n",
    "oldPortfolio"
   ]
  },
  {
   "cell_type": "code",
   "execution_count": 2,
   "metadata": {},
   "outputs": [],
   "source": [
    "rawPrices=pd.read_excel('26-data.xlsx',sheet_name='s&p500'\\\n",
    "                        ,index_col=0).fillna(method='ffill')\n",
    "logPrices=np.log(rawPrices)\n",
    "priceChange=logPrices.diff(1).iloc[1:,:].fillna(0)\n",
    "C=priceChange.cov()*252           # About 252 business days in a year\n",
    "R=priceChange.mean()*252"
   ]
  },
  {
   "cell_type": "code",
   "execution_count": 3,
   "metadata": {},
   "outputs": [
    {
     "data": {
      "text/plain": [
       "MMM     0.101382\n",
       "AOS     0.252184\n",
       "ABT     0.084367\n",
       "ABBV    0.096193\n",
       "ACN     0.141367\n",
       "dtype: float64"
      ]
     },
     "execution_count": 3,
     "metadata": {},
     "output_type": "execute_result"
    }
   ],
   "source": [
    "R.head()"
   ]
  },
  {
   "cell_type": "code",
   "execution_count": 4,
   "metadata": {},
   "outputs": [
    {
     "data": {
      "text/html": [
       "<div>\n",
       "<style scoped>\n",
       "    .dataframe tbody tr th:only-of-type {\n",
       "        vertical-align: middle;\n",
       "    }\n",
       "\n",
       "    .dataframe tbody tr th {\n",
       "        vertical-align: top;\n",
       "    }\n",
       "\n",
       "    .dataframe thead th {\n",
       "        text-align: right;\n",
       "    }\n",
       "</style>\n",
       "<table border=\"1\" class=\"dataframe\">\n",
       "  <thead>\n",
       "    <tr style=\"text-align: right;\">\n",
       "      <th></th>\n",
       "      <th>MMM</th>\n",
       "      <th>AOS</th>\n",
       "      <th>ABT</th>\n",
       "      <th>ABBV</th>\n",
       "      <th>ACN</th>\n",
       "    </tr>\n",
       "  </thead>\n",
       "  <tbody>\n",
       "    <tr>\n",
       "      <th>MMM</th>\n",
       "      <td>0.049054</td>\n",
       "      <td>0.042544</td>\n",
       "      <td>0.021191</td>\n",
       "      <td>0.008905</td>\n",
       "      <td>0.031119</td>\n",
       "    </tr>\n",
       "    <tr>\n",
       "      <th>AOS</th>\n",
       "      <td>0.042544</td>\n",
       "      <td>0.098905</td>\n",
       "      <td>0.025834</td>\n",
       "      <td>0.010012</td>\n",
       "      <td>0.039423</td>\n",
       "    </tr>\n",
       "    <tr>\n",
       "      <th>ABT</th>\n",
       "      <td>0.021191</td>\n",
       "      <td>0.025834</td>\n",
       "      <td>0.042142</td>\n",
       "      <td>0.012491</td>\n",
       "      <td>0.023052</td>\n",
       "    </tr>\n",
       "    <tr>\n",
       "      <th>ABBV</th>\n",
       "      <td>0.008905</td>\n",
       "      <td>0.010012</td>\n",
       "      <td>0.012491</td>\n",
       "      <td>0.039773</td>\n",
       "      <td>0.008844</td>\n",
       "    </tr>\n",
       "    <tr>\n",
       "      <th>ACN</th>\n",
       "      <td>0.031119</td>\n",
       "      <td>0.039423</td>\n",
       "      <td>0.023052</td>\n",
       "      <td>0.008844</td>\n",
       "      <td>0.063869</td>\n",
       "    </tr>\n",
       "  </tbody>\n",
       "</table>\n",
       "</div>"
      ],
      "text/plain": [
       "           MMM       AOS       ABT      ABBV       ACN\n",
       "MMM   0.049054  0.042544  0.021191  0.008905  0.031119\n",
       "AOS   0.042544  0.098905  0.025834  0.010012  0.039423\n",
       "ABT   0.021191  0.025834  0.042142  0.012491  0.023052\n",
       "ABBV  0.008905  0.010012  0.012491  0.039773  0.008844\n",
       "ACN   0.031119  0.039423  0.023052  0.008844  0.063869"
      ]
     },
     "execution_count": 4,
     "metadata": {},
     "output_type": "execute_result"
    }
   ],
   "source": [
    "C.iloc[:5,:5]"
   ]
  },
  {
   "cell_type": "markdown",
   "metadata": {},
   "source": [
    "## 3. Optimizing for Given Parameters\n",
    "\n",
    "Solve the optimization problem for the following parameters:\n",
    "\n",
    "- $\\sigma_{target}$: 0.25\n",
    "- $\\Delta$: 0.3\n",
    "- $k$: 20\n",
    "- $\\epsilon$: 0.001\n",
    "\n",
    "The code should save the result in an excel file \"26-output.xlsx\" with a single sheet, in the same format as the \"oldPortfolio\" sheet above."
   ]
  },
  {
   "cell_type": "code",
   "execution_count": 14,
   "metadata": {},
   "outputs": [
    {
     "name": "stdout",
     "output_type": "stream",
     "text": [
      "Parameter OptimalityTol unchanged\n",
      "   Value: 1e-06  Min: 1e-09  Max: 0.01  Default: 1e-06\n",
      "Optimize a model with 2015 rows, 1509 columns and 5533 nonzeros\n",
      "Model has 1 quadratic constraint\n",
      "Variable types: 1006 continuous, 503 integer (503 binary)\n",
      "Coefficient statistics:\n",
      "  Matrix range     [1e-03, 1e+00]\n",
      "  QMatrix range    [9e-07, 2e+01]\n",
      "  Objective range  [3e-04, 5e-01]\n",
      "  Bounds range     [1e+00, 1e+00]\n",
      "  RHS range        [2e-02, 2e+01]\n",
      "  QRHS range       [6e-02, 6e-02]\n",
      "Presolve removed 542 rows and 44 columns\n",
      "Presolve time: 0.06s\n",
      "Presolved: 1473 rows, 1465 columns, 4454 nonzeros\n",
      "Variable types: 962 continuous, 503 integer (503 binary)\n",
      "\n",
      "Root relaxation: objective 2.990471e-01, 25 iterations, 0.00 seconds\n",
      "\n",
      "    Nodes    |    Current Node    |     Objective Bounds      |     Work\n",
      " Expl Unexpl |  Obj  Depth IntInf | Incumbent    BestBd   Gap | It/Node Time\n",
      "\n",
      "H    0     0                       0.2429456   26.78178      -     -    0s\n",
      "H    0     0                       0.2543559   26.78178      -     -    0s\n",
      "H    0     0                       0.2566798   26.78178      -     -    0s\n",
      "*    0     0               0       0.2566798    0.25866  0.77%     -    0s\n",
      "H    0     0                       0.2566851    0.25866  0.77%     -    0s\n",
      "     0     0     cutoff    0         0.25669    0.25669  0.00%     -    1s\n",
      "\n",
      "Explored 1 nodes (83 simplex iterations) in 1.23 seconds\n",
      "Thread count was 4 (of 4 available processors)\n",
      "\n",
      "Solution count 4: 0.256685 0.25668 0.254356 0.242946 \n",
      "\n",
      "Optimal solution found (tolerance 1.00e-04)\n",
      "Warning: max constraint violation (6.2116e-06) exceeds tolerance\n",
      "Best objective 2.566851201519e-01, best bound 2.566851201519e-01, gap 0.0000%\n"
     ]
    }
   ],
   "source": [
    "stdMax=0.25\n",
    "maxChange=0.3\n",
    "k=20\n",
    "eps=0.001\n",
    "S=R.index\n",
    "\n",
    "from gurobipy import Model, GRB\n",
    "mod=Model()\n",
    "\n",
    "x=mod.addVars(S)\n",
    "z=mod.addVars(S,vtype=GRB.BINARY)\n",
    "delta=mod.addVars(S)\n",
    "\n",
    "totRet=sum(R.loc[i]*x[i] for i in S)\n",
    "mod.setObjective(totRet,sense=GRB.MAXIMIZE)\n",
    "\n",
    "mod.addConstr(sum(x[i] for i in S)==1)\n",
    "totCov=sum(C.loc[i,j]*x[i]*x[j] for i in S for j in S)\n",
    "risk=mod.addConstr(totCov<=stdMax**2)\n",
    "numUsed=sum(z[i] for i in S)\n",
    "simplicity=mod.addConstr(numUsed<=k)\n",
    "totChange=sum(delta[i] for i in S)/2\n",
    "change=mod.addConstr(totChange<=maxChange)\n",
    "\n",
    "for i in S:\n",
    "    if i in oldPortfolio.index:\n",
    "        old=oldPortfolio.loc[i]\n",
    "    else:\n",
    "        old=0\n",
    "    mod.addConstr(x[i]-old<=delta[i])\n",
    "    mod.addConstr(-x[i]+old<=delta[i])\n",
    "    mod.addConstr(x[i]<=z[i])\n",
    "    mod.addConstr(x[i]>=eps*z[i])\n",
    "mod.setParam('outputflag',False)\n",
    "#mod.setParam('OptimalityTol',1e-6)\n",
    "mod.optimize()"
   ]
  },
  {
   "cell_type": "code",
   "execution_count": 7,
   "metadata": {},
   "outputs": [
    {
     "name": "stdout",
     "output_type": "stream",
     "text": [
      "Return: 0.2566851201519479\n",
      "Risk: 0.2500124229840874\n",
      "# stocks: 8.0\n",
      "Change in portfolio: 0.30000000000000004\n"
     ]
    }
   ],
   "source": [
    "import numpy as np\n",
    "print('Return:',totRet.getValue())\n",
    "print('Risk:',np.sqrt(totCov.getValue()))\n",
    "print('# stocks:',numUsed.getValue())\n",
    "print('Change in portfolio:',totChange.getValue())\n",
    "data=[]\n",
    "for i in S:\n",
    "    if x[i].x>0:\n",
    "        data.append([i,x[i].x])\n",
    "df=pd.DataFrame(data,columns=['Stock','Weight'])\n",
    "df.to_excel('26-output.xlsx',index=False)"
   ]
  },
  {
   "cell_type": "markdown",
   "metadata": {},
   "source": [
    "## 4. Tradeoff between multiple objectives\n",
    "\n",
    "The following example illustrates how to analyze problems with multiple objectives. It is based on Q1 from session 23, or DMD Example 8.1. \n",
    "\n",
    "**Decision variables:** Let $A$, $G$, $D$ denote the fraction of total investment to put in the assets Advent, GSS, and Digital. \n",
    "\n",
    "**Objective and constraints:** \n",
    "$$\\begin{aligned}\n",
    "\\text{Maximize: } && 11A+14G+7D \\\\\n",
    "\\text{subect to: } \\\\\n",
    "\\text{(Fractions)} && A+G+D & = 1 \\\\\n",
    "\\text{(Target risk)} && \\sqrt{16A^2+22G^2+10D^2+6AG+2GD-10AD} & \\le \\sigma \\\\\n",
    "\\text{(Nonnegativity)} && A, G, D & \\ge 0\n",
    "\\end{aligned}$$"
   ]
  },
  {
   "cell_type": "code",
   "execution_count": 8,
   "metadata": {},
   "outputs": [
    {
     "name": "stdout",
     "output_type": "stream",
     "text": [
      "Minimum risk possible: 1.8928303077552984\n"
     ]
    }
   ],
   "source": [
    "from gurobipy import Model, GRB\n",
    "import numpy as np\n",
    "mod2=Model()\n",
    "sigma=GRB.INFINITY\n",
    "A=mod2.addVar()\n",
    "G=mod2.addVar()\n",
    "D=mod2.addVar()\n",
    "ret=11*A+14*G+7*D\n",
    "riskSquared=16*A*A+22*G*G+10*D*D+6*A*G+2*G*D-10*A*D\n",
    "mod2.setObjective(riskSquared)\n",
    "mod2.addConstr(A+G+D == 1)\n",
    "mod2.setParam('outputflag',False)\n",
    "mod2.optimize()\n",
    "print('Minimum risk possible:',np.sqrt(riskSquared.getValue()))"
   ]
  },
  {
   "cell_type": "code",
   "execution_count": 9,
   "metadata": {},
   "outputs": [
    {
     "name": "stdout",
     "output_type": "stream",
     "text": [
      "Maximum possible return: 13.999999999968766\n",
      "Corresponding sigma: 4.690415759786275\n"
     ]
    }
   ],
   "source": [
    "mod2.setObjective(ret,sense=GRB.MAXIMIZE)\n",
    "riskConstraint=mod2.addConstr(riskSquared<=GRB.INFINITY)\n",
    "mod2.setParam('outputflag',False)\n",
    "mod2.optimize()\n",
    "print('Maximum possible return:',ret.getValue())\n",
    "print('Corresponding sigma:',np.sqrt(riskSquared.getValue()))"
   ]
  },
  {
   "cell_type": "code",
   "execution_count": 10,
   "metadata": {},
   "outputs": [
    {
     "data": {
      "text/plain": [
       "<Figure size 640x480 with 1 Axes>"
      ]
     },
     "metadata": {},
     "output_type": "display_data"
    }
   ],
   "source": [
    "sigmaList=np.linspace(1.893,5,20)\n",
    "retList=[]\n",
    "for sigma in sigmaList:\n",
    "    riskConstraint.QCRHS=sigma**2\n",
    "    mod2.optimize()\n",
    "    retList.append(ret.getValue())\n",
    "import matplotlib.pyplot as plt\n",
    "plt.plot(sigmaList,retList,'ro')\n",
    "plt.title('Tradeoff between risk and return')\n",
    "plt.xlabel('Risk')\n",
    "plt.ylabel('Return')\n",
    "plt.show()"
   ]
  },
  {
   "cell_type": "markdown",
   "metadata": {},
   "source": [
    "### (Optional) 4.1 Exercise\n",
    "\n",
    "Analyze the tradeoff between return and risk ($\\sigma_{target}$), as well as return and change in portfolio ($\\Delta$) in the problem for Trojan investment.\n",
    "\n",
    "#### 4.1.1 Tradeoff between return and risk"
   ]
  },
  {
   "cell_type": "code",
   "execution_count": 11,
   "metadata": {},
   "outputs": [
    {
     "name": "stdout",
     "output_type": "stream",
     "text": [
      "Optimize a model with 2015 rows, 1509 columns and 5533 nonzeros\n",
      "Model has 126756 quadratic objective terms\n",
      "Model has 1 quadratic constraint\n",
      "Variable types: 1006 continuous, 503 integer (503 binary)\n",
      "Coefficient statistics:\n",
      "  Matrix range     [1e-03, 1e+00]\n",
      "  QMatrix range    [9e-07, 2e+01]\n",
      "  Objective range  [0e+00, 0e+00]\n",
      "  QObjective range [2e-06, 3e+01]\n",
      "  Bounds range     [1e+00, 1e+00]\n",
      "  RHS range        [2e-02, 2e+01]\n",
      "  QRHS range       [6e-02, 6e-02]\n",
      "\n",
      "Loaded MIP start with objective 0.0495691\n",
      "\n",
      "Presolve removed 542 rows and 44 columns\n",
      "Presolve time: 0.06s\n",
      "Presolved: 1473 rows, 1465 columns, 4449 nonzeros\n",
      "Presolved model has 126756 quadratic objective terms\n",
      "Variable types: 962 continuous, 503 integer (503 binary)\n",
      "\n",
      "Root relaxation: objective 2.536668e-02, 258 iterations, 0.02 seconds\n",
      "\n",
      "    Nodes    |    Current Node    |     Objective Bounds      |     Work\n",
      " Expl Unexpl |  Obj  Depth IntInf | Incumbent    BestBd   Gap | It/Node Time\n",
      "\n",
      "     0     0    0.02537    0    6    0.04957    0.02537  48.8%     -    0s\n",
      "H    0     0                       0.0253667    0.02537  0.00%     -    0s\n",
      "\n",
      "Explored 1 nodes (258 simplex iterations) in 0.28 seconds\n",
      "Thread count was 4 (of 4 available processors)\n",
      "\n",
      "Solution count 2: 0.0253667 0.0495691 \n",
      "\n",
      "Optimal solution found (tolerance 1.00e-04)\n",
      "Best objective 2.536668343954e-02, best bound 2.536668343954e-02, gap 0.0000%\n",
      "Minimum total std: 0.15926921686108744\n"
     ]
    }
   ],
   "source": [
    "mod.setObjective(totCov,sense=GRB.MINIMIZE)\n",
    "mod.optimize()\n",
    "print('Minimum total std:',np.sqrt(totCov.getValue()))"
   ]
  },
  {
   "cell_type": "code",
   "execution_count": 12,
   "metadata": {},
   "outputs": [
    {
     "name": "stdout",
     "output_type": "stream",
     "text": [
      "Optimize a model with 2015 rows, 1509 columns and 5533 nonzeros\n",
      "Model has 1 quadratic constraint\n",
      "Variable types: 1006 continuous, 503 integer (503 binary)\n",
      "Coefficient statistics:\n",
      "  Matrix range     [1e-03, 1e+00]\n",
      "  QMatrix range    [9e-07, 2e+01]\n",
      "  Objective range  [3e-04, 5e-01]\n",
      "  Bounds range     [1e+00, 1e+00]\n",
      "  RHS range        [2e-02, 2e+01]\n",
      "\n",
      "Loaded MIP start with objective 0.232978\n",
      "\n",
      "Presolve removed 542 rows and 44 columns\n",
      "Presolve time: 0.03s\n",
      "Presolved: 1473 rows, 1465 columns, 4454 nonzeros\n",
      "Variable types: 962 continuous, 503 integer (503 binary)\n",
      "\n",
      "Root relaxation: objective 3.145449e-01, 16 iterations, 0.00 seconds\n",
      "\n",
      "    Nodes    |    Current Node    |     Objective Bounds      |     Work\n",
      " Expl Unexpl |  Obj  Depth IntInf | Incumbent    BestBd   Gap | It/Node Time\n",
      "\n",
      "*    0     0               0       0.3145449    0.31454  0.00%     -    0s\n",
      "\n",
      "Explored 0 nodes (16 simplex iterations) in 0.06 seconds\n",
      "Thread count was 4 (of 4 available processors)\n",
      "\n",
      "Solution count 2: 0.314545 0.232978 \n",
      "\n",
      "Optimal solution found (tolerance 1.00e-04)\n",
      "Best objective 3.145448532023e-01, best bound 3.145448532023e-01, gap 0.0000%\n",
      "Maximum return: 0.3145448532023129\n",
      "Corresponding total std: 1.257137907894366\n"
     ]
    }
   ],
   "source": [
    "mod.setObjective(totRet,sense=GRB.MAXIMIZE)\n",
    "risk.QCRHS=GRB.INFINITY\n",
    "mod.optimize()\n",
    "print('Maximum return:',totRet.getValue())\n",
    "print('Corresponding total std:',np.sqrt(totCov.getValue()))"
   ]
  },
  {
   "cell_type": "code",
   "execution_count": 13,
   "metadata": {},
   "outputs": [
    {
     "name": "stdout",
     "output_type": "stream",
     "text": [
      "Optimize a model with 2015 rows, 1509 columns and 5533 nonzeros\n",
      "Model has 1 quadratic constraint\n",
      "Variable types: 1006 continuous, 503 integer (503 binary)\n",
      "Coefficient statistics:\n",
      "  Matrix range     [1e-03, 1e+00]\n",
      "  QMatrix range    [9e-07, 2e+01]\n",
      "  Objective range  [3e-04, 5e-01]\n",
      "  Bounds range     [1e+00, 1e+00]\n",
      "  RHS range        [2e-02, 2e+01]\n",
      "  QRHS range       [1e-02, 1e-02]\n",
      "\n",
      "MIP start did not produce a new incumbent solution\n",
      "\n",
      "Presolve removed 542 rows and 44 columns\n",
      "Presolve time: 0.05s\n",
      "Presolved: 1473 rows, 1465 columns, 4454 nonzeros\n",
      "Variable types: 962 continuous, 503 integer (503 binary)\n",
      "\n",
      "Root relaxation: objective 2.970790e-01, 25 iterations, 0.00 seconds\n",
      "\n",
      "    Nodes    |    Current Node    |     Objective Bounds      |     Work\n",
      " Expl Unexpl |  Obj  Depth IntInf | Incumbent    BestBd   Gap | It/Node Time\n",
      "\n",
      "     0     0 infeasible    0               - infeasible      -     -    0s\n",
      "\n",
      "Explored 0 nodes (218 simplex iterations) in 0.17 seconds\n",
      "Thread count was 4 (of 4 available processors)\n",
      "\n",
      "Solution count 0\n",
      "\n",
      "Model is infeasible or unbounded\n",
      "Best objective -, best bound -, gap -\n"
     ]
    },
    {
     "ename": "AttributeError",
     "evalue": "b\"Unable to retrieve attribute 'x'\"",
     "output_type": "error",
     "traceback": [
      "\u001b[0;31m---------------------------------------------------------------------------\u001b[0m",
      "\u001b[0;31mAttributeError\u001b[0m                            Traceback (most recent call last)",
      "\u001b[0;32m<ipython-input-13-5fed06f3b4c7>\u001b[0m in \u001b[0;36m<module>\u001b[0;34m\u001b[0m\n\u001b[1;32m      4\u001b[0m     \u001b[0mrisk\u001b[0m\u001b[0;34m.\u001b[0m\u001b[0mQCRHS\u001b[0m\u001b[0;34m=\u001b[0m\u001b[0msigma\u001b[0m\u001b[0;34m**\u001b[0m\u001b[0;36m2\u001b[0m\u001b[0;34m\u001b[0m\u001b[0;34m\u001b[0m\u001b[0m\n\u001b[1;32m      5\u001b[0m     \u001b[0mmod\u001b[0m\u001b[0;34m.\u001b[0m\u001b[0moptimize\u001b[0m\u001b[0;34m(\u001b[0m\u001b[0;34m)\u001b[0m\u001b[0;34m\u001b[0m\u001b[0;34m\u001b[0m\u001b[0m\n\u001b[0;32m----> 6\u001b[0;31m     \u001b[0mretList\u001b[0m\u001b[0;34m.\u001b[0m\u001b[0mappend\u001b[0m\u001b[0;34m(\u001b[0m\u001b[0mtotRet\u001b[0m\u001b[0;34m.\u001b[0m\u001b[0mgetValue\u001b[0m\u001b[0;34m(\u001b[0m\u001b[0;34m)\u001b[0m\u001b[0;34m)\u001b[0m\u001b[0;34m\u001b[0m\u001b[0;34m\u001b[0m\u001b[0m\n\u001b[0m\u001b[1;32m      7\u001b[0m \u001b[0;32mimport\u001b[0m \u001b[0mmatplotlib\u001b[0m\u001b[0;34m.\u001b[0m\u001b[0mpyplot\u001b[0m \u001b[0;32mas\u001b[0m \u001b[0mplt\u001b[0m\u001b[0;34m\u001b[0m\u001b[0;34m\u001b[0m\u001b[0m\n\u001b[1;32m      8\u001b[0m \u001b[0mplt\u001b[0m\u001b[0;34m.\u001b[0m\u001b[0mplot\u001b[0m\u001b[0;34m(\u001b[0m\u001b[0msigmaList\u001b[0m\u001b[0;34m,\u001b[0m\u001b[0mretList\u001b[0m\u001b[0;34m,\u001b[0m\u001b[0;34m'ro'\u001b[0m\u001b[0;34m)\u001b[0m\u001b[0;34m\u001b[0m\u001b[0;34m\u001b[0m\u001b[0m\n",
      "\u001b[0;32mlinexpr.pxi\u001b[0m in \u001b[0;36mgurobipy.LinExpr.getValue\u001b[0;34m()\u001b[0m\n",
      "\u001b[0;32mvar.pxi\u001b[0m in \u001b[0;36mgurobipy.Var.__getattr__\u001b[0;34m()\u001b[0m\n",
      "\u001b[0;32mvar.pxi\u001b[0m in \u001b[0;36mgurobipy.Var.getAttr\u001b[0;34m()\u001b[0m\n",
      "\u001b[0;31mAttributeError\u001b[0m: b\"Unable to retrieve attribute 'x'\""
     ]
    }
   ],
   "source": [
    "sigmaList=np.linspace(0.114,2.10,20)\n",
    "retList=[]\n",
    "for sigma in sigmaList:\n",
    "    risk.QCRHS=sigma**2\n",
    "    mod.optimize()\n",
    "    retList.append(totRet.getValue())\n",
    "import matplotlib.pyplot as plt\n",
    "plt.plot(sigmaList,retList,'ro')\n",
    "plt.title('Tradeoff between risk and return')\n",
    "plt.xlabel('Risk')\n",
    "plt.ylabel('Return')\n",
    "plt.show()"
   ]
  },
  {
   "cell_type": "markdown",
   "metadata": {},
   "source": [
    "#### 4.1.2 Tradeoff between return and transaction cost"
   ]
  },
  {
   "cell_type": "code",
   "execution_count": null,
   "metadata": {},
   "outputs": [],
   "source": [
    "risk.QCRHS=0.25**2\n",
    "DeltaList=np.linspace(0,1,20)\n",
    "retList=[]\n",
    "for Delta in DeltaList:\n",
    "    change.RHS=Delta\n",
    "    mod.optimize()\n",
    "    retList.append(totRet.getValue())\n",
    "import matplotlib.pyplot as plt\n",
    "plt.plot(DeltaList,retList,'ro')\n",
    "plt.title('Tradeoff between return and transaction cost')\n",
    "plt.xlabel('Change in portfolio')\n",
    "plt.ylabel('Return')\n",
    "plt.show()"
   ]
  }
 ],
 "metadata": {
  "kernelspec": {
   "display_name": "Python 3",
   "language": "python",
   "name": "python3"
  },
  "language_info": {
   "codemirror_mode": {
    "name": "ipython",
    "version": 3
   },
   "file_extension": ".py",
   "mimetype": "text/x-python",
   "name": "python",
   "nbconvert_exporter": "python",
   "pygments_lexer": "ipython3",
   "version": "3.7.2"
  }
 },
 "nbformat": 4,
 "nbformat_minor": 2
}
