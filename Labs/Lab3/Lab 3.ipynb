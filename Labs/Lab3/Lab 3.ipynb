{
 "cells": [
  {
   "cell_type": "markdown",
   "metadata": {},
   "source": [
    "# Lab 3: Project Jump Start (Worksheet)\n",
    "\n",
    "**Learning Objectives:**\n",
    "\n",
    "- Using `try` and `except` to create a safe type-casting module. (Code)\n",
    "- Reading/writing data files using `pandas`. (Code)\n",
    "- Manipulating data using lists and dictionaries. (Code)\n",
    "- Develop a complex algorithm by breaking the task down into simple steps. (Code)\n",
    "\n",
    "In this lab, we will compute one of the metrics discussed in last class, which is for each term, room and day of week, what is the proportion of \"prime time\" (from say 10 to 16) that is utilized. \n",
    "\n",
    "# Module 1: Applying String Splitting and Casting \n"
   ]
  },
  {
   "cell_type": "code",
   "execution_count": null,
   "metadata": {},
   "outputs": [],
   "source": [
    "# Code demonstration\n"
   ]
  },
  {
   "cell_type": "markdown",
   "metadata": {},
   "source": [
    "## Partner Exercise 1\n",
    "Create a function that converts a given `inputTime` in string format `hh:mm:ss` into a number: hour+miniutes/60+seconds/3600. "
   ]
  },
  {
   "cell_type": "code",
   "execution_count": null,
   "metadata": {},
   "outputs": [],
   "source": [
    "\n",
    "import numpy as np\n",
    "\n",
    "def convert(inputTime):\n",
    "    # Complete your code here\n",
    "    \n",
    "print(convert('20:30:00'))\n",
    "print(convert('TBA'))\n",
    "print(convert(np.nan))"
   ]
  },
  {
   "cell_type": "code",
   "execution_count": 57,
   "metadata": {},
   "outputs": [
    {
     "name": "stdout",
     "output_type": "stream",
     "text": [
      "20.5\n",
      "nan\n",
      "nan\n"
     ]
    }
   ],
   "source": []
  },
  {
   "cell_type": "markdown",
   "metadata": {},
   "source": [
    "# Demonstration of Loading Data with Pandas (More Next Class)\n"
   ]
  },
  {
   "cell_type": "code",
   "execution_count": 48,
   "metadata": {},
   "outputs": [
    {
     "name": "stdout",
     "output_type": "stream",
     "text": [
      "0    ACC 306B\n",
      "1      ACC201\n",
      "2      ACC205\n",
      "3      ACC236\n",
      "4      ACC303\n",
      "5     ACC306B\n",
      "6      ACC310\n",
      "7      ACC312\n",
      "8      BRI202\n",
      "9     BRI202A\n",
      "Name: Room, dtype: object\n",
      "<class 'pandas.core.frame.DataFrame'>\n",
      "Int64Index: 6131 entries, 0 to 3231\n",
      "Data columns (total 26 columns):\n",
      "Course                   3363 non-null object\n",
      "Course Prefix            6131 non-null object\n",
      "Course Suffix            6131 non-null object\n",
      "Department               3363 non-null object\n",
      "First Begin Time         5629 non-null object\n",
      "First Days               5553 non-null object\n",
      "First End Time           5629 non-null object\n",
      "First Instructor         5664 non-null object\n",
      "First Instructor UID     5645 non-null float64\n",
      "First Room               5696 non-null object\n",
      "Link                     936 non-null object\n",
      "Max Units                6131 non-null float64\n",
      "Min Units                6131 non-null float64\n",
      "Mode                     6131 non-null object\n",
      "Reg Count                6131 non-null int64\n",
      "Seats                    6131 non-null int64\n",
      "Second Begin Time        43 non-null object\n",
      "Second Days              43 non-null object\n",
      "Second End Time          43 non-null object\n",
      "Second Instructor        595 non-null object\n",
      "Second Instructor UID    595 non-null float64\n",
      "Second Room              19 non-null object\n",
      "Section                  6131 non-null int64\n",
      "Session                  6131 non-null int64\n",
      "Term                     6131 non-null int64\n",
      "Title                    6131 non-null object\n",
      "dtypes: float64(4), int64(5), object(17)\n",
      "memory usage: 1.3+ MB\n"
     ]
    }
   ],
   "source": [
    "schedule=pd.read_excel('Marshall_Course_Enrollment_1516_1617.xlsx')\n",
    "cancelled=pd.read_excel('Cancelled_Courses_1516_1617.xlsx')\n",
    "master=schedule.append(cancelled)\n",
    "capacities=pd.read_excel('Marshall_Room_Capacity_Chart.xlsx')\n",
    "\n",
    "print(capacities['Room'][:10])\n",
    "master.info()\n",
    "master.head()\n",
    "\n",
    "master.to_csv('Merged_Enrollment.csv')\n"
   ]
  },
  {
   "cell_type": "markdown",
   "metadata": {},
   "source": [
    "# Module 2: Loading Data into a Dictionary and List\n"
   ]
  },
  {
   "cell_type": "code",
   "execution_count": null,
   "metadata": {},
   "outputs": [],
   "source": [
    "# Code demonstration"
   ]
  },
  {
   "cell_type": "markdown",
   "metadata": {},
   "source": [
    "\n",
    "## Exercise 2:\n",
    "Load the data from the master file and put it into a dictionary with keys (term,room,day), with each entry being a list of the earliest begin time and the latest end time."
   ]
  },
  {
   "cell_type": "code",
   "execution_count": 44,
   "metadata": {},
   "outputs": [
    {
     "data": {
      "text/plain": [
       "{(20153, 'ACC201', 'H'): (12.0, 13.833333333333334),\n",
       " (20153, 'ACC201', 'T'): (12.0, 13.833333333333334),\n",
       " (20153, 'ACC205', 'H'): (10.0, 13.833333333333334),\n",
       " (20153, 'ACC205', 'M'): (12.0, 15.833333333333334),\n",
       " (20153, 'ACC205', 'T'): (10.0, 13.833333333333334),\n",
       " (20153, 'ACC205', 'W'): (12.0, 15.833333333333334),\n",
       " (20153, 'ACC236', 'M'): (10.0, 11.833333333333334),\n",
       " (20153, 'ACC236', 'W'): (10.0, 11.833333333333334),\n",
       " (20153, 'ACC303', 'H'): (8.0, 15.833333333333334),\n",
       " (20153, 'ACC303', 'M'): (8.0, 17.833333333333332),\n",
       " (20153, 'ACC303', 'T'): (8.0, 15.833333333333334),\n",
       " (20153, 'ACC303', 'W'): (8.0, 17.833333333333332),\n",
       " (20153, 'ACC310', 'H'): (8.0, 17.833333333333332),\n",
       " (20153, 'ACC310', 'M'): (8.0, 15.833333333333334),\n",
       " (20153, 'ACC310', 'T'): (8.0, 17.833333333333332),\n",
       " (20153, 'ACC310', 'W'): (8.0, 15.833333333333334),\n",
       " (20153, 'BRI5', 'H'): (10.0, 11.833333333333334),\n",
       " (20153, 'BRI5', 'T'): (10.0, 11.833333333333334),\n",
       " (20153, 'HOH EDI', 'F'): (12.0, 15.833333333333334),\n",
       " (20153, 'JKP202', 'H'): (12.5, 13.833333333333334)}"
      ]
     },
     "execution_count": 44,
     "metadata": {},
     "output_type": "execute_result"
    }
   ],
   "source": [
    "#Importing packages\n",
    "import pandas as pd\n",
    "import numpy as np\n",
    "\n",
    "#Reading excel files\n",
    "master=pd.read_csv('Merged_Enrollment.csv')\n",
    "capacities=pd.read_excel('Marshall_Room_Capacity_Chart.xlsx')\n",
    "\n",
    "roomSet=set(capacities.Room)\n",
    "ans={}\n",
    "\n",
    "df=master.head(50)\n",
    "\n",
    "for index,row in df.iterrows():\n",
    "    # Complete your code here.\n",
    "                \n",
    "ans        "
   ]
  },
  {
   "cell_type": "markdown",
   "metadata": {},
   "source": [
    "# Code Demonstration: Dumping Data Back into a DataFrame"
   ]
  },
  {
   "cell_type": "code",
   "execution_count": null,
   "metadata": {},
   "outputs": [],
   "source": [
    "lines=[]\n",
    "for term,room,day in ans:\n",
    "    beg,end=ans[term,room,day]\n",
    "    lines.append([term,room,day,beg,end])\n",
    "    \n",
    "output=pd.DataFrame(lines,columns=['Term','Room','Day','Earliest','Latest'])\n",
    "\n",
    "output.to_csv('Room_Simple_Usage.csv')\n",
    "output.info()\n",
    "output.describe()\n",
    "output.head(10)    "
   ]
  },
  {
   "cell_type": "markdown",
   "metadata": {},
   "source": [
    "# Module 3: Developing an Algorithm to Compute a Non-Trivial Metric\n",
    "\n",
    "## Exercse 3: \n",
    "Complete the following code to compute the total usage within prime time"
   ]
  },
  {
   "cell_type": "code",
   "execution_count": 46,
   "metadata": {},
   "outputs": [
    {
     "name": "stdout",
     "output_type": "stream",
     "text": [
      "Total usage within prime time 3.5\n",
      "% of prime time used 0.5833333333333334\n"
     ]
    }
   ],
   "source": [
    "primeStart=10\n",
    "primeEnd=16\n",
    "sortedList=[(8,10),(10.5,11.5),(11,12),(14,17),(18,20)]\n",
    "usage=0\n",
    "prev=0\n",
    "for start,end in sortedList:\n",
    "    # Complete your code here\n",
    "    \n",
    "print('Total usage within prime time',usage)\n",
    "print('Proportion of prime time used',usage/(primeEnd-primeStart))"
   ]
  },
  {
   "cell_type": "markdown",
   "metadata": {},
   "source": [
    "# Putting it all together\n",
    "\n",
    "Create code that outputs a file for each term, room, and day the percentage of prime time used."
   ]
  },
  {
   "cell_type": "code",
   "execution_count": 56,
   "metadata": {},
   "outputs": [
    {
     "data": {
      "text/html": [
       "<div>\n",
       "<style scoped>\n",
       "    .dataframe tbody tr th:only-of-type {\n",
       "        vertical-align: middle;\n",
       "    }\n",
       "\n",
       "    .dataframe tbody tr th {\n",
       "        vertical-align: top;\n",
       "    }\n",
       "\n",
       "    .dataframe thead th {\n",
       "        text-align: right;\n",
       "    }\n",
       "</style>\n",
       "<table border=\"1\" class=\"dataframe\">\n",
       "  <thead>\n",
       "    <tr style=\"text-align: right;\">\n",
       "      <th></th>\n",
       "      <th>Term</th>\n",
       "      <th>Room</th>\n",
       "      <th>Day</th>\n",
       "      <th>Utilization</th>\n",
       "    </tr>\n",
       "  </thead>\n",
       "  <tbody>\n",
       "    <tr>\n",
       "      <th>0</th>\n",
       "      <td>20153</td>\n",
       "      <td>ACC303</td>\n",
       "      <td>M</td>\n",
       "      <td>0.583333</td>\n",
       "    </tr>\n",
       "    <tr>\n",
       "      <th>1</th>\n",
       "      <td>20153</td>\n",
       "      <td>ACC303</td>\n",
       "      <td>W</td>\n",
       "      <td>0.583333</td>\n",
       "    </tr>\n",
       "    <tr>\n",
       "      <th>2</th>\n",
       "      <td>20153</td>\n",
       "      <td>ACC303</td>\n",
       "      <td>T</td>\n",
       "      <td>0.583333</td>\n",
       "    </tr>\n",
       "    <tr>\n",
       "      <th>3</th>\n",
       "      <td>20153</td>\n",
       "      <td>ACC303</td>\n",
       "      <td>H</td>\n",
       "      <td>0.583333</td>\n",
       "    </tr>\n",
       "    <tr>\n",
       "      <th>4</th>\n",
       "      <td>20153</td>\n",
       "      <td>HOH EDI</td>\n",
       "      <td>F</td>\n",
       "      <td>0.555556</td>\n",
       "    </tr>\n",
       "  </tbody>\n",
       "</table>\n",
       "</div>"
      ],
      "text/plain": [
       "    Term     Room Day  Utilization\n",
       "0  20153   ACC303   M     0.583333\n",
       "1  20153   ACC303   W     0.583333\n",
       "2  20153   ACC303   T     0.583333\n",
       "3  20153   ACC303   H     0.583333\n",
       "4  20153  HOH EDI   F     0.555556"
      ]
     },
     "execution_count": 56,
     "metadata": {},
     "output_type": "execute_result"
    }
   ],
   "source": [
    "import pandas as pd\n",
    "import numpy as np\n",
    "import matplotlib.pyplot as plt\n",
    "\n",
    "primeStart=10\n",
    "primeEnd=16\n",
    "schedule=pd.read_excel('Marshall_Course_Enrollment_1516_1617.xlsx')\n",
    "cancelled=pd.read_excel('Cancelled_Courses_1516_1617.xlsx')\n",
    "master=schedule.append(cancelled)\n",
    "capacities=pd.read_excel('Marshall_Room_Capacity_Chart.xlsx')\n",
    "\n",
    "\n",
    "\n",
    "def convert(inputTime):\n",
    "    #Complete code from exercise 1\n",
    "\n",
    "roomSet=set(capacities.Room)\n",
    "ans={}\n",
    "\n",
    "\n",
    "def loadDataDict(df,roomSet):\n",
    "    # Complete your code here from modification of exercise 2\n",
    "\n",
    "    return ans\n",
    "                    \n",
    "def computeUsage(inputList, primeStart,primeEnd):\n",
    "    # Complete your code here from exercise 3\n",
    "\n",
    "lines=[]\n",
    "for term,room,day in loadDataDict(master,roomSet):\n",
    "    lines.append([term,room,day,computeUtilization(ans[term,room,day],primeStart,primeEnd)])\n",
    "\n",
    "output=pd.DataFrame(lines,columns=['Term','Room','Day','Utilization'])\n",
    "output.to_csv('RoomUsage.csv')\n",
    "output.head()"
   ]
  },
  {
   "cell_type": "code",
   "execution_count": 50,
   "metadata": {},
   "outputs": [
    {
     "data": {
      "text/plain": [
       "[[1, 2], [3], [4, 6]]"
      ]
     },
     "execution_count": 50,
     "metadata": {},
     "output_type": "execute_result"
    }
   ],
   "source": []
  }
 ],
 "metadata": {
  "kernelspec": {
   "display_name": "Python 3",
   "language": "python",
   "name": "python3"
  },
  "language_info": {
   "codemirror_mode": {
    "name": "ipython",
    "version": 3
   },
   "file_extension": ".py",
   "mimetype": "text/x-python",
   "name": "python",
   "nbconvert_exporter": "python",
   "pygments_lexer": "ipython3",
   "version": "3.6.3"
  }
 },
 "nbformat": 4,
 "nbformat_minor": 2
}
