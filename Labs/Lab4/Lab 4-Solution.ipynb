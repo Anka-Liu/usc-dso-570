{
 "cells": [
  {
   "cell_type": "markdown",
   "metadata": {},
   "source": [
    "# Lab 4 Solution\n",
    "\n",
    "**Learning Objectives:**\n",
    "\n",
    "- Identify types of objects\n",
    "- Use Python help to learn to use unfamiliar functions\n",
    "- Use Python debugger"
   ]
  },
  {
   "cell_type": "markdown",
   "metadata": {},
   "source": [
    "## Objects and Types\n",
    "\n",
    "### Exercise 1\n",
    "\n",
    "Use the `type` command to find the type of each of the following after importing `numpy` as `np`.\n",
    "```python\n",
    "np\n",
    "np.sum\n",
    "np.array\n",
    "np.array([3,4,5])\n",
    "np.array([3,4,5]).sum\n",
    "np.array([3,4,5]).sum()\n",
    "type(np.array([3,4,5]).sum())\n",
    "```"
   ]
  },
  {
   "cell_type": "code",
   "execution_count": 2,
   "metadata": {},
   "outputs": [
    {
     "name": "stdout",
     "output_type": "stream",
     "text": [
      "<class 'module'>\n",
      "<class 'function'>\n",
      "<class 'builtin_function_or_method'>\n",
      "<class 'numpy.ndarray'>\n",
      "<class 'builtin_function_or_method'>\n",
      "<class 'numpy.int32'>\n",
      "<class 'type'>\n"
     ]
    }
   ],
   "source": [
    "import numpy as np\n",
    "print(type(np))\n",
    "print(type(np.sum))\n",
    "print(type(np.array))\n",
    "print(type(np.array([3,4,5])))\n",
    "print(type(np.array([3,4,5]).sum))\n",
    "print(type(np.array([3,4,5]).sum()))\n",
    "print(type(type(np.array([3,4,5]).sum())))"
   ]
  },
  {
   "cell_type": "markdown",
   "metadata": {},
   "source": [
    "**Solution:**\n",
    "\n",
    "| Object | Type |\n",
    "| ----- |-----|\n",
    "|`np`  | module |\n",
    "|`np.sum` | function |\n",
    "|`np.array` | function |\n",
    "|`np.array([3,4,5])` | numpy array|\n",
    "|`np.array([3,4,5]).sum` |function |\n",
    "|`np.array([3,4,5]).sum()` | numpy int |\n",
    "|`type(np.array([3,4,5]).sum())` |type |"
   ]
  },
  {
   "cell_type": "markdown",
   "metadata": {},
   "source": [
    "### Exercise 2\n",
    "\n",
    "Consider the code\n",
    "```python\n",
    "def f(x):\n",
    "    return 3*x\n",
    "d={3:[f,[4,f],'hi'],4:{3,2}}\n",
    "```\n",
    "\n",
    "By inspection only, without using the `type` command, identify the type of each of the following\n",
    "```python\n",
    "d\n",
    "d[3]\n",
    "d[3][0]\n",
    "d[3][0](3)\n",
    "d[3][-1]\n",
    "d[4]\n",
    "```\n",
    "Check your answer using the `type` command.\n",
    "\n",
    "**Solution:**\n",
    "\n",
    "| Object | Type |\n",
    "| ---| ---|\n",
    "|`d` | dict |\n",
    "| `d[3]` | list |\n",
    "| `d[3][0]` | function |\n",
    "|`d[3][0](3)` | int |\n",
    "|`d[3][-1]` | str |\n",
    "|`d[4]` | set|"
   ]
  },
  {
   "cell_type": "markdown",
   "metadata": {},
   "source": [
    "## Reading Python Help to Understand Unfamiliar Code\n",
    "\n",
    "### Exercise 3\n",
    "Without running the code.\n",
    "\n",
    "- Identify all the objects in the following segment of code \n",
    "- Use Python help to deduce the type of each object \n",
    "- Use Python help to predict the output\n",
    "\n",
    "```python\n",
    "import pandas as pd\n",
    "import matplotlib.pyplot as plt\n",
    "\n",
    "data=[['JKP 102',20153,'M',0.8],['JKP 102',20153,'T',0.7],['JKP 104',20153,'M',0.6]]\n",
    "df=pd.DataFrame(data,columns=['Room','Term','Day','Utilization'])\n",
    "\n",
    "(df.query(\"Term==20153 & Day=='M'\")\n",
    "         .sort_values(['Room'])\n",
    "         .plot(x='Room',y='Utilization',by='Day',kind='bar',title='Plot',figsize=(8,4),ylim=(0,1),legend=False)\n",
    ")\n",
    "plt.show()\n",
    "```\n",
    "\n",
    "After you are done, run the code to verify your answers.\n",
    "\n",
    "**Solution:**\n",
    "\n",
    "| Object | Type |\n",
    "|------|-------|\n",
    "| `pd` | module |\n",
    "| `plt` | module |\n",
    "| `data` | list |\n",
    "| `df` | pandas DataFrame |\n",
    "| `df.query` | function |\n",
    "| `df.query(...)` | pandas DataFrame |\n",
    "| `def.query(...).sort_values` | function |\n",
    "| `def.query(...).sort_values(...)` |pandas DataFrame|\n",
    "| `def.query(...).sort_values(...).plot` | function |\n",
    "| `plt.show`       | function |\n",
    "\n",
    "Commands to look up \n",
    "```python\n",
    "\n",
    "pd.DataFrame?\n",
    "pd.DataFrame.query?\n",
    "pd.DataFrame.sort_values?\n",
    "pd.plot?\n",
    "```\n",
    "\n",
    "After reading the help files for these functions, we explain the code below using comments and run it."
   ]
  },
  {
   "cell_type": "code",
   "execution_count": 6,
   "metadata": {},
   "outputs": [
    {
     "data": {
      "image/png": "[encoded data removed]",
      "text/plain": [
       "<matplotlib.figure.Figure at 0x228bde04048>"
      ]
     },
     "metadata": {},
     "output_type": "display_data"
    }
   ],
   "source": [
    "# Importing modules pd and plt\n",
    "import pandas as pd\n",
    "import matplotlib.pyplot as plt\n",
    "\n",
    "# Constructing list of lists and assigning it to variable \"data.\"\n",
    "data=[['JKP 102',20153,'M',0.8],['JKP 102',20153,'T',0.7],['JKP 104',20153,'M',0.6]]\n",
    "\n",
    "# Constructing DataFrame object using the data and given columns and assigning it to variable \"df\"\n",
    "df=pd.DataFrame(data,columns=['Room','Term','Day','Utilization'])\n",
    "\n",
    "# Multi-line chained command\n",
    "(df.query(\"Term==20153 & Day=='M'\")  # Filter DataFrame df for given Term and Day.\n",
    "         .sort_values(['Room'])   # Sort rows of DataFrame df by column Room.\n",
    "         .plot(x='Room',y='Utilization',by='Day',kind='bar',title='Plot',figsize=(8,4),ylim=(0,1),legend=False) \n",
    " # Plot bar plot with given x-axis, y-axis, by-filter (extraneous), kind of plot, title, figure size, y-axis limits, no legend\n",
    ")\n",
    "plt.show()"
   ]
  },
  {
   "cell_type": "markdown",
   "metadata": {},
   "source": [
    "## Using the Python Debugger\n",
    "\n",
    "See detailed description of pdb commands here: https://docs.python.org/3/library/pdb.html\n",
    "\n",
    "The basic commands are:\n",
    "\n",
    "- `l` for listing code around current line\n",
    "- `p x` for print expression x\n",
    "- `s` for step one line (execute one line)\n",
    "- `c` for continuing execution until next break point\n",
    "- `q` for quiting\n"
   ]
  },
  {
   "cell_type": "code",
   "execution_count": 9,
   "metadata": {},
   "outputs": [
    {
     "name": "stdout",
     "output_type": "stream",
     "text": [
      "> <ipython-input-9-6c4d5c4c0557>(5)f()\n",
      "-> return x+3\n",
      "(Pdb) p x\n",
      "'3'\n",
      "(Pdb) s\n",
      "TypeError: must be str, not int\n",
      "> <ipython-input-9-6c4d5c4c0557>(5)f()\n",
      "-> return x+3\n",
      "(Pdb) c\n"
     ]
    },
    {
     "ename": "TypeError",
     "evalue": "must be str, not int",
     "output_type": "error",
     "traceback": [
      "\u001b[1;31m---------------------------------------------------------------------------\u001b[0m",
      "\u001b[1;31mTypeError\u001b[0m                                 Traceback (most recent call last)",
      "\u001b[1;32m<ipython-input-9-6c4d5c4c0557>\u001b[0m in \u001b[0;36m<module>\u001b[1;34m()\u001b[0m\n\u001b[0;32m      4\u001b[0m     \u001b[0mpdb\u001b[0m\u001b[1;33m.\u001b[0m\u001b[0mset_trace\u001b[0m\u001b[1;33m(\u001b[0m\u001b[1;33m)\u001b[0m\u001b[1;33m\u001b[0m\u001b[0m\n\u001b[0;32m      5\u001b[0m     \u001b[1;32mreturn\u001b[0m \u001b[0mx\u001b[0m\u001b[1;33m+\u001b[0m\u001b[1;36m3\u001b[0m\u001b[1;33m\u001b[0m\u001b[0m\n\u001b[1;32m----> 6\u001b[1;33m \u001b[0mf\u001b[0m\u001b[1;33m(\u001b[0m\u001b[1;34m'3'\u001b[0m\u001b[1;33m)\u001b[0m\u001b[1;33m\u001b[0m\u001b[0m\n\u001b[0m\u001b[0;32m      7\u001b[0m \u001b[1;33m\u001b[0m\u001b[0m\n\u001b[0;32m      8\u001b[0m \u001b[1;31m# Alternative\u001b[0m\u001b[1;33m\u001b[0m\u001b[1;33m\u001b[0m\u001b[0m\n",
      "\u001b[1;32m<ipython-input-9-6c4d5c4c0557>\u001b[0m in \u001b[0;36mf\u001b[1;34m(x)\u001b[0m\n\u001b[0;32m      3\u001b[0m \u001b[1;32mdef\u001b[0m \u001b[0mf\u001b[0m\u001b[1;33m(\u001b[0m\u001b[0mx\u001b[0m\u001b[1;33m)\u001b[0m\u001b[1;33m:\u001b[0m\u001b[1;33m\u001b[0m\u001b[0m\n\u001b[0;32m      4\u001b[0m     \u001b[0mpdb\u001b[0m\u001b[1;33m.\u001b[0m\u001b[0mset_trace\u001b[0m\u001b[1;33m(\u001b[0m\u001b[1;33m)\u001b[0m\u001b[1;33m\u001b[0m\u001b[0m\n\u001b[1;32m----> 5\u001b[1;33m     \u001b[1;32mreturn\u001b[0m \u001b[0mx\u001b[0m\u001b[1;33m+\u001b[0m\u001b[1;36m3\u001b[0m\u001b[1;33m\u001b[0m\u001b[0m\n\u001b[0m\u001b[0;32m      6\u001b[0m \u001b[0mf\u001b[0m\u001b[1;33m(\u001b[0m\u001b[1;34m'3'\u001b[0m\u001b[1;33m)\u001b[0m\u001b[1;33m\u001b[0m\u001b[0m\n\u001b[0;32m      7\u001b[0m \u001b[1;33m\u001b[0m\u001b[0m\n",
      "\u001b[1;31mTypeError\u001b[0m: must be str, not int"
     ]
    }
   ],
   "source": [
    "# Code demonstration\n",
    "import pdb\n",
    "def f(x):\n",
    "    pdb.set_trace()   # set break point\n",
    "    return x+3\n",
    "f('3')\n",
    "\n",
    "# Alternative \n",
    "% pdb on           # Automatically enter debugging upon error"
   ]
  },
  {
   "cell_type": "markdown",
   "metadata": {},
   "source": [
    "### Exercise 3\n",
    "Use `pdb.set_trace()` to identify the bug in the following code from Lab 3."
   ]
  },
  {
   "cell_type": "code",
   "execution_count": 26,
   "metadata": {},
   "outputs": [
    {
     "name": "stdout",
     "output_type": "stream",
     "text": [
      "> <ipython-input-26-a59d57effd03>(5)convert()\n",
      "-> hh,mm,ss=str(InputTime).split(':')\n",
      "(Pdb) l\n",
      "  1  \timport pdb\n",
      "  2  \tdef convert(inputTime):\n",
      "  3  \t    try:\n",
      "  4  \t        pdb.set_trace()\n",
      "  5  ->\t        hh,mm,ss=str(InputTime).split(':')\n",
      "  6  \t        ans=int(hh)+int(mm)/60+int(ss)/3600\n",
      "  7  \t    except:\n",
      "  8  \t        ans=np.nan\n",
      "  9  \t    return ans\n",
      " 10  \tconvert('18:00:00')\n",
      "[EOF]\n",
      "(Pdb) p inputTime\n",
      "'18:00:00'\n",
      "(Pdb) s\n",
      "NameError: name 'InputTime' is not defined\n",
      "> <ipython-input-26-a59d57effd03>(5)convert()\n",
      "-> hh,mm,ss=str(InputTime).split(':')\n",
      "(Pdb) hh,mm,ss=str(inputTime).split(':')\n",
      "(Pdb) hh\n",
      "'18'\n",
      "(Pdb) p mm\n",
      "'00'\n",
      "(Pdb) ss\n",
      "'00'\n",
      "(Pdb) c\n"
     ]
    },
    {
     "data": {
      "text/plain": [
       "nan"
      ]
     },
     "execution_count": 26,
     "metadata": {},
     "output_type": "execute_result"
    }
   ],
   "source": [
    "import pdb\n",
    "def convert(inputTime):\n",
    "    try:\n",
    "        pdb.set_trace()\n",
    "        hh,mm,ss=str(InputTime).split(':')\n",
    "        ans=int(hh)+int(mm)/60+int(ss)/3600\n",
    "    except:\n",
    "        ans=np.nan\n",
    "    return ans\n",
    "convert('18:00:00')"
   ]
  },
  {
   "cell_type": "markdown",
   "metadata": {},
   "source": [
    "**Bug:**\n",
    "The variable `InputTime` inside the function does not exist, it should be changed to `inputTime`, which does exist."
   ]
  },
  {
   "cell_type": "markdown",
   "metadata": {},
   "source": [
    "### Exercise 4\n",
    "Use `%pdb on` to turn on automatic debugging upon error and figure out what's wrong in the following code from Lab 3.\n",
    "\n",
    "**Note:** The following code will only work once the above `convert` function is fixed and loaded, and if the data files for the final project are in the same directory as the current Jupyter notebook."
   ]
  },
  {
   "cell_type": "code",
   "execution_count": null,
   "metadata": {},
   "outputs": [
    {
     "name": "stdout",
     "output_type": "stream",
     "text": [
      "Automatic pdb calling has been turned ON\n"
     ]
    },
    {
     "ename": "TypeError",
     "evalue": "argument of type 'float' is not iterable",
     "output_type": "error",
     "traceback": [
      "\u001b[1;31m---------------------------------------------------------------------------\u001b[0m",
      "\u001b[1;31mTypeError\u001b[0m                                 Traceback (most recent call last)",
      "\u001b[1;32m<ipython-input-29-05fb11f593ef>\u001b[0m in \u001b[0;36m<module>\u001b[1;34m()\u001b[0m\n\u001b[0;32m     25\u001b[0m     \u001b[1;31m# Skip rows in which beg and end are np.nan (not a number), and in which the room is not in the capacity file\u001b[0m\u001b[1;33m\u001b[0m\u001b[1;33m\u001b[0m\u001b[0m\n\u001b[0;32m     26\u001b[0m     \u001b[1;32mfor\u001b[0m \u001b[0mday\u001b[0m \u001b[1;32min\u001b[0m \u001b[1;34m'MTWHF'\u001b[0m\u001b[1;33m:\u001b[0m   \u001b[1;31m# Iterate through the sequence ['M','T','W','H','F']\u001b[0m\u001b[1;33m\u001b[0m\u001b[0m\n\u001b[1;32m---> 27\u001b[1;33m         \u001b[1;32mif\u001b[0m \u001b[0mday\u001b[0m \u001b[1;32min\u001b[0m \u001b[0mdays\u001b[0m\u001b[1;33m:\u001b[0m\u001b[1;33m\u001b[0m\u001b[0m\n\u001b[0m\u001b[0;32m     28\u001b[0m             \u001b[0mkey\u001b[0m\u001b[1;33m=\u001b[0m\u001b[1;33m(\u001b[0m\u001b[0mterm\u001b[0m\u001b[1;33m,\u001b[0m\u001b[0mroom\u001b[0m\u001b[1;33m,\u001b[0m\u001b[0mday\u001b[0m\u001b[1;33m)\u001b[0m  \u001b[1;31m# The key of the dictionary to set\u001b[0m\u001b[1;33m\u001b[0m\u001b[0m\n\u001b[0;32m     29\u001b[0m             \u001b[1;32mif\u001b[0m \u001b[0mkey\u001b[0m \u001b[1;32mnot\u001b[0m \u001b[1;32min\u001b[0m \u001b[0mans\u001b[0m\u001b[1;33m:\u001b[0m   \u001b[1;31m# if this key is not in the dictionary, add it, with the beg and end time of the current row\u001b[0m\u001b[1;33m\u001b[0m\u001b[0m\n",
      "\u001b[1;31mTypeError\u001b[0m: argument of type 'float' is not iterable"
     ]
    },
    {
     "name": "stdout",
     "output_type": "stream",
     "text": [
      "> \u001b[1;32m<ipython-input-29-05fb11f593ef>\u001b[0m(27)\u001b[0;36m<module>\u001b[1;34m()\u001b[0m\n",
      "\u001b[1;32m     25 \u001b[1;33m    \u001b[1;31m# Skip rows in which beg and end are np.nan (not a number), and in which the room is not in the capacity file\u001b[0m\u001b[1;33m\u001b[0m\u001b[1;33m\u001b[0m\u001b[0m\n",
      "\u001b[0m\u001b[1;32m     26 \u001b[1;33m    \u001b[1;32mfor\u001b[0m \u001b[0mday\u001b[0m \u001b[1;32min\u001b[0m \u001b[1;34m'MTWHF'\u001b[0m\u001b[1;33m:\u001b[0m   \u001b[1;31m# Iterate through the sequence ['M','T','W','H','F']\u001b[0m\u001b[1;33m\u001b[0m\u001b[0m\n",
      "\u001b[0m\u001b[1;32m---> 27 \u001b[1;33m        \u001b[1;32mif\u001b[0m \u001b[0mday\u001b[0m \u001b[1;32min\u001b[0m \u001b[0mdays\u001b[0m\u001b[1;33m:\u001b[0m\u001b[1;33m\u001b[0m\u001b[0m\n",
      "\u001b[0m\u001b[1;32m     28 \u001b[1;33m            \u001b[0mkey\u001b[0m\u001b[1;33m=\u001b[0m\u001b[1;33m(\u001b[0m\u001b[0mterm\u001b[0m\u001b[1;33m,\u001b[0m\u001b[0mroom\u001b[0m\u001b[1;33m,\u001b[0m\u001b[0mday\u001b[0m\u001b[1;33m)\u001b[0m  \u001b[1;31m# The key of the dictionary to set\u001b[0m\u001b[1;33m\u001b[0m\u001b[0m\n",
      "\u001b[0m\u001b[1;32m     29 \u001b[1;33m            \u001b[1;32mif\u001b[0m \u001b[0mkey\u001b[0m \u001b[1;32mnot\u001b[0m \u001b[1;32min\u001b[0m \u001b[0mans\u001b[0m\u001b[1;33m:\u001b[0m   \u001b[1;31m# if this key is not in the dictionary, add it, with the beg and end time of the current row\u001b[0m\u001b[1;33m\u001b[0m\u001b[0m\n",
      "\u001b[0m\n",
      "ipdb> l\n",
      "\u001b[0;32m     22 \u001b[0m    \u001b[0mdays\u001b[0m\u001b[1;33m=\u001b[0m\u001b[0mrow\u001b[0m\u001b[1;33m[\u001b[0m\u001b[1;34m'First Days'\u001b[0m\u001b[1;33m]\u001b[0m\u001b[1;33m\u001b[0m\u001b[0m\n",
      "\u001b[0;32m     23 \u001b[0m    \u001b[0mbeg\u001b[0m\u001b[1;33m=\u001b[0m\u001b[0mconvert\u001b[0m\u001b[1;33m(\u001b[0m\u001b[0mrow\u001b[0m\u001b[1;33m[\u001b[0m\u001b[1;34m'First Begin Time'\u001b[0m\u001b[1;33m]\u001b[0m\u001b[1;33m)\u001b[0m   \u001b[1;31m# Convert the begin time strings into decimal numbers using challenge 1\u001b[0m\u001b[1;33m\u001b[0m\u001b[0m\n",
      "\u001b[0;32m     24 \u001b[0m    \u001b[0mend\u001b[0m\u001b[1;33m=\u001b[0m\u001b[0mconvert\u001b[0m\u001b[1;33m(\u001b[0m\u001b[0mrow\u001b[0m\u001b[1;33m[\u001b[0m\u001b[1;34m'First End Time'\u001b[0m\u001b[1;33m]\u001b[0m\u001b[1;33m)\u001b[0m     \u001b[1;31m# Convert the begin time strings into decimal numbers using challenge 1\u001b[0m\u001b[1;33m\u001b[0m\u001b[0m\n",
      "\u001b[0;32m     25 \u001b[0m    \u001b[1;31m# Skip rows in which beg and end are np.nan (not a number), and in which the room is not in the capacity file\u001b[0m\u001b[1;33m\u001b[0m\u001b[1;33m\u001b[0m\u001b[0m\n",
      "\u001b[0;32m     26 \u001b[0m    \u001b[1;32mfor\u001b[0m \u001b[0mday\u001b[0m \u001b[1;32min\u001b[0m \u001b[1;34m'MTWHF'\u001b[0m\u001b[1;33m:\u001b[0m   \u001b[1;31m# Iterate through the sequence ['M','T','W','H','F']\u001b[0m\u001b[1;33m\u001b[0m\u001b[0m\n",
      "\u001b[1;32m---> 27 \u001b[1;33m        \u001b[1;32mif\u001b[0m \u001b[0mday\u001b[0m \u001b[1;32min\u001b[0m \u001b[0mdays\u001b[0m\u001b[1;33m:\u001b[0m\u001b[1;33m\u001b[0m\u001b[0m\n",
      "\u001b[0m\u001b[0;32m     28 \u001b[0m            \u001b[0mkey\u001b[0m\u001b[1;33m=\u001b[0m\u001b[1;33m(\u001b[0m\u001b[0mterm\u001b[0m\u001b[1;33m,\u001b[0m\u001b[0mroom\u001b[0m\u001b[1;33m,\u001b[0m\u001b[0mday\u001b[0m\u001b[1;33m)\u001b[0m  \u001b[1;31m# The key of the dictionary to set\u001b[0m\u001b[1;33m\u001b[0m\u001b[0m\n",
      "\u001b[0;32m     29 \u001b[0m            \u001b[1;32mif\u001b[0m \u001b[0mkey\u001b[0m \u001b[1;32mnot\u001b[0m \u001b[1;32min\u001b[0m \u001b[0mans\u001b[0m\u001b[1;33m:\u001b[0m   \u001b[1;31m# if this key is not in the dictionary, add it, with the beg and end time of the current row\u001b[0m\u001b[1;33m\u001b[0m\u001b[0m\n",
      "\u001b[0;32m     30 \u001b[0m                \u001b[0mans\u001b[0m\u001b[1;33m[\u001b[0m\u001b[0mkey\u001b[0m\u001b[1;33m]\u001b[0m\u001b[1;33m=\u001b[0m\u001b[1;33m(\u001b[0m\u001b[0mbeg\u001b[0m\u001b[1;33m,\u001b[0m\u001b[0mend\u001b[0m\u001b[1;33m)\u001b[0m\u001b[1;33m\u001b[0m\u001b[0m\n",
      "\u001b[0;32m     31 \u001b[0m            \u001b[1;32melse\u001b[0m\u001b[1;33m:\u001b[0m\u001b[1;33m\u001b[0m\u001b[0m\n",
      "\u001b[0;32m     32 \u001b[0m                \u001b[0moldBeg\u001b[0m\u001b[1;33m,\u001b[0m\u001b[0moldEnd\u001b[0m\u001b[1;33m=\u001b[0m\u001b[0mans\u001b[0m\u001b[1;33m[\u001b[0m\u001b[0mkey\u001b[0m\u001b[1;33m]\u001b[0m  \u001b[1;31m# If the key is in the dictionary, update it to find the earliest beg time so far and latest end time\u001b[0m\u001b[1;33m\u001b[0m\u001b[0m\n",
      "\n",
      "ipdb> days\n",
      "nan\n",
      "ipdb> day\n",
      "'M'\n",
      "ipdb> day in days\n",
      "*** TypeError: argument of type 'float' is not iterable\n"
     ]
    }
   ],
   "source": [
    "%pdb on\n",
    "#Importing packages\n",
    "import pandas as pd\n",
    "import numpy as np\n",
    "\n",
    "#Reading excel files\n",
    "schedule=pd.read_excel('Marshall_Course_Enrollment_1516_1617.xlsx')\n",
    "cancelled=pd.read_excel('Cancelled_Courses_1516_1617.xlsx')\n",
    "master=schedule.append(cancelled)\n",
    "capacities=pd.read_excel('Marshall_Room_Capacity_Chart.xlsx')\n",
    "\n",
    "roomSet=set(capacities.Room)      # Create a set which contains the rooms in the capacities file.\n",
    "ans={}                   # Initialize a dictionary to store the result we want\n",
    "\n",
    "df=master \n",
    "master.head()           # Print the first few lines of the DataFrame master, which we loaded above. See index on the left, and each row\n",
    "\n",
    "# Iterate through the rows of the data frame above. The variable \"row\" will go through the rows of the dataframe. \"index\" will go through the indices (see left above)\n",
    "for index,row in df.iterrows():   \n",
    "    term=row['Term']       # Obtain the corresponding column of each row\n",
    "    room=row['First Room']\n",
    "    days=row['First Days'] \n",
    "    beg=convert(row['First Begin Time'])   # Convert the begin time strings into decimal numbers using challenge 1\n",
    "    end=convert(row['First End Time'])     # Convert the begin time strings into decimal numbers using challenge 1\n",
    "    # Skip rows in which beg and end are np.nan (not a number), and in which the room is not in the capacity file\n",
    "    for day in 'MTWHF':   # Iterate through the sequence ['M','T','W','H','F']\n",
    "        if day in days: \n",
    "            key=(term,room,day)  # The key of the dictionary to set\n",
    "            if key not in ans:   # if this key is not in the dictionary, add it, with the beg and end time of the current row\n",
    "                ans[key]=(beg,end)   \n",
    "            else:\n",
    "                oldBeg,oldEnd=ans[key]  # If the key is in the dictionary, update it to find the earliest beg time so far and latest end time\n",
    "                newBeg=min(beg,oldBeg)\n",
    "                newEnd=max(end,oldEnd)\n",
    "                ans[key]=(newBeg,newEnd)\n",
    "ans"
   ]
  },
  {
   "cell_type": "markdown",
   "metadata": {},
   "source": [
    "**Bug:**\n",
    "The variable `days` is set to `np.nan` in one iteration, rather than a string. We cannot do `'M' in np.nan`, but can only do `'M' in 'MW'`. The fix would be to filter out all rows of the DataFrame for which `days` is `np.nan`, using the `np.isnan` command. See a similar fix applied to the Lab 3 Solutions."
   ]
  }
 ],
 "metadata": {
  "kernelspec": {
   "display_name": "Python 3",
   "language": "python",
   "name": "python3"
  },
  "language_info": {
   "codemirror_mode": {
    "name": "ipython",
    "version": 3
   },
   "file_extension": ".py",
   "mimetype": "text/x-python",
   "name": "python",
   "nbconvert_exporter": "python",
   "pygments_lexer": "ipython3",
   "version": "3.6.3"
  }
 },
 "nbformat": 4,
 "nbformat_minor": 2
}
