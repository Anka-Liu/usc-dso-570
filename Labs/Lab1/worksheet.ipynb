{
 "cells": [
  {
   "cell_type": "markdown",
   "metadata": {},
   "source": [
    "# Worksheet for Lab 1 (Writing Python Code)\n",
    "\n",
    "**Name: XXX**\n"
   ]
  },
  {
   "cell_type": "markdown",
   "metadata": {},
   "source": [
    "## 1. Running the Graphic Corporation Analysis\n",
    "\n",
    "Complete the following based on the instructions in the course notes for this session.\n",
    "\n",
    "### Running a complete script\n",
    "\n",
    "After saving the `decisiontrees.py` and `graphic_corporation.py` files into the same folder as the current notebook. Type `run graphic_coporation.py` into the following cell and run the cell (following the instructions for the lab.) This will execute the `graphic_corporation.py` script and should display the decision tree for the graphic_coporation case."
   ]
  },
  {
   "cell_type": "code",
   "execution_count": null,
   "metadata": {},
   "outputs": [],
   "source": []
  },
  {
   "cell_type": "markdown",
   "metadata": {},
   "source": [
    "### Running chunks of code directly\n",
    "\n",
    "Next, open graphic_corporation.py in Spyder and copy and paste the code into the following code box. Alter the probability of okay to .85 instead of .92. Moreover, increase the failure cost to 200. Then execute the code."
   ]
  },
  {
   "cell_type": "code",
   "execution_count": null,
   "metadata": {},
   "outputs": [],
   "source": []
  },
  {
   "cell_type": "markdown",
   "metadata": {},
   "source": [
    "Type code in the following box to change the parameters you altered back to the original in the `graphic_corporation.py` below, then type `tree.graph(False)` below to display the shape of the tree without evaluting it."
   ]
  },
  {
   "cell_type": "code",
   "execution_count": null,
   "metadata": {},
   "outputs": [],
   "source": []
  },
  {
   "cell_type": "markdown",
   "metadata": {},
   "source": [
    "Copy and paste into the following cell the last chunk of code (Labelled In\\[35\\]) from the the [course notes for session 3](http://nbviewer.jupyter.org/github/pengshi-usc/usc-dso-570/blob/master/Course%20Notes/03-Decision%20trees.ipynb) (Decision trees). This plots the profit of each decision as the failure cost varies. Make sure the output is the same as the last graph of the above course notes. "
   ]
  },
  {
   "cell_type": "code",
   "execution_count": null,
   "metadata": {},
   "outputs": [],
   "source": []
  },
  {
   "cell_type": "markdown",
   "metadata": {},
   "source": [
    "**Question:** *What is the optimal decision when the cost of failure is 750K?*\n",
    "\n",
    "**Answer:** Type your answer here.\n",
    "\n",
    "**Question:** *What does Shift-Enter in the Jupyter notebook do?* (See Jupyter help by typing ESC then h)\n",
    "\n",
    "**Answer:**\n",
    "\n",
    "\n",
    "### Understanding the code\n",
    "\n",
    "Use Spyder to open the two `.py` files you downloaded and identify the elements of Python from last session: objects, variables, functions, conditional statements, loops, import statements, etc. Use Python help (see course notes for instructions in Spyder and Jupyter notebooks) to help you understand unfamiliar commands. Do the same to the above code you copy pasted. The code may be complex for a beginner so it's okay if you don't get everything, but try your best.\n",
    "\n",
    "After you are familiar with the code, answer the following questions.\n",
    "\n",
    "**Question:** *What the line `from decisiontrees import Node` do?*\n",
    "\n",
    "**Answer:**\n",
    "\n",
    "**Question:** *What does `precaution.append(precautionNode.evaluate())` above do?*\n",
    "\n",
    "**Answer:** \n",
    "\n",
    "**Question:** *What does `plt.plot(failureCost,precaution,'r--.',label='precaution')` do? Why is there a `'r--'` string as the third input?*\n",
    "\n",
    "**Answer:**"
   ]
  },
  {
   "cell_type": "markdown",
   "metadata": {},
   "source": [
    "# 2. Additional Sensitivity Analysis\n",
    "\n",
    "Following the example above, make a plot of the value of the three decisions as a function of \n",
    "\n",
    "1. The rebuild cost, holding everything else at original values;\n",
    "1. The precaution cost, holding everything else at original values;\n",
    "2. The baseline probability of success, holding everything else at original values;"
   ]
  },
  {
   "cell_type": "code",
   "execution_count": null,
   "metadata": {},
   "outputs": [],
   "source": []
  },
  {
   "cell_type": "markdown",
   "metadata": {},
   "source": [
    "## Determine the Precise Threshold for a Decision\n",
    "\n",
    "The failure cost graph at the end of section 1 shows roughly when it's optimal to do Normal+Test rather than Normal when the failure cost is about 300K, but it does not give the precise switch point. In this section, we find the precise answer. \n",
    "\n",
    "First, some new commands: the `scipy.optimize.bisect` function determines when is a function roughly zero, given a range to search within. The `str.format` function can be used to create formatted output. Below is an example. For additional details, use Python help or Google search. "
   ]
  },
  {
   "cell_type": "code",
   "execution_count": 7,
   "metadata": {},
   "outputs": [
    {
     "name": "stdout",
     "output_type": "stream",
     "text": [
      "f(x)=0 at x=2.00\n",
      "f(x)=0 also at x=-2.00\n"
     ]
    }
   ],
   "source": [
    "import scipy.optimize\n",
    "def f(x):\n",
    "    return x**2-4\n",
    "print ('f(x)=0 at x={0:.2f}'.format(scipy.optimize.bisect(f,0,5)))\n",
    "print ('f(x)=0 also at x={0:.2f}'.format(scipy.optimize.bisect(f,-5,0)))"
   ]
  },
  {
   "cell_type": "markdown",
   "metadata": {},
   "source": [
    "Using the above as a guide, write a function that, given a failure cost, returns the difference between the value of the decision \"Normal\" and the decision \"Normal+Test\" under this failure cost. Then use the bisect function to figure out when this function is zero. This yields the exact failure cost above which it is better to perform the test. Similarly determine at what failure cost is it optimal to use \"Precaution\""
   ]
  },
  {
   "cell_type": "markdown",
   "metadata": {},
   "source": [
    "# 3. Analyzing a Decision Tree from Scratch\n",
    "\n",
    "Following the example provided in the code for the Graphic Coporation Case, create an analogous `buildTree()` function to construct the decision tree for the \"Buying a House Case\" in Homework 2. Afterward, graph the structure of the tree without solving, as well as the graph with solving. Finally, perform a sensitivity analysis by studying the optimal bid if the probability of being the only bidder is different from 30%. (Try both solving the tree with different probabilities of being the only bidder, as well as make a graph of the value of each decision as a function of the probability, as in the end of the course notes for session 3.) Use markdown cells to explain each step of your analysis as if explaining to a supervisor. If you have extra time, choose other parameters to perform sensitivity analysis and do the same for them."
   ]
  },
  {
   "cell_type": "code",
   "execution_count": null,
   "metadata": {},
   "outputs": [],
   "source": []
  }
 ],
 "metadata": {
  "kernelspec": {
   "display_name": "Python 3",
   "language": "python",
   "name": "python3"
  },
  "language_info": {
   "codemirror_mode": {
    "name": "ipython",
    "version": 3
   },
   "file_extension": ".py",
   "mimetype": "text/x-python",
   "name": "python",
   "nbconvert_exporter": "python",
   "pygments_lexer": "ipython3",
   "version": "3.6.3"
  }
 },
 "nbformat": 4,
 "nbformat_minor": 2
}
