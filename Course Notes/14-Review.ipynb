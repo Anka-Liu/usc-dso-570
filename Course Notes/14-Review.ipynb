{
 "cells": [
  {
   "cell_type": "markdown",
   "metadata": {},
   "source": [
    "# Review for Exam 1 (2/22)\n",
    "\n",
    "[**Link to description of Exam 1 Format.**](http://nbviewer.jupyter.org/github/pengshi46/usc-dso-570/blob/master/Supplementary/Exam%201%20Format.ipynb)\n",
    "\n",
    "[**Link to reference document for all Python constructs potentially covered.**](http://nbviewer.jupyter.org/github/pengshi46/usc-dso-570/blob/master/Supplementary/Reference%20for%20Python%20Constructs%20%28Exam%201%29.ipynb)\n",
    "\n",
    "# Exam Logisitcs\n",
    "\n",
    "- The exam is 75 minutes, and will take place on Tue. 2/27, unless you made special arrangements to reschedule during the first 3 weeks of class. No rescheduling is possible at this point. \n",
    "- At the beginning of the class session, before the exam, please help the professor to arrange tables into four rows, the first three having 7 tables and the last having 5. There should be 2 chairs per table. Please also help rearrange the room back after the exam.\n",
    "- No laptop/tablet/phone use is allowed during the exam. You may bring any amount of books or notes or cheatsheets you made for yourself. You may also use a handheld calculator. (Banning of electronic devices is to prevent cheating.)\n",
    "- No bathroom break during the exam. Please go to the bathroom before the exam if you need to, or go after you turn in your papers. (This is to avoid cheating.)\n",
    "- No leaving the room in the last 15 minutes of the exam. If you finish early, you may leave within the first 60 minutes, or you must wait until the end. (This is to prevent distractions to students who are time pressed.)\n",
    "- No talking with anyone other than the professor during the exam. Any talking will be considered cheating and you will both fail the course with no second chances.\n",
    "- No talking about the exam to any student who has not taken it (for example students in the other section).\n",
    "\n",
    "# Q & A\n",
    "\n",
    "### In-class activity: \n",
    "\n",
    "- Work in groups of 2-3 and share about how you are preparing for Exam 1. \n",
    "- Write down a list of questions or topics that you need help in but cannot simply figure out by yourself through additional review and practice.\n",
    "- **Choose one question that you believe to be the most urgent among your group, or you think would be important to many others in the class, and input your question in the** [**Qualtrics form here**](https://uscmarshall.qualtrics.com/jfe/form/SV_4Yj6KbrCxJZtyvj). The professor will either answer the question in class, or type up an answer in this course notes afterward."
   ]
  }
 ],
 "metadata": {
  "kernelspec": {
   "display_name": "Python 3",
   "language": "python",
   "name": "python3"
  },
  "language_info": {
   "codemirror_mode": {
    "name": "ipython",
    "version": 3
   },
   "file_extension": ".py",
   "mimetype": "text/x-python",
   "name": "python",
   "nbconvert_exporter": "python",
   "pygments_lexer": "ipython3",
   "version": "3.6.3"
  }
 },
 "nbformat": 4,
 "nbformat_minor": 2
}
