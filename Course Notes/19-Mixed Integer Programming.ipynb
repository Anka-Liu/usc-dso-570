{
 "cells": [
  {
   "cell_type": "markdown",
   "metadata": {},
   "source": [
    "# Mixed Integer Programming (3/22)\n",
    "\n",
    "**Learning Objectives:**\n",
    "\n",
    "- Read and write Excel files using `pandas`.\n",
    "- Define Mixed Integer Programs (MIP) and describe their differences with LPs.\n",
    "- Model complex constraints using binary variables.\n",
    "\n",
    "\n",
    "**Textbook Readings:** DMD 9:1-5\n",
    "\n",
    "**In class Handouts:**\n",
    "\n",
    "- [Handout on DataFrames and Excel.](https://github.com/pengshi-usc/usc-dso-570/blob/master/Course%20Notes/Handouts/19-Excel%20Demonstration.pdf)\n",
    "- [In class exercises.](https://github.com/pengshi-usc/usc-dso-570/blob/master/Course%20Notes/Handouts/19-Binary%20Variables.pdf)\n",
    "\n",
    "## DataFrames and Excel\n",
    "\n",
    "Here are the solutions to the in-class exercise I. \n",
    "\n",
    "### Exercise I\n",
    "\n",
    "1. Read in the \"Fulfilment Centers\" sheet from \"small_data.xlsx\" as a DataFrame and call it `fcs`.\n",
    "2. Create a dictionary called `cap` that maps each \"FC_name\" in `fcs` to two times its capacity. (i.e., `caps['A']` should be `2000`.) You should use a loop rather than doing this manually. \n",
    "3. Read in the \"Distances\" sheet from \"small_data.xlsx\" as a DataFrame and obtain a Series called `s` corresponding to the column sums. (If you are not getting the right sheet, try to replace `sheet_name` with `sheetname`.)\n",
    "4. Create a table (as a list of lists) in which the first column corresponds to each \"FC_name\" (index set of `fcs`), the second column contains the values of the dictionary `cap` for the FC, and the third value corresponds to the value of the Series `s` for the FC. Using this table, create a new DataFrame called `df` with this data, and the column names \"FC_name\",\"Twice Capacity\", \"Sum of distances\".\n",
    "5. Output an Excel file called \"exampleOutput.xlsx\", in which the first sheet is named \"FCs\" and is the same as the `fcs` DataFrame, and the second sheet is named \"Results\" and is the same as the `df` DataFrame from step 4. Inspect the Excel file to make sure the formatting is the way you want it.\n",
    "6. Run the entire Jupyter notebook again after changing the input file to \"data.xlsx\"\n"
   ]
  },
  {
   "cell_type": "code",
   "execution_count": 1,
   "metadata": {},
   "outputs": [
    {
     "data": {
      "text/html": [
       "<div>\n",
       "<style scoped>\n",
       "    .dataframe tbody tr th:only-of-type {\n",
       "        vertical-align: middle;\n",
       "    }\n",
       "\n",
       "    .dataframe tbody tr th {\n",
       "        vertical-align: top;\n",
       "    }\n",
       "\n",
       "    .dataframe thead th {\n",
       "        text-align: right;\n",
       "    }\n",
       "</style>\n",
       "<table border=\"1\" class=\"dataframe\">\n",
       "  <thead>\n",
       "    <tr style=\"text-align: right;\">\n",
       "      <th></th>\n",
       "      <th>city</th>\n",
       "      <th>zip</th>\n",
       "      <th>capacity</th>\n",
       "      <th>lat</th>\n",
       "      <th>long</th>\n",
       "    </tr>\n",
       "    <tr>\n",
       "      <th>FC_name</th>\n",
       "      <th></th>\n",
       "      <th></th>\n",
       "      <th></th>\n",
       "      <th></th>\n",
       "      <th></th>\n",
       "    </tr>\n",
       "  </thead>\n",
       "  <tbody>\n",
       "    <tr>\n",
       "      <th>A</th>\n",
       "      <td>Schertz, Texas</td>\n",
       "      <td>78154</td>\n",
       "      <td>1000</td>\n",
       "      <td>29.547068</td>\n",
       "      <td>-98.262642</td>\n",
       "    </tr>\n",
       "    <tr>\n",
       "      <th>B</th>\n",
       "      <td>WestColumbia, SouthCarolina</td>\n",
       "      <td>29172</td>\n",
       "      <td>1000</td>\n",
       "      <td>33.912417</td>\n",
       "      <td>-81.076978</td>\n",
       "    </tr>\n",
       "  </tbody>\n",
       "</table>\n",
       "</div>"
      ],
      "text/plain": [
       "                                city    zip  capacity        lat       long\n",
       "FC_name                                                                    \n",
       "A                     Schertz, Texas  78154      1000  29.547068 -98.262642\n",
       "B        WestColumbia, SouthCarolina  29172      1000  33.912417 -81.076978"
      ]
     },
     "execution_count": 1,
     "metadata": {},
     "output_type": "execute_result"
    }
   ],
   "source": [
    "import pandas as pd\n",
    "inputFile='small_data.xlsx'\n",
    "fcs=pd.read_excel(inputFile,sheet_name='Fulfilment Centers',index_col=0)\n",
    "fcs"
   ]
  },
  {
   "cell_type": "code",
   "execution_count": 2,
   "metadata": {},
   "outputs": [
    {
     "data": {
      "text/plain": [
       "{'A': 2000, 'B': 2000}"
      ]
     },
     "execution_count": 2,
     "metadata": {},
     "output_type": "execute_result"
    }
   ],
   "source": [
    "cap={}\n",
    "for center in fcs.index:\n",
    "    cap[center]=2*fcs.loc[center,'capacity']\n",
    "cap"
   ]
  },
  {
   "cell_type": "code",
   "execution_count": 3,
   "metadata": {},
   "outputs": [
    {
     "data": {
      "text/html": [
       "<div>\n",
       "<style scoped>\n",
       "    .dataframe tbody tr th:only-of-type {\n",
       "        vertical-align: middle;\n",
       "    }\n",
       "\n",
       "    .dataframe tbody tr th {\n",
       "        vertical-align: top;\n",
       "    }\n",
       "\n",
       "    .dataframe thead th {\n",
       "        text-align: right;\n",
       "    }\n",
       "</style>\n",
       "<table border=\"1\" class=\"dataframe\">\n",
       "  <thead>\n",
       "    <tr style=\"text-align: right;\">\n",
       "      <th></th>\n",
       "      <th>A</th>\n",
       "      <th>B</th>\n",
       "    </tr>\n",
       "    <tr>\n",
       "      <th>region_ID</th>\n",
       "      <th></th>\n",
       "      <th></th>\n",
       "    </tr>\n",
       "  </thead>\n",
       "  <tbody>\n",
       "    <tr>\n",
       "      <th>0</th>\n",
       "      <td>1.55160</td>\n",
       "      <td>0.62956</td>\n",
       "    </tr>\n",
       "    <tr>\n",
       "      <th>1</th>\n",
       "      <td>1.43880</td>\n",
       "      <td>2.25933</td>\n",
       "    </tr>\n",
       "    <tr>\n",
       "      <th>2</th>\n",
       "      <td>1.02175</td>\n",
       "      <td>0.43547</td>\n",
       "    </tr>\n",
       "  </tbody>\n",
       "</table>\n",
       "</div>"
      ],
      "text/plain": [
       "                 A        B\n",
       "region_ID                  \n",
       "0          1.55160  0.62956\n",
       "1          1.43880  2.25933\n",
       "2          1.02175  0.43547"
      ]
     },
     "execution_count": 3,
     "metadata": {},
     "output_type": "execute_result"
    }
   ],
   "source": [
    "distances=pd.read_excel(inputFile,sheet_name='Distances',index_col=0)\n",
    "distances"
   ]
  },
  {
   "cell_type": "code",
   "execution_count": 4,
   "metadata": {},
   "outputs": [
    {
     "data": {
      "text/plain": [
       "A    4.01215\n",
       "B    3.32436\n",
       "dtype: float64"
      ]
     },
     "execution_count": 4,
     "metadata": {},
     "output_type": "execute_result"
    }
   ],
   "source": [
    "s=distances.sum()\n",
    "s"
   ]
  },
  {
   "cell_type": "markdown",
   "metadata": {},
   "source": [
    "**Note:** If you were not able to read the above sheet, change `sheet_name` to `sheetname`."
   ]
  },
  {
   "cell_type": "code",
   "execution_count": 5,
   "metadata": {},
   "outputs": [
    {
     "data": {
      "text/plain": [
       "[['A', 2000, 4.0121500000000001], ['B', 2000, 3.32436]]"
      ]
     },
     "execution_count": 5,
     "metadata": {},
     "output_type": "execute_result"
    }
   ],
   "source": [
    "table=[]\n",
    "for center in fcs.index:\n",
    "    table.append([center,cap[center],s.loc[center]])\n",
    "table"
   ]
  },
  {
   "cell_type": "code",
   "execution_count": 6,
   "metadata": {},
   "outputs": [
    {
     "data": {
      "text/html": [
       "<div>\n",
       "<style scoped>\n",
       "    .dataframe tbody tr th:only-of-type {\n",
       "        vertical-align: middle;\n",
       "    }\n",
       "\n",
       "    .dataframe tbody tr th {\n",
       "        vertical-align: top;\n",
       "    }\n",
       "\n",
       "    .dataframe thead th {\n",
       "        text-align: right;\n",
       "    }\n",
       "</style>\n",
       "<table border=\"1\" class=\"dataframe\">\n",
       "  <thead>\n",
       "    <tr style=\"text-align: right;\">\n",
       "      <th></th>\n",
       "      <th>FC_name</th>\n",
       "      <th>Twice Capacity</th>\n",
       "      <th>Sum of distances</th>\n",
       "    </tr>\n",
       "  </thead>\n",
       "  <tbody>\n",
       "    <tr>\n",
       "      <th>0</th>\n",
       "      <td>A</td>\n",
       "      <td>2000</td>\n",
       "      <td>4.01215</td>\n",
       "    </tr>\n",
       "    <tr>\n",
       "      <th>1</th>\n",
       "      <td>B</td>\n",
       "      <td>2000</td>\n",
       "      <td>3.32436</td>\n",
       "    </tr>\n",
       "  </tbody>\n",
       "</table>\n",
       "</div>"
      ],
      "text/plain": [
       "  FC_name  Twice Capacity  Sum of distances\n",
       "0       A            2000           4.01215\n",
       "1       B            2000           3.32436"
      ]
     },
     "execution_count": 6,
     "metadata": {},
     "output_type": "execute_result"
    }
   ],
   "source": [
    "df=pd.DataFrame(table,columns=['FC_name','Twice Capacity','Sum of distances'])\n",
    "df"
   ]
  },
  {
   "cell_type": "code",
   "execution_count": 8,
   "metadata": {},
   "outputs": [],
   "source": [
    "writer=pd.ExcelWriter('exampleOutput.xlsx')\n",
    "fcs.to_excel(writer,sheet_name='FCs')\n",
    "df.to_excel(writer,sheet_name='Results',index=False)\n",
    "writer.save()"
   ]
  },
  {
   "cell_type": "markdown",
   "metadata": {},
   "source": [
    "## Introduction to Mixed Integer Programming (MIP)\n",
    "\n",
    "The only difference between a mixed integer program (MIP) and a linear program is that **in a MIP, some of the variables are constrained to be integers.** In other words, a MIP must have a linear objective function, linear constraints, and variables are either continuous or integers. Because of the allowance of integer constraints, MIPs is a generalization of LP and is thus more flexible. (Having a new type of constraint gives us more tools to play with, we can choose to use it or not, but it's a new option.)\n",
    "\n",
    "Recall the production planning example from the course notes to session \"16-LP Duality\" (with two products $X$ and $Y$, and three resources: material 1, material 2 and labor). Suppose that using any material 2 at all requires a set up cost of 90. If we pay this cost, then we have 48 units of material 2 at our disposal, otherwise we have no material 2. The profit maximizing production planning problem can be formulated as the following MIP. \n",
    "\n",
    "$$\\begin{aligned}\n",
    "\\text{maximize} && 20X+10Y-90M_2 \\\\\n",
    "\\text{subject to:} \\\\\n",
    "\\text{(Material 1)} && 4X+Y & \\le 60 \\\\\n",
    "\\text{(Material 2)} && 2Y & \\le 48M_2 \\\\\n",
    "\\text{(Labor)} && X+Y & \\le 30 \\\\\n",
    "\\text{(Non-negativity)}&& X,Y & \\ge 0 \\\\\n",
    "\\text{(Binary)} && M_2 & \\in \\{0,1\\}\n",
    "\\end{aligned}$$\n",
    "\n",
    "In the above, the binary variable $M_2$ corresponds whether we use material 2 or not. If we don't use it ($M_2=0$), then we don't pay the setup cost, but the Material 2 constraint becomes $2Y \\le 0$. If we use it ($M_2=1$), then we must pay 90 in the objective, but the Material 2 constraint becomes $2Y \\le 48$. \n",
    "\n",
    "Note that binary variables are allowed within our definition of MIP because $M_2 \\in \\{0,1\\}$ can be represented by linear constraint $0 \\le M_2 \\le 1$ and the constraint that $M_2$ is an integer.\n",
    "\n",
    "Note that with MIP, we can model situations in which we either don't do something at all, or go all the way. Many business decisions are such:\n",
    "\n",
    "- Capital investment requires paying the whole cost in order to reap any gain (cannot pay 5% and get 5% results).\n",
    "- Scheduling requires scheduling a person to a particular shift or not to the shift. (We cannot split a person and assign half a person to a shift.\n",
    "- When production quantities are low, it may not make sense to approximate the quantity produced as a continuous variable, as we either make 2 units or 3 units, but not 2.5.\n",
    "- Business strategies are often requir focusing of resources: we either do plan A or plan B, but cannot do half of each.\n",
    "\n",
    "### Comparing MIPS and LPs\n",
    "\n",
    "With LPs, we cannot model the dichotomous situations above, as all variables in LPs are continuous. Therefore, MIPS are more **more flexible** than LPs, because of the possibility of using more complicated constraints.\n",
    "\n",
    "However, LPs have a special geometry (see Lecture for 15-Introduction to LP, or DMD 7.3), which MIPs do not have. The difference in geometry makes MIPS **less tractable** than LPs, meaning that it is more difficult to solve. A LP with a million variable and constraints can be solved routinely with Gurobi in an hour, but a MIP of a few hundred or a thousand variables may require days to solve, depending on the particular structure of the problem. \n",
    "\n",
    "As a result of the difference in geometry, the concept of **shadow prices is not well defined in a MIP**, in the same way as it is for LPs. While one can still compute the change in the optimal objective as the right hand side (RHS) of a constraint changes, one does not get this information for free when solving the MIP. Hence, do not try to obtain the shadow price of a constraint in Gurobi when you have a MIP.\n",
    "\n",
    "### Implementing in Gurobi\n",
    "\n",
    "The only difference between implementing a MIP in Gurobi and implementing a LP is in the step defining variable.\n",
    "\n",
    "For a continuous variable $x \\ge 0$, we define it as \n",
    "```python\n",
    "x=mod.addVar(lb=0)\n",
    "```\n",
    "\n",
    "For a binary variable $x \\in \\{0,1\\}$, we must change this to \n",
    "```python\n",
    "x=mod.addVar(vtype=grb.GRB.BINARY)\n",
    "```\n",
    "where `grb` is from `import gurobipy as grb`. \n",
    "\n",
    "For a general integer variable $x$ ($x$ is any integer), we must change this to\n",
    "```python\n",
    "x=mod.addVar(vtype=grb.GRB.INTEGER)\n",
    "```\n",
    "\n",
    "To denote integers, we can use the notation, $x \\in \\mathbb{Z}$. Here, $\\mathbb{Z}$ is the mathematical notation for the set of integers: $\\mathbb{Z}=\\{\\cdots,-5,-4,-3,-2,-1,0,1,2,3,\\cdots\\}$.\n",
    "\n",
    "The following is an implementation of the MIP above."
   ]
  },
  {
   "cell_type": "code",
   "execution_count": 11,
   "metadata": {},
   "outputs": [
    {
     "name": "stdout",
     "output_type": "stream",
     "text": [
      "Optimize a model with 3 rows, 3 columns and 6 nonzeros\n",
      "Variable types: 2 continuous, 1 integer (1 binary)\n",
      "Coefficient statistics:\n",
      "  Matrix range     [1e+00, 5e+01]\n",
      "  Objective range  [1e+01, 9e+01]\n",
      "  Bounds range     [1e+00, 1e+00]\n",
      "  RHS range        [3e+01, 6e+01]\n",
      "Found heuristic solution: objective 300.0000000\n",
      "Presolve time: 0.00s\n",
      "Presolved: 3 rows, 3 columns, 7 nonzeros\n",
      "Variable types: 2 continuous, 1 integer (1 binary)\n",
      "\n",
      "Root relaxation: objective 3.100000e+02, 2 iterations, 0.00 seconds\n",
      "\n",
      "    Nodes    |    Current Node    |     Objective Bounds      |     Work\n",
      " Expl Unexpl |  Obj  Depth IntInf | Incumbent    BestBd   Gap | It/Node Time\n",
      "\n",
      "*    0     0               0     310.0000000  310.00000  0.00%     -    0s\n",
      "\n",
      "Explored 0 nodes (2 simplex iterations) in 0.05 seconds\n",
      "Thread count was 4 (of 4 available processors)\n",
      "\n",
      "Solution count 2: 310 300 \n",
      "\n",
      "Optimal solution found (tolerance 1.00e-04)\n",
      "Best objective 3.100000000000e+02, best bound 3.100000000000e+02, gap 0.0000%\n",
      "\n",
      "\n",
      "Optimal objective: 310.00\n",
      "Optimal solution:\n",
      "\tX= 10.00\n",
      "\tY= 20.00\n",
      "\tM2= 1\n"
     ]
    }
   ],
   "source": [
    "# Explicitly constructing a simple production planning LP with fixed cost of getting material\n",
    "import gurobipy as grb\n",
    "mod=grb.Model()\n",
    "\n",
    "X=mod.addVar(lb=0)\n",
    "Y=mod.addVar(lb=0)\n",
    "M2=mod.addVar(lb=0,vtype=grb.GRB.BINARY)\n",
    "\n",
    "mod.setObjective(20*X+10*Y-90*M2,sense=grb.GRB.MAXIMIZE)\n",
    "\n",
    "mat1=mod.addConstr(4*X+Y <=60)\n",
    "mat2=mod.addConstr(2*Y<=48*M2)\n",
    "labor=mod.addConstr(X+Y<=30)\n",
    "\n",
    "mod.optimize()\n",
    "\n",
    "print('\\n')\n",
    "print('Optimal objective: {0:.2f}'.format(mod.ObjVal))\n",
    "print('Optimal solution:')\n",
    "print('\\tX= {0:.2f}'.format(X.x))\n",
    "print('\\tY= {0:.2f}'.format(Y.x))\n",
    "print('\\tM2= {0:.0f}'.format(M2.x))"
   ]
  },
  {
   "cell_type": "markdown",
   "metadata": {},
   "source": [
    "The first lines (before \"Optimal objective: 310.00\") are print outs from the Gurobi MIP solver listing the steps it took to solve the MIP. You can read more about how MIP solvers work in DMD section 9.4. You can suppress this output using `mod.setParam('OutputFlag',False)` as with LPs.\n",
    "\n",
    "## Modeling with Binary Variables\n",
    "\n",
    "Binary variables can be used to model complex constraints. For example, let $X$, $Y$, and $Z$ be binary variables, representing whether we want to invest in project X, Y or Z respectively.\n",
    "\n",
    "- If X then Y (Project Y is a pre-requisite for X): $X \\le Y$.\n",
    "- X and Y are mutually exclusive (If X then not Y): $X+Y \\le 1$.\n",
    "- Need at least two projects: $X+Y+Z \\ge 2$.\n",
    "- Budget constraint (The projects cost 3,2, and 5 million respectively and we have 5 million): $3X+2Y+5Z \\le 5$.\n",
    "- Turning on/off a constraint: Suppose we have a labor constraint \n",
    "$$X+Y \\le 30$$\n",
    "as in the production planning example. However, we want to compare having this constraint, or out-sourcing our labor altogether, and pay a fee of 50. In this case, we can have a binary variable $Z$ and do\n",
    "$$X+Y \\le 30+MZ$$\n",
    "\n",
    "where $M$ is a huge constant, like $1000000$. We would subtract $50Z$ from the objective. If $Z=0$, then we don't out-source, so we have the original labor constraint. If $Z=1$, then we pay 50 in the objective, but the above labor constraint becomes $X+Y \\le 30+\\text{Huge constant}$, which effectively removes the labor constraint altogether.\n",
    "\n",
    "Here is the in-class modeling exercise and its solution:\n",
    "\n",
    "### Exercise II\n",
    "\n",
    "Alice, Bob and Charlie are three professors who each teach 2 sections, but must share the same special room. For simplicity, there are 6 time slots at the room, indexed from 0 to 5. (Slot 0 represents Monday morning, 1 represents Monday afternoon, 2 represents Monday evening, 3 represents Tuesday morning, 4 Tuesday afternoon, and 5 Tuesday evening.) \n",
    "\n",
    "**Decision Variables:** Let $a_0$ be a binary variable denoting whether Alice teaches in slot $0$, Similarly define $a_1, \\cdots, a_5$ and the same for Bob and Charlie. Let $m_a$ be a binary variable denoting whether Alice teaches on Mondays. Similarly define $m_b, m_c$, as well as $t_a,t_b,t_c$ for Tuesdays.\n",
    "\n",
    "**Model each of the following using a linear expression or a series of linear constraints:**\n",
    "\n",
    "- Linear expression: The total number days Alice teaches, plus the total number of days Bob teaches, plus the total number of days Charlie teaches. (Think of this as the objective to minimize, as professors want to get all teaching done in the same day.)\n",
    "\n",
    "$$m_a+m_b+m_c+t_a+t_b+t_c$$\n",
    "\n",
    "- Constraint: slot 0 can have at most one person assigned. (Similarly for slots 1 through 5.)\n",
    "\n",
    "$$a_0+b_0+c_0 \\le 1$$\n",
    "\n",
    "- Constraint: Alice must be assigned to exactly 2 slots. (Similarly for Bob and Charlie.)\n",
    "\n",
    "$$a_0+a_1+\\cdots+a_5 = 2$$\n",
    "\n",
    "- Constraints: Bob cannot teach in the mornings. Moreover, Charlie works at another job on Mondays and cannot teach Monday mornings and afternoons.\n",
    "\n",
    "$$b_0=0 \\qquad b_3=0 \\qquad c_0=0 \\qquad c_1=0$$\n",
    "\n",
    "- Constraints: Alice and Bob cannot teach on the same day.\n",
    "\n",
    "$$ m_a+m_b \\le 1 \\qquad t_a+t_b \\le 1$$\n",
    "\n",
    "- Constraints: If Alice teaches two slots on a given day, they must be consecutive slots.\n",
    "\n",
    "The key here is to rephrase the constraint as she cannot teach the morning and evening slots of any given day at the same time. \n",
    "\n",
    "$$ a_0+a_2 \\le 1 \\qquad a_3+a_5 \\le 1$$\n",
    "\n",
    "- Logical Constraints: If Alice teaches Monday mornings ($a_0$), then she must also necessarily teach on Mondays ($m_a$). Similarly, if she teaches Monday afternoons ($a_1$), then she must be teaching on Mondays ($m_a$). Write the 6 logical constraints connecting $a_0,a_1,\\cdots,a_5$ to $m_a$ and $t_a$.\n",
    "\n",
    "$$ \n",
    "\\begin{aligned}\n",
    "a_0 \\le m_a && a_1 \\le m_a && a_2 \\le m_a \\\\\n",
    "a_3 \\le t_a && a_4 \\le t_a && a_5 \\le t_a\n",
    "\\end{aligned}$$\n",
    "\n",
    "Note: in a problem with more people, you may want to define decision variable $x_{a0}$ for whether Alice teaches in slot 0, rather than $a_0$. In other words, $x_{ij}$ would be a binary variable denoting whether person $i$ teaches in slot $j$. \n"
   ]
  }
 ],
 "metadata": {
  "kernelspec": {
   "display_name": "Python 3",
   "language": "python",
   "name": "python3"
  },
  "language_info": {
   "codemirror_mode": {
    "name": "ipython",
    "version": 3
   },
   "file_extension": ".py",
   "mimetype": "text/x-python",
   "name": "python",
   "nbconvert_exporter": "python",
   "pygments_lexer": "ipython3",
   "version": "3.6.3"
  }
 },
 "nbformat": 4,
 "nbformat_minor": 2
}
