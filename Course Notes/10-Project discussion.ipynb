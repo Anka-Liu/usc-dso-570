{
 "cells": [
  {
   "cell_type": "markdown",
   "metadata": {},
   "source": [
    "# Final Project Discussion (2/8)\n",
    "\n",
    "**Learning Objectives:**\n",
    "\n",
    "- Describe what \"good\" means for each stakeholder in the Marshall course scheduling case. (Model)\n",
    "- Identify appropriate metrics/analyses to measure each notion of \"goodness.\" (Model)\n",
    "- Disecting, explaining and modifying the Python code in Lab 2 solutions. (Code)\n",
    "\n",
    "**Project material posted on Blackboard:**\n",
    "\n",
    "- Overview of project and deliverables (more detailed description of each deliverable and grading rubric will be posted with the submission link.) (Assignments tab)\n",
    "- Currently available data sets and description of data. (Assignments tab)\n",
    "- Visuals used by Shannon and Hal in their in-class discussion. (Content tab)\n",
    "- Team assignment spreadsheet. (Assignments tab)\n",
    "- Free supplementary resources on basic Python. (Content tab)\n",
    "\n",
    "## Defining and Measuring \"Goodness\"\n",
    "\n",
    "In-class exercise: \n",
    "\n",
    "Identify what a good outcome of the scheduling system looks like to each of the following stakeholders: students, faculty, program, department, management (i.e. Marshall leadership, USC registrar, finance office).\n",
    "\n",
    "For each outcome, find an appropriate metric or analysis to quantify or visualize it from data. The exact form of this is open ended: for example, it can be in the form of a single number for each stakeholder, or in the form of a graph or visual that illustrates the outcome. Essentially, any output of a data analysis counts. When conducting prescriptive analytics, a good metric/analysis for an outcome is CASE:\n",
    "\n",
    "- **Computable** from available data and reasonable supplemental assumptions (in cases when certain data could be collected but is currently unavailable, you may fill in the gap for now by reasonable assumption.) \n",
    "- **Actionable**: within our power to affect. For example, the number of classes scheduled in late evenings is within our power to affect, but not the number of PM MBA students or the number of students who have full time jobs.\n",
    "- **Simple** to understand and interpret. Since there are many stakeholders, it is important that the analysis is transparent and understandable.\n",
    "- **Enlightening** for the underlying outcome one is measuring. There should be a close relationship with the underlying outcome to be measured. For example, if the outcome is high utilization of 11-5pm slots, then a good metric in this category would be the percentage of times that is used up on average in JKP, but a bad metric would be the average number of classes that take place in JKP during this time, since classes have variable lengths and one can have many short classes but still have large gaps of free time in between. \n",
    "\n",
    "## Learning from Code Examples\n",
    "\n",
    "When stumbling across unfamiliar code examples, the following steps can be taken to digest the example and learn from it. It has the acronym DEMO:\n",
    "\n",
    "- **D**isect the code and break it up into small chunks, and \"look inside\" the working of the code by printing intermediary computations and looking up Python help or online documentation.\n",
    "- **E**xplain in your own words what each small chunk of code does and what the overall piece of code does.\n",
    "- **MO**dify each small chunk of code and apply it in new contexts, so as to make this coding construction your own. (It's like learning new vocabulary from example sentences.)\n",
    "\n",
    "# Digesting Lab 2 Solutions\n",
    "\n",
    "We apply these steps to learn from the Lab 2 solutions: http://nbviewer.jupyter.org/github/pengshi46/usc-dso-570/blob/master/Labs/Lab2/Lab%202-Solution.ipynb?flush_cache=true You can click this to open in a new browser and refer to it when needed.\n",
    "\n",
    "Let us begin with the first few lines.\n",
    "```python\n",
    "from scipy.stats import norm,uniform\n",
    "import numpy as np\n",
    "import matplotlib.pyplot as plt\n",
    "distN1=norm(200,60)\n",
    "distN2=norm(60,20)\n",
    "distBuyTime1=uniform(loc=0,scale=180)\n",
    "distBuyTime2=uniform(loc=0,scale=14)\n",
    "distValue1=norm(200,80)\n",
    "distValue2=norm(350,120)\n",
    "inventory=100\n",
    "fixedCost=20000\n",
    "```\n",
    "\n",
    "### Disecting\n",
    "\n",
    "- Look through the code and look up unfamiliar commands or Syntax. You may want to Google the `scipy.stats` package, the `numpy` package, or the `matplotlib.pyplot` package to gain a general description. Moreover, you may copy the code into a new cell, and type `help(norm)` or `norm?` to obtain information on the `norm` module imported from the `scipy.stats` package, and similarly for the `uniform` module.\n",
    "- According to `help(norm)`, the first parameter (called `loc`) specifies the mean and the second one (called `scale`) specifies the standard deviation. \n",
    "- According to `help(uniform)`, the first parameter (`loc`) specifies where it begins and the second one (`scale`) the length. So `uniform(3,2)` is a uniform distribution from 3 to 3+2=5. \n",
    "\n",
    "### Explaining\n",
    "\n",
    "- Explain what each line does. You may want to copy the code and write comments as below.\n"
   ]
  },
  {
   "cell_type": "code",
   "execution_count": 10,
   "metadata": {},
   "outputs": [],
   "source": [
    "# Import statements\n",
    "from scipy.stats import norm,uniform    # Import norm and uniform from scipy.stats\n",
    "import numpy as np                     # Import the numpy package and call it np\n",
    "import matplotlib.pyplot as plt        # Import the matplotlib.pyplot package and call it plt\n",
    "\n",
    "# Defining distributions\n",
    "distN1=norm(200,60)           # Define a normal distribution with mean 200 and stdev 60.\n",
    "distN2=norm(60,20)            # Define a normal dist. with mean 60 and stdev 20.\n",
    "distBuyTime1=uniform(loc=0,scale=180) # Define a uniform distribution from 0 to 180\n",
    "distBuyTime2=uniform(loc=0,scale=14)  # Define a uniform distribution from 0 to 14\n",
    "distValue1=norm(200,80)       # Define a normal dist. with mean 200 and stdev 80\n",
    "distValue2=norm(350,120)      # Define a normal dist. with mean 350 and stdev 120\n",
    "\n",
    "# Setting parameters\n",
    "inventory=100     # number of tickets\n",
    "fixedCost=20000   # cost of flight"
   ]
  },
  {
   "cell_type": "markdown",
   "metadata": {},
   "source": [
    "### Modifying\n",
    "\n",
    "Exercise:\n",
    "\n",
    "- Import the `norm` package and define a normal distribution, called `X`, with mean -100 and standard deviation 50.\n",
    "- Import the `uniform` package and define a uniform distribution, called `Y`, between -10 and 30. \n",
    "\n",
    "Answers:"
   ]
  },
  {
   "cell_type": "code",
   "execution_count": 19,
   "metadata": {},
   "outputs": [],
   "source": [
    "from scipy.stats import norm\n",
    "X=norm(-100,50)\n",
    "X=norm(loc=-100,scale=50) # Equivalent\n",
    "\n",
    "from scipy.stats import uniform\n",
    "Y=uniform(-10,40)\n",
    "Y=uniform(loc=-10,scale=40) # Equivalent"
   ]
  },
  {
   "cell_type": "markdown",
   "metadata": {},
   "source": [
    "## Generating a Scenario\n",
    "\n",
    "We next digest the `generateScenario()` function:\n",
    "\n",
    "```python\n",
    "def generateScenario():\n",
    "    '''Generate a two row numpy array, with the first row being the sorted buy times,\n",
    "    from earliest to latest. The second row is the corresponding maximum willingness to \n",
    "    pay from each customer'''\n",
    "    num1=int(max(0,distN1.rvs()))\n",
    "    num2=int(max(0,distN2.rvs()))\n",
    "    buyTimes1=distBuyTime1.rvs(size=num1)\n",
    "    buyTimes2=distBuyTime2.rvs(size=num2)\n",
    "    values1=distValue1.rvs(size=num1)\n",
    "    values2=distValue2.rvs(size=num2)\n",
    "    data=(np.vstack([np.hstack([buyTimes1,buyTimes2]),np.hstack([values1,values2])]))\n",
    "    return data[:,(-data[0,:]).argsort()]\n",
    "```\n",
    "\n",
    "This function can be broken down into 3 smaller parts, which we disect, explain, and modify below. For brevity we will not differentiate each step as clearly as before but will do them together. \n",
    "\n",
    "### Generate random numbers\n",
    "```python\n",
    "num1=int(max(0,distN1.rvs()))\n",
    "num2=int(max(0,distN2.rvs()))\n",
    "buyTimes1=distBuyTime1.rvs(size=num1)\n",
    "buyTimes2=distBuyTime2.rvs(size=num2)\n",
    "values1=distValue1.rvs(size=num1)\n",
    "values2=distValue2.rvs(size=num2)\n",
    "```\n",
    "\n",
    "As explained in earlier classes, the `rvs` function draws random samples from the given distribution. So `distN1.rvs()` draws one random number from the `distN1=norm(200,60)` distribution (normal distribution with mean 200 and stdev 60). When specifying the `size` parameter, this generates an array of independent random samples with the given size. The `max(0, )` command makes sure that the number of customers of segment 1 is not negative, and the `int( )` command rounds down the fractional number into an integer.\n",
    "\n",
    "**Exercise:** \n",
    "\n",
    "- generate a normal random variables with mean 300 and standard dev 100 and round it down to nearest integer and make it zero if negative.\n",
    "- generate an array of 5 uniformly random numbers between 10 and 14.\n",
    "\n",
    "**Answer:** (In the following, we combine the distribution declaration and the rvs() in one line to illustrate how they can be combined.)"
   ]
  },
  {
   "cell_type": "code",
   "execution_count": 25,
   "metadata": {},
   "outputs": [
    {
     "name": "stdout",
     "output_type": "stream",
     "text": [
      "380 [ 10.27716125  13.54311176  13.6163318   13.51581892  12.57043452]\n"
     ]
    }
   ],
   "source": [
    "from scipy.stats import norm,uniform\n",
    "a=int(max(0,norm(300,100).rvs()))\n",
    "b=uniform(10,4).rvs(size=5)\n",
    "print(a,b)"
   ]
  },
  {
   "cell_type": "markdown",
   "metadata": {},
   "source": [
    "### Stacking arrays\n",
    "\n",
    "The next line in the `generateScenario()` function is:\n",
    "\n",
    "```python \n",
    "data=(np.vstack([np.hstack([buyTimes1,buyTimes2]),np.hstack([values1,values2])]))\n",
    "```\n",
    "\n",
    "You can look up the `np.vstack` and `np.hstack` functions using Python help. (Type `help(np.vstack)` or `np.vstack?` in a code cell and execute.) The above line stacks the arrays so that buyTimes1 and buyTimes2 are horizontally stacked, values1 and values2 are horizontally stacked, and all the buyTimes and the values are vertically stacked. The end result is a two row array of buyTimes and values. \n",
    "\n",
    "The following code segment was used in class to illustrate creating `numpy` arrays and stacking them."
   ]
  },
  {
   "cell_type": "code",
   "execution_count": 22,
   "metadata": {},
   "outputs": [
    {
     "name": "stdout",
     "output_type": "stream",
     "text": [
      "a= [3 2 1]\n",
      "b= [0 1 2]\n",
      "c= [ 0.  0.]\n",
      "np.hstack((a,b))=\n",
      " [3 2 1 0 1 2]\n",
      "np.vstack((a,b))=\n",
      " [[3 2 1]\n",
      " [0 1 2]]\n"
     ]
    }
   ],
   "source": [
    "import numpy as np\n",
    "a=np.array([3,2,1])\n",
    "b=np.arange(3)\n",
    "c=np.zeros(2)\n",
    "print('a=',a)\n",
    "print('b=',b)\n",
    "print('c=',c)\n",
    "\n",
    "print('np.hstack((a,b))=\\n',np.hstack((a,b)))\n",
    "print('np.vstack((a,b))=\\n',np.vstack((a,b)))"
   ]
  },
  {
   "cell_type": "markdown",
   "metadata": {},
   "source": [
    "**Exercise:** \n",
    "\n",
    "- create the four one-dimensional arrays `[1,2,3]` `[4,5,6,7]` `[3,2,1]` `[7,6,5,4]` and stack them into a three row array so that the first row is `1,2,3,4,5,6,7` and second row is `7,6,5,4,3,2,1`, and the third row is `1,2,3,7,6,5,4`.\n",
    "- Horizontally stack the above array with itself.\n",
    "\n",
    "**Answer:** (the `\\n` symbol in the print statement is for new line)"
   ]
  },
  {
   "cell_type": "code",
   "execution_count": 28,
   "metadata": {},
   "outputs": [
    {
     "name": "stdout",
     "output_type": "stream",
     "text": [
      "stacked 1=\n",
      " [[1 2 3 4 5 6 7]\n",
      " [7 6 5 4 3 2 1]\n",
      " [1 2 3 7 6 5 4]]\n",
      "stacked 2=\n",
      " [[1 2 3 4 5 6 7 1 2 3 4 5 6 7]\n",
      " [7 6 5 4 3 2 1 7 6 5 4 3 2 1]\n",
      " [1 2 3 7 6 5 4 1 2 3 7 6 5 4]]\n"
     ]
    }
   ],
   "source": [
    "a=np.array([1,2,3])\n",
    "b=np.array([4,5,6,7])\n",
    "c=np.array([3,2,1])\n",
    "d=np.array([7,6,5,4])\n",
    "firstRow=np.hstack((a,b))\n",
    "secondRow=np.hstack((d,c))\n",
    "thirdRow=np.hstack((a,d))\n",
    "answer=np.vstack((firstRow,secondRow,thirdRow))\n",
    "print('stacked 1=\\n',answer)\n",
    "print('stacked 2=\\n',np.hstack((answer,answer)))"
   ]
  },
  {
   "cell_type": "markdown",
   "metadata": {},
   "source": [
    "### Sorting a 2-D array by a given row/column\n",
    "The `generateScenario()` function returns the following object\n",
    "```python\n",
    "data[:,(-data[0,:]).argsort()]\n",
    "``` \n",
    "\n",
    "This is a complex expression and can be used to illustrate the **disecting step** in understanding code. First, we know that the `data` variable contains a two rowed 2-dimensional python array, so instead of using the actual generated data, which is large, let us use a smaller array for the disecting step. See the original data and the output of the above line below."
   ]
  },
  {
   "cell_type": "code",
   "execution_count": 63,
   "metadata": {},
   "outputs": [
    {
     "name": "stdout",
     "output_type": "stream",
     "text": [
      "data=\n",
      " [[ 3  1  8  9  5]\n",
      " [ 6  7  2  4 10]]\n",
      "data[:,(-data[0,:]).argsort()]=\n",
      " [[ 9  8  5  3  1]\n",
      " [ 4  2 10  6  7]]\n"
     ]
    }
   ],
   "source": [
    "data=np.array([[3,1,8,9,5],[6,7,2,4,10]])\n",
    "print('data=\\n',data)\n",
    "print('data[:,(-data[0,:]).argsort()]=\\n',data[:,(-data[0,:]).argsort()])"
   ]
  },
  {
   "cell_type": "markdown",
   "metadata": {},
   "source": [
    "As can be seen, the complex command sorts the original two rowed array by the first row, from largest to smallest. This was what we wanted in the simulation so as to sort the customers from those who come 180 days before to those who come just before arrival, while keeping the value for each customer. (If we had sorted the whole array, we would have sorted both rows and not kept the correspondence between each valuation and each time of arrival.)\n",
    "\n",
    "The following block of code breaks down the line into smaller components and print what each component does. An explanation of each piece is given in the explanatory print statements. (The `\\t` in print statments are for tab.) **Read the output first, as that is most clear.**"
   ]
  },
  {
   "cell_type": "code",
   "execution_count": 64,
   "metadata": {},
   "outputs": [
    {
     "name": "stdout",
     "output_type": "stream",
     "text": [
      "data=\n",
      " [[ 3  1  8  9  5]\n",
      " [ 6  7  2  4 10]]\n",
      "\n",
      "Get first row of data\n",
      "\tdata[0,:]= [3 1 8 9 5]\n",
      "\n",
      "Get sorted order of first row: i.e. index of smallest element, index of second smallest, ...\n",
      "\tsortedOrder=data[0,:].argsort()= [1 0 4 2 3]\n",
      "\n",
      "Reversing the order by sorting the negative of first row\n",
      "\treverseOrder=(-data[0,:]).argsort()= [3 2 4 0 1]\n",
      "\n",
      "Get all rows of original data, but reshuffle the columns according to sorted order\n",
      "\n",
      "data[:,reverseOrder]=\n",
      " [[ 9  8  5  3  1]\n",
      " [ 4  2 10  6  7]]\n"
     ]
    }
   ],
   "source": [
    "print('data=\\n',data)\n",
    "print('\\nGet first row of data')\n",
    "print('\\tdata[0,:]=',data[0,:]) \n",
    "\n",
    "print('\\nGet sorted order of first row: i.e. index of smallest element, index of second smallest, ...')\n",
    "sortedOrder=data[0,:].argsort()\n",
    "print('\\tsortedOrder=data[0,:].argsort()=',sortedOrder) \n",
    "print('\\nReversing the order by sorting the negative of first row')\n",
    "reverseOrder=(-data[0,:]).argsort()\n",
    "print('\\treverseOrder=(-data[0,:]).argsort()=',reverseOrder) \n",
    "print('\\nGet all rows of original data, but reshuffle the columns according to sorted order')\n",
    "print('\\ndata[:,reverseOrder]=\\n',data[:,reverseOrder]) \n",
    "\n"
   ]
  },
  {
   "cell_type": "markdown",
   "metadata": {},
   "source": [
    "The alternative command `np.sort`, would sort every row by itself. To indicate which axis to sort by, supply the axis argument. `axis=0` meaning sorting by row, and `axis=` meaning sorting by column (the default would be to sort by the last axis. For 2-D arrays, that would be sorting by the columns). See the output below.\n"
   ]
  },
  {
   "cell_type": "code",
   "execution_count": 70,
   "metadata": {},
   "outputs": [
    {
     "name": "stdout",
     "output_type": "stream",
     "text": [
      "original data: \n",
      " [[ 3  1  8  9  5]\n",
      " [ 6  7  2  4 10]]\n",
      "\n",
      "Sorting each row by columns: np.sort(data):\n",
      " [[ 1  3  5  8  9]\n",
      " [ 2  4  6  7 10]]\n",
      "\n",
      "Sorting each row by columns (equivalent): np.sort(data,axis=1):\n",
      "  [[ 1  3  5  8  9]\n",
      " [ 2  4  6  7 10]]\n",
      "\n",
      "Sorting each column by the row: np.sort(data,axis=0):\n",
      "  [[ 3  1  2  4  5]\n",
      " [ 6  7  8  9 10]]\n"
     ]
    }
   ],
   "source": [
    "print('original data: \\n',data)\n",
    "print('\\nSorting each row by columns: np.sort(data):\\n',np.sort(data))\n",
    "print('\\nSorting each row by columns (equivalent): np.sort(data,axis=1):\\n ', np.sort(data,axis=1))\n",
    "print('\\nSorting each column by the row: np.sort(data,axis=0):\\n ', np.sort(data,axis=0))\n"
   ]
  },
  {
   "cell_type": "markdown",
   "metadata": {},
   "source": [
    "**Exercise:**\n",
    "\n",
    "- Define the array `[[1,3,4],[2,1,3],[3,2,1]]` and sort it in increasing order by row 0.\n",
    "- Sort it in decreasing order by row 1.\n",
    "- Sort every row in by itself in increasing order using `np.sort()`.\n",
    "- Sort every column by itself in increasing order using `np.sort()`.\n",
    "- Sort it in reverse order by column 1.\n",
    "- Sort the array `[2,1,3,10,9,8]` according to increasing order of the array `[10,8,6,4,3,1]`.\n",
    "\n",
    "**Answer:**"
   ]
  },
  {
   "cell_type": "code",
   "execution_count": 80,
   "metadata": {},
   "outputs": [
    {
     "name": "stdout",
     "output_type": "stream",
     "text": [
      "Original array a=\n",
      " [[1 3 4]\n",
      " [2 1 3]\n",
      " [3 2 1]]\n",
      "Sorted in increasing order by row 0:\n",
      " [[1 3 4]\n",
      " [2 1 3]\n",
      " [3 2 1]]\n",
      "Sorted in decreasing order by row 1:\n",
      " [[4 1 3]\n",
      " [3 2 1]\n",
      " [1 3 2]]\n",
      "Every row sorted by itself:\n",
      " [[1 3 4]\n",
      " [1 2 3]\n",
      " [1 2 3]]\n",
      "Every column sorted by itself:\n",
      " [[1 1 1]\n",
      " [2 2 3]\n",
      " [3 3 4]]\n",
      "Sorted in reverse order by column 1\n",
      " [[1 3 4]\n",
      " [3 2 1]\n",
      " [2 1 3]]\n",
      "Array b=[ 2  1  3 10  9  8], c=[10  8  6  4  3  1], b[c.argsort()]=[ 8  9 10  3  1  2]\n",
      "This reverses array b because c is in reverse order.\n"
     ]
    }
   ],
   "source": [
    "a=np.array([[1,3,4],[2,1,3],[3,2,1]])\n",
    "print('Original array a=\\n',a)\n",
    "print('Sorted in increasing order by row 0:\\n',a[:,a[0].argsort()])\n",
    "print('Sorted in decreasing order by row 1:\\n',a[:,(-a[1]).argsort()])\n",
    "print('Every row sorted by itself:\\n',np.sort(a))\n",
    "print('Every column sorted by itself:\\n',np.sort(a,axis=0))\n",
    "print('Sorted in reverse order by column 1\\n',a[(-a[:,1]).argsort(),:])\n",
    "b=np.array([2,1,3,10,9,8])\n",
    "c=np.array([10,8,6,4,3,1])\n",
    "print('Array b={0}, c={1}, b[c.argsort()]={2}'.format(b,c,b[c.argsort()]))\n",
    "print('This reverses array b because c is in reverse order.')"
   ]
  },
  {
   "cell_type": "markdown",
   "metadata": {},
   "source": [
    "## Simulating Scenarios\n",
    "\n",
    "A scenario as generated above is this 2 rowed table, with the first row being sorted buy times of each customer (in days before departure) and second row being corresponding valuations of each. There are three functions in Lab 2 that are used to simulate the profit in a given scenario, and each function corresponds to one of the three pricing policies. Besides taking the scenario as an input (called `data`), each function also takes the parameters of the pricing policy.\n",
    "\n",
    "- For constant price, the `price` parameters is the price. (see the `simulatePrice` function)\n",
    "- For RM1, the `price1` parameter is the initial price offered, and `price2` is the price in the last 14 days. (see the `simulateRM1` function)\n",
    "- For RM2, `price1` is the initial price, `price2` is the new price after `quantity` number of tickets are sold. (see the `simulateRM2` function)\n",
    "\n",
    "**The overall logic is that the functions calculate the profit for each scenario under a given paramter. The later code searches through a large set of parameters and find one with the best average profit under 100 scenarios.***\n",
    "\n",
    "Let us apply the disect, explain, and modify method to digest each function in sequence.\n",
    "\n",
    "### Constant Price\n",
    "\n",
    "```python\n",
    "def simulatePrice(data,price):\n",
    "    '''Given the a simulated scenario from generateScenario() (stored in the data variable), \n",
    "    and given a price, return the profit from implementing constant price policy with this price.'''\n",
    "    return min(inventory,np.sum(data[1]>=price))*price-fixedCost\n",
    "```\n",
    "\n",
    "As you will learn by using python help on `inventory` and `fixedCost`, these are parameters set in the beginning of the lab, and equal to 100 and 20000 respectively. The `min` function takes the minimum of the given argument. The most difficult to understand expression here is `np.sum(data[1]>=price)`, which we disect below."
   ]
  },
  {
   "cell_type": "code",
   "execution_count": 46,
   "metadata": {},
   "outputs": [
    {
     "name": "stdout",
     "output_type": "stream",
     "text": [
      "data1 is [3 5 2 1 4 3]\n",
      "data1>=3 is [ True  True False False  True  True]\n",
      "np.sum(data1>=3) is 4\n"
     ]
    }
   ],
   "source": [
    "data1=np.array([3,5,2,1,4,3])\n",
    "print('data1 is',data1)\n",
    "print('data1>=3 is',data1>=3)\n",
    "print('np.sum(data1>=3) is',np.sum(data1>=3))"
   ]
  },
  {
   "cell_type": "markdown",
   "metadata": {},
   "source": [
    "As can be seen, when we take a numpy array and apply `>=` with a number, we get a True/False array of whether each element of the original array is greater than or equal to that given number. Finally, `np.sum` sums the True/False array, with True interpreted as 1 and False as 0. The end result is simply to count how many elements are greater than or equal to 3. \n",
    "\n",
    "In context of `simulatePrice`, the line `np.sum(data[1]>=price)` counts how many people have valuations greater than or equal to the price, take the minimum of this and the number of available tickets to obtain the number of tickets sold, multiply by the price and minus the fixed cost to obtain the profit.\n",
    "\n",
    "**Exercise:** Declare an array `a=np.array([[1,3,4,5,6],[3,2,7,1,2]])` and use `np.sum` to count\n",
    "\n",
    "- how many entries are less than 3.\n",
    "- how many entries are less than or equal to 3.\n",
    "- how many entries in row 0 are less than or equal to 3.\n",
    "- how many entries in column 1 are greater than 2.\n",
    "- the total sum of the entries.\n",
    "- the total sum of entries in column 0\n",
    "\n",
    "**Answer:**\n"
   ]
  },
  {
   "cell_type": "code",
   "execution_count": 51,
   "metadata": {},
   "outputs": [
    {
     "name": "stdout",
     "output_type": "stream",
     "text": [
      "a=\n",
      " [[1 3 4 5 6]\n",
      " [3 2 7 1 2]]\n",
      "# entries < 3: 4\n",
      "# entries <= 3: 6\n",
      "# entries in row 0 <=3: 2\n",
      "# entries in column 1 >2: 1\n",
      "Sum of entries: 34\n",
      "Sum of entries in column 0: 4\n"
     ]
    }
   ],
   "source": [
    "a=np.array([[1,3,4,5,6],[3,2,7,1,2]])\n",
    "print('a=\\n',a)\n",
    "print('# entries < 3:',np.sum(a<3))\n",
    "print('# entries <= 3:',np.sum(a<=3))\n",
    "print('# entries in row 0 <=3:', np.sum(a[0]<=3))\n",
    "print('# entries in column 1 >2:',np.sum(a[:,1]>2))\n",
    "print('Sum of entries:',np.sum(a))\n",
    "print('Sum of entries in column 0:',np.sum(a[:,0]))"
   ]
  },
  {
   "cell_type": "markdown",
   "metadata": {},
   "source": [
    "### RM 1 Policy: Increase Price in Last 14 Days\n",
    "\n",
    "```python\n",
    "def simulateRM1(data,price1,price2):\n",
    "    '''Given the simulated scenario from generateScenario() (stored in the data variable),\n",
    "    as well as the price before 14 days to departure and the price within 14 days,\n",
    "    return the profit from the RM1 policy, which is to increase price for last 14 days.'''\n",
    "    vFirstPeriod=data[1,data[0]>14]\n",
    "    vSecondPeriod=data[1,data[0]<=14]\n",
    "    demand1=min(inventory,np.sum(vFirstPeriod>=price1))\n",
    "    demand2=min(inventory-demand1,np.sum(vSecondPeriod>=price2))\n",
    "    return price1*demand1+price2*demand2-fixedCost\n",
    "```\n",
    "\n",
    "This function is similar to constant price except that there is a `price1` for before last 14 days, and another `price2` for the last 14 days. The code here breaks up the valuation to those before 14 days and those after 14 days. This is illustrated as below, using the same smaller data object for ease of understanding."
   ]
  },
  {
   "cell_type": "code",
   "execution_count": 82,
   "metadata": {},
   "outputs": [
    {
     "name": "stdout",
     "output_type": "stream",
     "text": [
      "data=\n",
      " [[ 3  1  8  9  5]\n",
      " [ 6  7  2  4 10]]\n",
      "data[:,data[0]<=8] filters columns such that first row is no more than 8\n",
      " [[ 3  1  8  5]\n",
      " [ 6  7  2 10]]\n",
      "data[1,data[0]<=8] displays only row 1 of the above\n",
      " [ 6  7  2 10]\n"
     ]
    }
   ],
   "source": [
    "data=np.array([[3,1,8,9,5],[6,7,2,4,10]])\n",
    "print('data=\\n',data)\n",
    "print('data[:,data[0]<=8] filters columns such that first row is no more than 8\\n',data[:,data[0]<=8])\n",
    "print('data[1,data[0]<=8] displays only row 1 of the above\\n',data[1,data[0]<=8])"
   ]
  },
  {
   "cell_type": "markdown",
   "metadata": {},
   "source": [
    "**Exercise:** Declare an array `np.array([[1,3,4,5],[2,1,3,7],[3,2,1,0]])`\n",
    "\n",
    "- Filter for all columns such that row 0 is at least 3.\n",
    "- Select row 2 such that row 0 is at least 3.\n",
    "- Select column 3 such that column 0 is less than or equal to 2.\n",
    "\n",
    "**Answer:**"
   ]
  },
  {
   "cell_type": "code",
   "execution_count": 105,
   "metadata": {},
   "outputs": [
    {
     "name": "stdout",
     "output_type": "stream",
     "text": [
      "Array a=\n",
      " [[1 3 4 5]\n",
      " [2 1 3 7]\n",
      " [3 2 1 0]]\n",
      "Filtering all columns such that row 0 is at least 3\n",
      " [[3 4 5]\n",
      " [1 3 7]\n",
      " [2 1 0]]\n",
      "Get row 2 such that row 0 is at least 3\n",
      " [2 1 0]\n",
      "Select column 3 such that column 0 is <= 2 (note that column is now 1-D so displayed in row form) \n",
      " [5 7]\n"
     ]
    }
   ],
   "source": [
    "a=np.array([[1,3,4,5],[2,1,3,7],[3,2,1,0]])\n",
    "print('Array a=\\n',a)\n",
    "print('Filtering all columns such that row 0 is at least 3\\n',a[:,a[0]>=3])\n",
    "print('Get row 2 such that row 0 is at least 3\\n',a[2,a[0]>=3])\n",
    "print('Select column 3 such that column 0 is <= 2 (note that column is now 1-D so displayed in row form) \\n',a[a[:,0]<=2,3]) \n",
    "                                                              "
   ]
  },
  {
   "cell_type": "markdown",
   "metadata": {},
   "source": [
    "### RM 2 Policy: Increasing Price after Certain Quantity Sold\n",
    "\n",
    "```python\n",
    "def simulateRM2(data,price1,price2,quantity):\n",
    "    '''Given the simulated scenario from generateScenario() (stored in the data variable),\n",
    "    as well as the initial price, the later price, and the quantity to sell before increasing price,\n",
    "    return the profit from the RM2 policy, which is to increase price after selling a certain quantity.'''\n",
    "    sold=0\n",
    "    rev=0\n",
    "    curPrice=price1\n",
    "    for t,v in data.T:\n",
    "        if sold==quantity:\n",
    "            curPrice=price2\n",
    "        if v>=curPrice:\n",
    "            sold+=1\n",
    "            rev+=curPrice\n",
    "        if sold==inventory:\n",
    "            break\n",
    "    return rev-fixedCost\n",
    "```\n",
    "\n",
    "The commands used here are relatively simple.\n",
    "\n",
    "- Assignments of data to variable.\n",
    "- `for` loop to iterate through the columns of data (`data.T` transposes the array, so we are now iterating through the columns instead of the rows.) Specifically, `for t,v in data.T` goes through each column of data, which is an array of 2 numbers, and assign the first number to `t` and the second to `v`. This is because the in the output of `generateScenario()`, row 0 is buy time and row 1 is valuations.\n",
    "- `if` statement to decide whether we have sold up to quantity yet, as well as whether the current customer would buy.\n",
    "- `break` statement for exiting the loop when we have sold enough inventory. In general, `break` exists whatever loop we are in. (For nested loops, it only exits one layer of the loop.)\n",
    "\n",
    "However, the logic is more involved than the other functions, as there are several `if` statements. In these cases, a useful technique for **disecting** code is to feed it a small set of parameters, and add print statements so we can watch it go through each step. Below is an illustration. **Look at the output first for clarity.**"
   ]
  },
  {
   "cell_type": "code",
   "execution_count": 111,
   "metadata": {},
   "outputs": [
    {
     "name": "stdout",
     "output_type": "stream",
     "text": [
      "Executing simulateRM2 with data=\n",
      "[[180 178 150 140 130 129]\n",
      " [200 150 100 250 500 300]]\n",
      " price1=200 price2=300 quantity=2\n",
      "\n",
      "Initialized sold=0, rev=0, curPrice=200\n",
      "\t new customer came at t=180 with valuation v=200, curPrice=200\n",
      "\t\t v>=curPrice. Updating sold=1, rev=200\n",
      "\t new customer came at t=178 with valuation v=150, curPrice=200\n",
      "\t new customer came at t=150 with valuation v=100, curPrice=200\n",
      "\t new customer came at t=140 with valuation v=250, curPrice=200\n",
      "\t\t v>=curPrice. Updating sold=2, rev=400\n",
      "\t new customer came at t=130 with valuation v=500, curPrice=200\n",
      "\t\t sold==2, Incrementing curPrice=300\n",
      "\t\t v>=curPrice. Updating sold=3, rev=700\n",
      "\t new customer came at t=129 with valuation v=300, curPrice=300\n",
      "\t\t v>=curPrice. Updating sold=4, rev=1000\n",
      "Returning rev=1000 minus fixedCost=20000\n",
      "Final output: -19000\n"
     ]
    }
   ],
   "source": [
    "def simulateRM2_verbose(data,price1,price2,quantity):\n",
    "    print('Executing simulateRM2 with data=\\n{0}\\n price1={1} price2={2} quantity={3}\\n'.format(data,price1,price2,quantity))\n",
    "    sold=0\n",
    "    rev=0\n",
    "    curPrice=price1\n",
    "    print('Initialized sold={0}, rev={1}, curPrice={2}'.format(sold,rev,curPrice))\n",
    "    for t,v in data.T:\n",
    "        print('\\t new customer came at t={0} with valuation v={1}, curPrice={2}'.format(t,v,curPrice))\n",
    "        if sold==quantity:\n",
    "            curPrice=price2\n",
    "            print('\\t\\t sold=={0}, Incrementing curPrice={1}'.format(quantity,curPrice))\n",
    "        if v>=curPrice:\n",
    "            sold+=1\n",
    "            rev+=curPrice\n",
    "            print('\\t\\t v>=curPrice. Updating sold={0}, rev={1}'.format(sold,rev))\n",
    "        if sold==inventory:\n",
    "            print('\\t\\t sold==inventory. Exit loop')\n",
    "            break\n",
    "    print('Returning rev={0} minus fixedCost={1}'.format(rev,fixedCost))\n",
    "    return rev-fixedCost\n",
    "          \n",
    "data=np.array([[180,178,150,140,130,129],[200,150,100,250,500,300]])\n",
    "quantity=2\n",
    "price1=200\n",
    "price2=300\n",
    "profit=simulateRM2_verbose(data,price1,price2,quantity)\n",
    "print('Final output:',profit)"
   ]
  },
  {
   "cell_type": "markdown",
   "metadata": {},
   "source": [
    "**Exercise:**\n",
    "\n",
    "Modify the `simulateRM2` function to allow for a second price increase at another quantity. Specifically, write a function of the form\n",
    "```python\n",
    "def simulateRM3(data,price1,price2,price3,quantity1,quantity1)\n",
    "\n",
    "```\n",
    "Such that the initial price is price1, but when `quantity1` # of tickets is sold, then the price changes to price2. Moreover, when `quantity2` # of tickets is sold, then the price changes again to price3.\n",
    "\n",
    "**Answer:**"
   ]
  },
  {
   "cell_type": "code",
   "execution_count": 112,
   "metadata": {},
   "outputs": [
    {
     "name": "stdout",
     "output_type": "stream",
     "text": [
      "Executing simulateRM3 with data=\n",
      "[[180 178 150 140 130 129]\n",
      " [200 150 100 250 500 300]]\n",
      " price1=100 price2=200 price3=400 quantity1=2 quantity2=3\n",
      "\n",
      "Initialized sold=0, rev=0, curPrice=100\n",
      "\t new customer came at t=180 with valuation v=200, curPrice=100\n",
      "\t\t v>=curPrice. Updating sold=1, rev=100\n",
      "\t new customer came at t=178 with valuation v=150, curPrice=100\n",
      "\t\t v>=curPrice. Updating sold=2, rev=200\n",
      "\t new customer came at t=150 with valuation v=100, curPrice=100\n",
      "\t\t sold==2, updating curPrice=200\n",
      "\t new customer came at t=140 with valuation v=250, curPrice=200\n",
      "\t\t sold==2, updating curPrice=200\n",
      "\t\t v>=curPrice. Updating sold=3, rev=400\n",
      "\t new customer came at t=130 with valuation v=500, curPrice=200\n",
      "\t\t sold==3, updating curPrice=400\n",
      "\t\t v>=curPrice. Updating sold=4, rev=800\n",
      "\t new customer came at t=129 with valuation v=300, curPrice=400\n",
      "Returning rev=800 minus fixedCost=20000\n",
      "Final output: -19200\n"
     ]
    }
   ],
   "source": [
    "def simulateRM3_verbose(data,price1,price2,price3,quantity1,quantity2):\n",
    "    print('Executing simulateRM3 with data=\\n{0}\\n price1={1} price2={2} price3={3} quantity1={4} quantity2={5}\\n'.format(data,price1,price2,price3,quantity1,quantity2))\n",
    "    sold=0\n",
    "    rev=0\n",
    "    curPrice=price1\n",
    "    print('Initialized sold={0}, rev={1}, curPrice={2}'.format(sold,rev,curPrice))\n",
    "    for t,v in data.T:\n",
    "        print('\\t new customer came at t={0} with valuation v={1}, curPrice={2}'.format(t,v,curPrice))\n",
    "        if sold==quantity1:\n",
    "            curPrice=price2\n",
    "            print('\\t\\t sold=={0}, updating curPrice={1}'.format(quantity1,price2))\n",
    "        elif sold==quantity2:\n",
    "            curPrice=price3\n",
    "            print('\\t\\t sold=={0}, updating curPrice={1}'.format(quantity2,price3))\n",
    "        \n",
    "        if v>=curPrice:\n",
    "            sold+=1\n",
    "            rev+=curPrice\n",
    "            print('\\t\\t v>=curPrice. Updating sold={0}, rev={1}'.format(sold,rev))\n",
    "            \n",
    "        if sold==inventory:\n",
    "            print('\\t\\t sold==inventory. Exit loop')\n",
    "            break\n",
    "    print('Returning rev={0} minus fixedCost={1}'.format(rev,fixedCost))\n",
    "    return rev-fixedCost\n",
    "\n",
    "data=np.array([[180,178,150,140,130,129],[200,150,100,250,500,300]])\n",
    "quantity1=2\n",
    "quantity2=3\n",
    "price1=100\n",
    "price2=200\n",
    "price3=400\n",
    "profit=simulateRM3_verbose(data,price1,price2,price3,quantity1,quantity2)\n",
    "print('Final output:',profit)"
   ]
  },
  {
   "cell_type": "markdown",
   "metadata": {},
   "source": [
    "Note that the line `sold==2, updating curPrice=200` occurred twice in the above output. This is because after the first update, the customer did not buy, so the number sold remained at 2 in the next loop. We can eliminate the redundant checking by moving the if statements that check for `if sold==quantity...` into the if statement `if v>=curPrice`, after we increment `sold+=1`, so that we only check the quantity sold after it changes. This does not change the output of the code but makes it more efficient."
   ]
  },
  {
   "cell_type": "markdown",
   "metadata": {},
   "source": [
    "# Optimization by Enumeration\n",
    "\n",
    "After completing the `generateScenario`, `simulatePrice`, `simulateRM1` and `simulateRM2` functions, the provided code in Lab 2 uses these functions to optimize for the best parameters under each pricing policy. \n",
    "\n",
    "## Optimizing the Constant Price Policy\n",
    "\n",
    "```python\n",
    "def analyzePrice():\n",
    "    prices=range(150,300,1)\n",
    "    np.random.seed(0)\n",
    "    dataSet=[generateScenario() for t in range(100)]\n",
    "    values=[np.average([simulatePrice(data,price) for data in dataSet]) for price in prices]\n",
    "    \n",
    "    plt.plot(prices,values)\n",
    "    plt.title('Revenue from constant price policy')\n",
    "    plt.xlabel('Price')\n",
    "    plt.ylabel('Revenue')\n",
    "    plt.show()\n",
    "    \n",
    "    index=values.index(max(values))\n",
    "    print ('Best constant price = {0}, best profit={1}'.format(prices[index],values[index]))\n",
    "        \n",
    "    \n",
    "analyzePrice()\n",
    "```\n",
    "\n",
    "The above code looks at every price in `range(150,300,1)`, which is `[150,151,..., 299]` and compute the average profit in 100 generated scenarios. To save time, the code first generates all 100 scenarios, and use the same scenarios for all prices. It then plots the profit (averaged from 100 scenarios) against the price, and return the best price.\n",
    "\n",
    "### Setting the random seed\n",
    "The line `np.random.seed(0)` makes sure that every time the code is run, the random scenario generated are the same. This is not necessary but it is helpful as it ensures that the constant price policy is getting the same scenarios as the RM1 and RM2 policies, which makes the comparison fair. Instead of `0`, you can set the seed to any number you like. Consider the following example.\n"
   ]
  },
  {
   "cell_type": "code",
   "execution_count": 114,
   "metadata": {},
   "outputs": [
    {
     "name": "stdout",
     "output_type": "stream",
     "text": [
      "Setting seed to 0\n",
      "First random number 4.76405234597\n",
      "Second random number 3.40015720837\n",
      "third random number 3.97873798411\n",
      "Resetting seed to 0\n",
      "fourth random number 4.76405234597\n",
      "fifth random number 3.40015720837\n"
     ]
    }
   ],
   "source": [
    "from scipy.stats import norm\n",
    "X=norm(3,1)\n",
    "print('Setting seed to 0')\n",
    "np.random.seed(0)\n",
    "print('First random number',X.rvs())\n",
    "print('Second random number',X.rvs())\n",
    "print('third random number',X.rvs())\n",
    "print('Resetting seed to 0')\n",
    "np.random.seed(0)\n",
    "print('fourth random number',X.rvs())\n",
    "print('fifth random number',X.rvs())"
   ]
  },
  {
   "cell_type": "markdown",
   "metadata": {},
   "source": [
    "Notice how after setting the seed again, we get the same sequence of numbers as before.\n",
    "\n",
    "**Exercise:**\n",
    "\n",
    "- Generate 5 random uniformly random numbers between 10 and 15 (using `rvs(size=5)`). Then generate another 5 uniformly random numbers. Notice the numbers are different.\n",
    "- Now do the same exercise, but set the seed to 3 before generating each one. Notice now the numbers are the same."
   ]
  },
  {
   "cell_type": "code",
   "execution_count": 115,
   "metadata": {},
   "outputs": [
    {
     "name": "stdout",
     "output_type": "stream",
     "text": [
      "First set of numbers [ 13.01381688  12.72441591  12.118274    13.22947057  12.18793606]\n",
      "Second set of numbers [ 14.458865    14.8183138   11.91720759  13.95862519  12.6444746 ]\n",
      "Third set of numbers [ 12.75398951  13.54073911  11.45452369  12.55413803  14.46473477]\n",
      "Fourth set of numbers [ 12.75398951  13.54073911  11.45452369  12.55413803  14.46473477]\n"
     ]
    }
   ],
   "source": [
    "from scipy.stats import uniform\n",
    "X=uniform(10,5)\n",
    "print('First set of numbers',X.rvs(size=5))\n",
    "print('Second set of numbers',X.rvs(size=5))\n",
    "np.random.seed(3)\n",
    "print('Third set of numbers',X.rvs(size=5))\n",
    "np.random.seed(3)\n",
    "print('Fourth set of numbers',X.rvs(size=5))"
   ]
  },
  {
   "cell_type": "markdown",
   "metadata": {},
   "source": [
    "### List comprehension\n",
    "The following code uses a Python shortcut for creating lists, called *list comprehension*.\n",
    "```python\n",
    "    dataSet=[generateScenario() for t in range(100)]\n",
    "    values=[np.average([simulatePrice(data,price) for data in dataSet]) for price in prices]\n",
    "```\n",
    "\n",
    "Essentially, the first line produces the same result as\n",
    "```python\n",
    "dataSet=[]\n",
    "for t in range(100):\n",
    "    dataSet.append(generateScenario())\n",
    "```\n",
    "Instead of declaring a `for` loop and adding items to the list one by one, the `dataSet=[generateScenario() for t in range(100)]` does everything in one line. \n",
    "\n",
    "The second line is equivalent to\n",
    "```python\n",
    "values=[]\n",
    "for price in prices:\n",
    "    profitSamples=[]\n",
    "    for data in dataSet:\n",
    "        profitSamples.append(simulatePrice(data,price))\n",
    "    averageProfit=np.average(profitSamples)\n",
    "    values.append(averageProfit)\n",
    "```\n",
    "\n",
    "List comprehension does the looping and list creation together in an intuitive way, while having the advantage of saving lines of code and speeding up the internal processing. Below are some further examples of list comprehension. Notice that list comprehension also allows for multiple loops.\n"
   ]
  },
  {
   "cell_type": "code",
   "execution_count": 128,
   "metadata": {},
   "outputs": [
    {
     "name": "stdout",
     "output_type": "stream",
     "text": [
      "[6, 8, 10]\n",
      "[0, -1, -2, -3, -4, -5, -6, -7, -8, -9]\n",
      "[100, 101, 102, 103, 104, 200, 201, 202, 203, 204, 300, 301, 302, 303, 304]\n"
     ]
    }
   ],
   "source": [
    "print([2*i for i in [3,4,5]])\n",
    "print([-i for i in range(10)])\n",
    "print([i*100+j for i in range(1,4) for j in range(5) ])"
   ]
  },
  {
   "cell_type": "markdown",
   "metadata": {},
   "source": [
    "\n",
    "**Exercise:**\n",
    "\n",
    "- Use list comprehension to create a list with values $1\\times 1$, $2 \\times 2$ all the way up to $10 \\times 10$.\n",
    "- Use `np.average` to compute the average value of this list.\n",
    "- Use list comprehension to create a list of size 10, each with 5 draws of a `norm(1,1)` random variable.\n",
    "\n",
    "**Answers:**"
   ]
  },
  {
   "cell_type": "code",
   "execution_count": 129,
   "metadata": {},
   "outputs": [
    {
     "name": "stdout",
     "output_type": "stream",
     "text": [
      "[1, 4, 9, 16, 25, 36, 49, 64, 81, 100]\n",
      "38.5\n",
      "[array([ 1.47145428,  1.23293499,  1.8533351 ,  0.74755619,  1.18251382]), array([ 0.88428064,  2.54330902,  0.32013762,  2.3160143 ,  0.77561667]), array([ 0.78928833,  0.66691014,  1.5746864 ,  0.92576713,  2.4663752 ]), array([ 0.64925895,  0.57900849,  1.43194254,  0.90006809,  1.54785066]), array([ 3.63730906,  1.78845682, -0.01753958,  2.06927281,  0.81848383])]\n"
     ]
    }
   ],
   "source": [
    "print([i*i for i in range(1,11)])\n",
    "print(np.average([i*i for i in range(1,11)]))\n",
    "print([norm(1,1).rvs(size=5) for i in range(5)])"
   ]
  },
  {
   "cell_type": "markdown",
   "metadata": {},
   "source": [
    "Note: we could have created a 10 by 5 array of random numbers by supplying the tuple `(10,5)` to size directly. As below. "
   ]
  },
  {
   "cell_type": "code",
   "execution_count": 130,
   "metadata": {},
   "outputs": [
    {
     "name": "stdout",
     "output_type": "stream",
     "text": [
      "[[ 0.9058414   1.31601162  0.53530541 -0.55610702  1.70821457]\n",
      " [ 0.7627285   2.30780347  0.92835475 -1.27907707  2.52080411]\n",
      " [ 1.69483058  1.2932445   0.17217511  0.68831159  2.82097863]\n",
      " [-0.81253704  1.65228156  1.51566148 -0.02121666  0.55107647]\n",
      " [ 2.37849537 -0.02035751 -1.68411037  1.02830028  1.71088548]\n",
      " [ 1.19504572  1.51882028  0.21597799  2.04989656  0.49436353]\n",
      " [ 1.53321922  1.42745909  1.22394039  0.52049339  0.05611494]\n",
      " [ 0.217179    1.37070428  0.14144409  1.49824704  1.63040281]\n",
      " [-0.36760905  1.30175674 -0.22001177 -1.47660281  1.37394942]\n",
      " [-2.05140943  1.1090795   1.44098817 -0.34603852 -1.7309097 ]]\n"
     ]
    }
   ],
   "source": [
    "print(norm(1,1).rvs(size=(10,5)))"
   ]
  },
  {
   "cell_type": "markdown",
   "metadata": {},
   "source": [
    "### Searching through a list\n",
    "\n",
    "The code\n",
    "```python\n",
    "index=values.index(max(values))\n",
    "print ('Best constant price = {0}, best profit={1}'.format(prices[index],values[index]))\n",
    "```\n",
    "finds the first index of the list `values` with the maximum value, as well as the corresponding price. Below is further illustration."
   ]
  },
  {
   "cell_type": "code",
   "execution_count": 131,
   "metadata": {},
   "outputs": [
    {
     "name": "stdout",
     "output_type": "stream",
     "text": [
      "list l= [3, 4, 5, 2, 5]\n",
      "max(l)= 5\n",
      "l.index(3)= 0\n",
      "l.index(4)= 1\n",
      "l.index(5)= 2\n",
      "l.index(2)= 3\n"
     ]
    }
   ],
   "source": [
    "l=[3,4,5,2,5]\n",
    "print('list l=',l)\n",
    "print('max(l)=',max(l))\n",
    "print('l.index(3)=',l.index(3))\n",
    "print('l.index(4)=',l.index(4))\n",
    "print('l.index(5)=',l.index(5))\n",
    "print('l.index(2)=',l.index(2))"
   ]
  },
  {
   "cell_type": "markdown",
   "metadata": {},
   "source": [
    "**Exercise:**\n",
    "\n",
    "- Define a list `a=[3,9,8,1,2,4]`. Use the functions `max` `min` and `a.index` to find the max value, minimum value, and the indices of the min and max values. Also find the index of the number 8.\n",
    "\n",
    "**Answer:**"
   ]
  },
  {
   "cell_type": "code",
   "execution_count": 133,
   "metadata": {},
   "outputs": [
    {
     "name": "stdout",
     "output_type": "stream",
     "text": [
      "max(a)= 9\n",
      "min(a)= 1\n",
      "a.index(max(a))= 1\n",
      "a.index(min(a))= 3\n",
      "a.index(8)= 2\n"
     ]
    }
   ],
   "source": [
    "a=[3,9,8,1,2,4]\n",
    "print('max(a)=',max(a))\n",
    "print('min(a)=',min(a))\n",
    "print('a.index(max(a))=',a.index(max(a)))\n",
    "print('a.index(min(a))=',a.index(min(a)))\n",
    "print('a.index(8)=',a.index(8))\n"
   ]
  },
  {
   "cell_type": "markdown",
   "metadata": {},
   "source": [
    "## Optimizing the RM1 and RM2 policies\n",
    "\n",
    "The code for finding the best parameters for the RM1 and RM2 policies are similar.\n",
    "\n",
    "```python\n",
    "def analyzeRM1():\n",
    "    bestRev=0\n",
    "    bestPrice1=0\n",
    "    bestPrice2=0\n",
    "    np.random.seed(0)\n",
    "    dataSet=[generateScenario() for t in range(100)]\n",
    "    for price1 in range(150,500,5):\n",
    "        for price2 in range(price1,500,5):\n",
    "            rev=np.average([simulateRM1(data,price1,price2) for data in dataSet])\n",
    "            if rev>bestRev:\n",
    "                bestRev=rev\n",
    "                bestPrice1=price1\n",
    "                bestPrice2=price2\n",
    "    print ('Best RM1 policy: price1={0} price2={1}, profit={2}'.format(bestPrice1,bestPrice2,bestRev))\n",
    "\n",
    "def analyzeRM2():\n",
    "    bestRev=0\n",
    "    np.random.seed(0)\n",
    "    dataSet=[generateScenario() for t in range(100)]\n",
    "    for price1 in range(225,246,5):\n",
    "        for price2 in range(290,331,5):\n",
    "            for quantity in range(1,100):\n",
    "                rev=np.average([simulateRM2(data,price1,price2,quantity) for data in dataSet])\n",
    "                if rev>bestRev:\n",
    "                    bestRev=rev\n",
    "                    bestPrice1=price1\n",
    "                    bestPrice2=price2\n",
    "                    bestQuantity=quantity\n",
    "                \n",
    "    print ('Best RM2 policy: price1={0} price2={1}, quantity to sell before raising price={2}, profit={3}'.format(bestPrice1,bestPrice2,bestQuantity,bestRev))\n",
    "analyzeRM2()\n",
    "```\n",
    "\n",
    "As with the constant price policy, we use list comprehension to generate a list called `dataSet` containing 100 sets of scenarios, and we set the seed to 0 to ensure that the same 100 scenarios is generated each time. Each function then uses multiple loops to search through a set of prices. In `analyzeRM1` we let `price1` search over `[150,155,160,...,495]` and `price2` increase from `price1` up to `495`. We increment in unit of 5 because the problem assumed that the price will be a multiple of 5. You could have searched over a larger range but the optimal answer is contained in this range. As in the lab 2 solution, the optimal setting is `price1=235`, `price2=310`.\n",
    "\n",
    "In `analyzeRM2`, we let `price1` and `price2` vary around the optimal price in `analyzeRM1`, while having `quantity` go from 1 to 99. The reason we narrow to this range is that the optimal turned out to be around this range (you could have searched over a larger range but the code would take longer to run). \n",
    "\n",
    "In the inner loop, whenever we find a setting of parameters resulting in the profit averaged across the 100 scenarios, (variable `rev`) being larger than the best found so far (variable `bestRev`), then we update `bestRev` as well as store the best set of parameters. As discussed in session 1, this strategy for optimization (trying every possibility) is called enumeration. In order for it to run in a reasonable time, we have to constrain the set of options to try, which we did here by making `analyzeRM2` search around the optimum of `analyzeRM1`. "
   ]
  }
 ],
 "metadata": {
  "kernelspec": {
   "display_name": "Python 3",
   "language": "python",
   "name": "python3"
  },
  "language_info": {
   "codemirror_mode": {
    "name": "ipython",
    "version": 3
   },
   "file_extension": ".py",
   "mimetype": "text/x-python",
   "name": "python",
   "nbconvert_exporter": "python",
   "pygments_lexer": "ipython3",
   "version": "3.6.3"
  }
 },
 "nbformat": 4,
 "nbformat_minor": 2
}
