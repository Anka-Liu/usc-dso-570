{
 "cells": [
  {
   "cell_type": "markdown",
   "metadata": {},
   "source": [
    "# Lab 3: Project Jumpstart (Part 1/2)\n",
    "\n",
    "**Learning Objectives**:\n",
    "\n",
    "- Describe the big picture of how to apply prescriptive analytics in a complex scenario (like the final project). (Model)\n",
    "- Describe possible interventions in the final project. (Model)\n",
    "- Applying Python commands for manipulating lists and strings.\n",
    "\n",
    "## Big picture of prescriptive analytics\n",
    "\n",
    "1. Measure what is not good. \n",
    "\n",
    " - Define computable, actionable, simple and enlightening metrics.\n",
    " - Computing the metrics for the given data, using simulation and reasonable assumptions to fill in missing data.\n",
    " - Descriptive analytics (not covered in this course or assessed in this project. See DSO 545.)\n",
    " - Statistical modeling (not covered in this course or assessed in this project. See DSO 530.)\n",
    "2. Think about ways to improve. \n",
    "3. Quantify the possible improvements.\n",
    "\n",
    "Step 1 is essentially deliverable 1 of the project. Step 3 is deliverable 2. See the project document posted on blackboard for due dates of each and more detailed description. After deliverable 1, professor will share results with the whole class and we will brainstorm step 2 together, so you can use other people's findings in step 1 to do your deliverable 2.\n",
    "\n",
    "## Possible interventions and scope of class project\n",
    "\n",
    "Possible interventions in this project includes (and are not limited to):\n",
    "\n",
    "- Tool to help Shannon and Hal to come up with better slots to allocate to departments.\n",
    "- Tool to help department coordinators optimize the schedule within the given slots, taking into account preferences of faculty (which are currently not collected but can be collected in the future).\n",
    "- Tool for centralized optimization taking into account inputs from all departments simultaneously and outputing a tentative master schedule.\n",
    "\n",
    "You do not have to create a tool that works on the real data for this project, but simply a proof of concept, perhaps on a smaller data set. For data that is not available, you can use simulation to make it up for now, and do sensitivity analysis to try a few different inputs. Even if your tool cannot be used right now because of lack of data, it can be useful in the future as one can plug in the new data into your framework once it is collected.\n",
    "\n",
    "# Lab 3: Manipulating raw data to compute metrics\n",
    "\n",
    "Example metrics we will work toward producing together are:\n",
    "\n",
    "- Percentage of \"prime time\" that is utilized by room and day of week. \n",
    "- Percentage of faculty who teach in the evenings by department. \n",
    "- List of \"undesirable conflicts\" between courses and number of such conflicts in current schedule.\n",
    "\n",
    "We will begin with some of the basic building blocks, which are lists and strings. Below is the code used in class."
   ]
  },
  {
   "cell_type": "markdown",
   "metadata": {},
   "source": [
    "## Indexing and slicing lists\n",
    "\n",
    "Indexing a list is the act of accessing one of the elements. Slicing is to obtain a contiguous fragment of the original list, which will also be a list. Strings can be viewed as lists of characters and can be indexed and sliced in a similar way. You can check whether something is part of the list or string using the command `in`. See code example below. In the comments are simple exercises to help you practice. (See the discussion on learning from code example by disecting, explaining and modifying in the [notes to the 2/8 session](http://nbviewer.jupyter.org/github/pengshi46/usc-dso-570/blob/master/Course%20Notes/10-Project%20discussion.ipynb).)"
   ]
  },
  {
   "cell_type": "code",
   "execution_count": 5,
   "metadata": {},
   "outputs": [
    {
     "name": "stdout",
     "output_type": "stream",
     "text": [
      "E1: 9\n",
      "E2: [3, 6, 9]\n",
      "E3: world\n",
      "E4: wor\n",
      "E5: [4, 7]\n",
      "E6: oo\n",
      "E7 a) True b) False\n"
     ]
    }
   ],
   "source": [
    "# Example of indexing and slicing\n",
    "l=[1,2,3,6,9,1]\n",
    "l[3]\n",
    "l[0:3]\n",
    "l[:3]\n",
    "# Exercise 1 (E1): obtain the 5th element\n",
    "# Solution:\n",
    "print('E1:',l[4])\n",
    "\n",
    "# E2: slice to obtain [3,6,9]\n",
    "# Solution: \n",
    "print('E2:',l[2:5])\n",
    "\n",
    "s='hello world'\n",
    "s[4]\n",
    "s[:5]\n",
    "# E3: try to get \"world\"\n",
    "# Solution:\n",
    "print('E3:',s[6:])\n",
    "\n",
    "# Example of negative indexing (from the back)\n",
    "l[-1]\n",
    "s[-5:]\n",
    "# E4: try to get \"wor\" by backward indexing\n",
    "# Solution\n",
    "print('E4:',s[-5:-2])\n",
    "\n",
    "# Example of complex lists\n",
    "l=[5,[2,'g'],'good',[3,4,7]]\n",
    "l[1][1] # obtaining letter 'g'\n",
    "\n",
    "# E5: try to get the [4,7]\n",
    "# Solution\n",
    "print('E5:',l[-1][-2:])\n",
    "      \n",
    "# E6: get 'oo' by list indexing.\n",
    "# Solution\n",
    "print('E6:', l[2][1:3])\n",
    "      \n",
    "      \n",
    "# Example of list membership\n",
    "5 in l\n",
    "6 in l\n",
    "[2,'g'] in l\n",
    "'oo' in 'good'\n",
    "\n",
    "day='M'\n",
    "days1='MW'\n",
    "days2='TH'\n",
    "# E7: test if days1 includes day, days2 includes day\n",
    "# Solution\n",
    "print('E7 a) {0} b) {1}'.format(day in days1,day in days2))\n"
   ]
  },
  {
   "cell_type": "markdown",
   "metadata": {},
   "source": [
    "## Manipulating Strings by Splitting, Joining, and Stripping.\n",
    "\n",
    "Splitting a string by a given substring breaks the original string into chunks, wherever the substring occurs. For example, splitting `Hello World` by the letter `o` will break it into `['Hell',' W', 'rld']`. Splitting it by the string `or` will break it into `['Hello W','ld']`. Joining a list of strings by a substring performs the reverse operation. Stripping a string removes any leading whitespace or trailing whitespace. A whites space chracter includes ` `(space), `\\n`(newline) and `\\t`(tab). This only removes whitespace in the beginning and end of the given string, but not any in the middle."
   ]
  },
  {
   "cell_type": "code",
   "execution_count": 13,
   "metadata": {},
   "outputs": [
    {
     "name": "stdout",
     "output_type": "stream",
     "text": [
      "E8: ['John', 'Doe']\n",
      "E9: John Doe\tShi, Peng\n",
      "E10: first=Peng, last=Shi\n"
     ]
    }
   ],
   "source": [
    "# Example of splitting and joining\n",
    "class1='HOH 303'\n",
    "class1.split(' ')\n",
    "'\\n'.join(['HOH','303'])\n",
    "\n",
    "name='John Doe'\n",
    "name2='Shi, Peng'\n",
    "#E8: split John Doe into first name and last.\n",
    "#Solution:\n",
    "print('E8:',name.split(' '))\n",
    "\n",
    "#E9: join name and name2 by tab '\\t'\n",
    "#Solution:\n",
    "print('E9:','\\t'.join([name,name2]))\n",
    "\n",
    "#Example of stripping. The '\\n' denotes a new line, which also counts as whitespace.\n",
    "'   hello \\n'.strip()\n",
    "\n",
    "#E10: split name2 and get first=\"Peng\" last=\"Shi\n",
    "# Solution to E10\n",
    "last,first=name2.split(',')\n",
    "last=last.strip()\n",
    "first=first.strip()\n",
    "print('E10: first={0}, last={1}'.format(first,last))"
   ]
  },
  {
   "cell_type": "markdown",
   "metadata": {},
   "source": [
    "You can also capitalize the first letter, change everything to upper case, or change all to lower case using the commands below. Casting a string into an integer by the command `int` will make it an integer. For decimal numbers, use `float` instead. To change a number into a string format, you can use `str`. Finally, given a list `l=['a','b']`, you can assign individual members directly to variables using multiple assignment, with the format `a,b=l"
   ]
  },
  {
   "cell_type": "code",
   "execution_count": 14,
   "metadata": {},
   "outputs": [
    {
     "name": "stdout",
     "output_type": "stream",
     "text": [
      "E11: 303\n"
     ]
    }
   ],
   "source": [
    "# Examples to illustrate\n",
    "\n",
    "'shi'.capitalize()\n",
    "'shi'.upper()\n",
    "'SHi'.lower()\n",
    "str(3.3)\n",
    "int('5')\n",
    "float('3.3')\n",
    "a,b=[3,4]\n",
    "\n",
    "room='HOH 303'\n",
    "# E11: given text as above, obtain the room number\n",
    "pre,suf=room.split(' ')\n",
    "print('E11:',int(suf))"
   ]
  },
  {
   "cell_type": "markdown",
   "metadata": {},
   "source": [
    "## List Comprehension\n",
    "\n",
    "List comprehension is a way of creating a list directly in a `for` loop. For example, the following code can be shortened using list comprehension below.\n",
    "\n",
    "```python\n",
    "\n",
    "l=[]\n",
    "for ind in range(5):\n",
    "    l.append(ind*ind)\n",
    "```\n",
    "See additional examples of list comprehension in the course notes for the 2/8 session (explaining Lab 2 solutions)."
   ]
  },
  {
   "cell_type": "code",
   "execution_count": 18,
   "metadata": {},
   "outputs": [
    {
     "name": "stdout",
     "output_type": "stream",
     "text": [
      "E12: [6, 10, 12]\n",
      "E13 [(3, 2, '3*2=6'), (3, 4, '3*4=12'), (3, 6, '3*6=18'), (5, 2, '5*2=10'), (5, 4, '5*4=20'), (5, 6, '5*6=30'), (7, 2, '7*2=14'), (7, 4, '7*4=28'), (7, 6, '7*6=42')]\n"
     ]
    }
   ],
   "source": [
    "# List comprehension\n",
    "[ind*ind for ind in range(5)]\n",
    "\n",
    "# E12: Create 2 * ind when ind is ranging across the list [3,5,6]\n",
    "# Solution\n",
    "print('E12:',[2*ind for ind in [3,5,6]])\n",
    "              \n",
    "# Multiple dimensional list comprehension\n",
    "[(i,j,'{0}+{1}'.format(i,j)) for i in range(5) for j in range(3)]\n",
    "\n",
    "# E13: Create a list where i ranges from [3,5,7] and j from [2,4,6], and the list should look like \n",
    "#     [(3,2,'3*2=6'),(3,4,'3*4=7')...]\n",
    "# Solution\n",
    "print('E13',[(i,j,'{0}*{1}={2}'.format(i,j,i*j)) for i in range(3,8,2) for j in range(2,7,2)])"
   ]
  }
 ],
 "metadata": {
  "kernelspec": {
   "display_name": "Python 3",
   "language": "python",
   "name": "python3"
  },
  "language_info": {
   "codemirror_mode": {
    "name": "ipython",
    "version": 3
   },
   "file_extension": ".py",
   "mimetype": "text/x-python",
   "name": "python",
   "nbconvert_exporter": "python",
   "pygments_lexer": "ipython3",
   "version": "3.6.3"
  }
 },
 "nbformat": 4,
 "nbformat_minor": 2
}
