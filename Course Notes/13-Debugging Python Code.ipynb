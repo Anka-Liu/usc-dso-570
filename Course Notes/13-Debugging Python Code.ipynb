{
 "cells": [
  {
   "cell_type": "markdown",
   "metadata": {},
   "source": [
    "# Lab 4: Debugging Python Code (2/20)\n",
    "\n",
    "**Learning Objectives:**\n",
    "\n",
    "- Identify types of objects\n",
    "- Use Python help to learn to use unfamiliar functions\n",
    "- Use Python debugger\n",
    "\n",
    "[**Link to Lab worksheet.**](http://nbviewer.jupyter.org/github/pengshi-usc/usc-dso-570/blob/master/Labs/Lab4/Lab%204-Debugging%20Python%20Code.ipynb)\n",
    "\n",
    "[**Link to worksheet solution.**](http://nbviewer.jupyter.org/github/pengshi-usc/usc-dso-570/blob/master/Labs/Lab4/Lab%204-Solution.ipynb)\n",
    "\n",
    "\n",
    "\n",
    "# Objects and Types\n",
    "\n",
    "Everything in Python is an object, and every object has a type. You can find the type of object `obj` using the command `type(obj)`. \n",
    "\n",
    "Knowing the type is important because the type determines:\n",
    "\n",
    "- How the object is constructed.\n",
    "- What attributes it has. The syntax for accessing an attribute is `obj.attributeName`.\n",
    "- What special operations can be done. Examples of special operations include: \n",
    "\n",
    " - Calling (only works if the type is `function`). Syntax: `obj()`\n",
    " - Indexing (only works if type is ordered and iterable, like `list`, `tuple`, `numpy.ndarray`, etc). Syntax: `obj[0]`\n",
    " - Operators (i.e., plus, minus, multiple, comparison, etc). Syntax for `+` operator: `obj+obj2`\n",
    " \n",
    "As an example, lists are created using syntax `l=[1,3,5]`. Lists have the attribute `append`, which is a function we learned (function attributes are also called methods). Lists cannot be called, can be indexed, and can be added to one another (list concatenation).\n",
    "\n",
    "As another example, strings are created using syntax `s=\"abc\"`. Strings have the attribute `split`, which is a function (aka method). Strings cannot be called, can be indexed, and can be added to one another (string concatenation).\n",
    "\n",
    "As a third example, sets are created using the syntax `s={1,3,5}`. Sets have the attribute `add`, which is a function that, once called, adds an element to the set. Sets cannot be called, cannot be indexed, and cannot be added to one another.\n",
    "\n",
    "As a final example, the built-in function `len` is an object with type `function`, has the attribute `__str__`, which is a function that converts the function into a string name (see example below). (These functions with have prefix and suffices `__` are meant to be internal system functions that users don't need to access, but you can access it still as below.) The object `len` can be called since it is a `function`, cannot be indexed, and cannot be added to one another."
   ]
  },
  {
   "cell_type": "code",
   "execution_count": 4,
   "metadata": {},
   "outputs": [
    {
     "data": {
      "text/plain": [
       "'<built-in function len>'"
      ]
     },
     "execution_count": 4,
     "metadata": {},
     "output_type": "execute_result"
    }
   ],
   "source": [
    "len.__str__()"
   ]
  },
  {
   "cell_type": "markdown",
   "metadata": {},
   "source": [
    "# Functions\n",
    "\n",
    "Functions are objects that can be called using the notation `functionName()`, where you can specify a list of inputs in the parenthesis.\n",
    "\n",
    "## Definition\n",
    "\n",
    "Functions are defined using the syntax as below.\n",
    "\n",
    "```python\n",
    "def func(x,y=2,z=5):\n",
    "    s=x+y+z\n",
    "    return s\n",
    "```\n",
    "\n",
    "This code creates the object `func` with type `function`. Based on this code, the function can take 3 inputs, with the first input `x` mandatory and the second two inputs `y` and `z` optional. The default setting of those inputs are given by the equal signs. This function returns the object `s` which is created inside the function and is equal to the sum of the three inputs.\n",
    "\n",
    "## Evaluating a function\n",
    "After defining a function, we can call it using the notation `funcName( list of inputs )`. This will replace this expression with the returned value. \n",
    "\n",
    "For example, `a=func(1,2,3)` will set `a` to 1+2+3=6, because the first input `x` is set to 1, the second input `y` to 2, and the third input `z` to 3. \n",
    "\n",
    "However, specifying fewer inputs will activate the default values. For example, `b=func(1,3)` will set `b` to `1+3+5=9`, because the first input `x` is set to 1, the second input `y` is set to 3, and the third one `z` is set to the default value 5. \n",
    "\n",
    "Finally `c=func(1,z=7)` will set `c` to 1+2+7=10. Note that we can specify only the third input `z` and not the second by the notation `z=7` in the list of arguments.\n",
    "\n",
    "## Scope of variables inside functions\n",
    "The **scope** of a variable is the region of the program where it can be accessed. In the above function, the variables `x`, `y`, `z` are created every time the function is called and assigned the given input values. The variable `s` is created inside the function. All four of these variables are called **local variables** because they can only be accessed insided the function. Every Python function has its own **namespace**, which is an association of names to objects. Hence, the local variables only exist inside the namespace of the function, and cannot be accessed outside. For example, the following code will return an error because the name `s` is only known inside the function, but not outside.\n"
   ]
  },
  {
   "cell_type": "code",
   "execution_count": 5,
   "metadata": {},
   "outputs": [
    {
     "ename": "NameError",
     "evalue": "name 's' is not defined",
     "output_type": "error",
     "traceback": [
      "\u001b[1;31m---------------------------------------------------------------------------\u001b[0m",
      "\u001b[1;31mNameError\u001b[0m                                 Traceback (most recent call last)",
      "\u001b[1;32m<ipython-input-5-7825bb074338>\u001b[0m in \u001b[0;36m<module>\u001b[1;34m()\u001b[0m\n\u001b[0;32m      3\u001b[0m     \u001b[1;32mreturn\u001b[0m \u001b[0ms\u001b[0m\u001b[1;33m\u001b[0m\u001b[0m\n\u001b[0;32m      4\u001b[0m \u001b[0mfunc\u001b[0m\u001b[1;33m(\u001b[0m\u001b[1;36m1\u001b[0m\u001b[1;33m,\u001b[0m\u001b[1;36m2\u001b[0m\u001b[1;33m,\u001b[0m\u001b[1;36m3\u001b[0m\u001b[1;33m)\u001b[0m\u001b[1;33m\u001b[0m\u001b[0m\n\u001b[1;32m----> 5\u001b[1;33m \u001b[0mprint\u001b[0m\u001b[1;33m(\u001b[0m\u001b[0ms\u001b[0m\u001b[1;33m)\u001b[0m\u001b[1;33m\u001b[0m\u001b[0m\n\u001b[0m",
      "\u001b[1;31mNameError\u001b[0m: name 's' is not defined"
     ]
    }
   ],
   "source": [
    "def func(x,y=2,z=5):\n",
    "    s=x+y+z\n",
    "    return s\n",
    "func(1,2,3)\n",
    "print(s)"
   ]
  },
  {
   "cell_type": "markdown",
   "metadata": {},
   "source": [
    "Variables from outside the function can be accessed inside, but not the other way around. This is because a function inherits the namespace of its environment, but the outside environment does not know what goes inside a function. For example, consider the code:\n"
   ]
  },
  {
   "cell_type": "code",
   "execution_count": 6,
   "metadata": {},
   "outputs": [
    {
     "name": "stdout",
     "output_type": "stream",
     "text": [
      "Inside the function l=5 x=1 y=2\n",
      "Outside the function l=5 x=5 y=6\n"
     ]
    }
   ],
   "source": [
    "l=5\n",
    "x=5\n",
    "def func(x,y=2,z=5):\n",
    "    print('Inside the function','l={0} x={1} y={2}'.format(l,x,y))\n",
    "    s=x+y+z\n",
    "    return s\n",
    "y=func(1,2,3)\n",
    "print('Outside the function','l={0} x={1} y={2}'.format(l,x,y))"
   ]
  },
  {
   "cell_type": "markdown",
   "metadata": {},
   "source": [
    "Here, inside the function, the variable `l` is inherited from the environment and set to 5. The variable `x` is overwritten with the input argument `x=1`, and the variable `y` comes also from the input.\n",
    "\n",
    "Outside the function, the input parameters `x`, `y`, `z` in the function are unknown. Hence the variable `x` is equal to the value above, which is 5, and the value `y` is assigned the return value of the function. In other words, the `x` and `y` outside the function refer to completely different objects as those inside the function. This is the meaning of the sentence \"every function has its own namespace,\" or its own association of names and objects.\n",
    "\n",
    "The reason for this is so that we can start afresh with variable names inside every function, and don't have to worry about conflicting names in what other people's functions use. "
   ]
  },
  {
   "cell_type": "markdown",
   "metadata": {},
   "source": [
    "## Location of Functions\n",
    "\n",
    "See the tree diagram in the lecture. The main idea here is that if `a=np.array([1,2,5])`, then the following are three different functions:\n",
    "\n",
    "```python\n",
    "sum\n",
    "np.sum\n",
    "a.sum\n",
    "```\n",
    "\n",
    "The first one is a built-in function, the second one is an attribute of the module `np`, the third one is an attribute of the numpy array object `a`. You should think of these as completely different functions with different syntax and behavior. An analogy is that these are files with the same name in different directories of your computer.\n",
    "\n",
    "To search for help for each, you would type\n",
    "```python\n",
    "sum?\n",
    "np.sum?\n",
    "np.array.sum?\n",
    "```\n",
    "\n",
    "It is important to find out the location of the function you want to use so that you make sure you are using the right function (and not another function with the same name), and so you can search for the right help file.\n",
    "\n",
    "# Using the Python Debugger\n",
    "\n",
    "There are two ways of using the debugger `pdb`, you can set a break point in the code using the command\n",
    "\n",
    "```python\n",
    "import pdb # put anywhere before \n",
    "pdb.set_trace() # put at the location of break point\n",
    "```\n",
    "This will pause Python at the location of the break point and enable you to examine variables and run code. See the [lab solutions](http://nbviewer.jupyter.org/github/pengshi-usc/usc-dso-570/blob/master/Labs/Lab4/Lab%204-Solution.ipynb) for examples of commands to run. You can also read the `pdb` documentation here: https://docs.python.org/3/library/pdb.html\n",
    "\n",
    "The basic commands are:\n",
    "- `l` for listing code around current line\n",
    "- `p x` for printing expression x. In most cases, you can also simply type the expression `x`, unless for example the variable is named something that conflicts with `pdb` commands (i.e. variable also named `p`).\n",
    "- `s` to step one line (execute one line)\n",
    "- `c` for continuing execution until next break point\n",
    "- `u` for going up one level (go from inside of a function to outside).\n",
    "- `d` for going down one level (go from outside of a function to inside).\n",
    "- `q` for quiting\n",
    "\n",
    "An alternative way of using the debugger is to run\n",
    "```python\n",
    "%pdb on\n",
    "```\n",
    "somewhere in a Code cell, then every time there is an error, the program will enter the debugger and allow you to examine variables instead of exiting.\n",
    "\n",
    "**Note:** sometimes the `pdb` debugger will make your Jupter notebook stall. To fix this problem, simply restart the kernel by going to \"Kernel\" in the menu above and click \"Restart.\" Also, make sure to quit the debugger using `q` or else you will not be able to run any other cell.\n",
    "\n",
    "Often you can understand the error by reading the error message or by printing intermediate outputs, as we've done in previous labs. The reason to use the debugger is that sometimes the error message is hard to understand or you don't want to print everything, but only where there is a problem. Moreover, entering the debugger at the point of error allows you to examine the specific variables in the program at that point of execution of the code, which gives more information than the error message itself.\n"
   ]
  }
 ],
 "metadata": {
  "kernelspec": {
   "display_name": "Python 3",
   "language": "python",
   "name": "python3"
  },
  "language_info": {
   "codemirror_mode": {
    "name": "ipython",
    "version": 3
   },
   "file_extension": ".py",
   "mimetype": "text/x-python",
   "name": "python",
   "nbconvert_exporter": "python",
   "pygments_lexer": "ipython3",
   "version": "3.6.3"
  }
 },
 "nbformat": 4,
 "nbformat_minor": 2
}
