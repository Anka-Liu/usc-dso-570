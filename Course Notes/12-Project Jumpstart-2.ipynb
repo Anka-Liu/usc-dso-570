{
 "cells": [
  {
   "cell_type": "markdown",
   "metadata": {},
   "source": [
    "# Lab 3: Project Jumpstart (Part 2/2)\n",
    "\n",
    "**Learning Objectives:**\n",
    "\n",
    "- Using `try` and `except` to create a safe type-casting module. (Code)\n",
    "- Reading/writing data files using `pandas`. (Code)\n",
    "- Manipulating data using lists and dictionaries. (Code)\n",
    "- Develop a complex algorithm by breaking the task down into simple steps. (Code)\n",
    "\n",
    "In this lab, we will compute one of the metrics discussed in last class, which is for each term, room and day of week, what is the proportion of \"prime time\" (from say 10 to 16) that is utilized. \n",
    "\n",
    "[**Link to worksheet**](http://nbviewer.jupyter.org/github/pengshi46/usc-dso-570/blob/master/Labs/Lab3/Lab%203.ipynb).\n",
    "\n",
    "[**Link to audio recording from first session (camera had issues)**](https://usc-marshall-panopto-demo.hosted.panopto.com/Panopto/Pages/Viewer.aspx?id=86bcd8bd-52b7-4911-bc31-f395812e7069).\n",
    "\n",
    "[**Link to video recording from second session (camera problem fixed)**](https://usc-marshall-panopto-demo.hosted.panopto.com/Panopto/Pages/Viewer.aspx?id=47738875-4016-4526-b5f0-bde0718bca82).\n",
    "\n",
    "[**Link to completed solution with additional analysis for your reference**](http://nbviewer.jupyter.org/github/pengshi46/usc-dso-570/blob/master/Labs/Lab3/Lab%203-Solution.ipynb)."
   ]
  }
 ],
 "metadata": {
  "kernelspec": {
   "display_name": "Python 3",
   "language": "python",
   "name": "python3"
  },
  "language_info": {
   "codemirror_mode": {
    "name": "ipython",
    "version": 3
   },
   "file_extension": ".py",
   "mimetype": "text/x-python",
   "name": "python",
   "nbconvert_exporter": "python",
   "pygments_lexer": "ipython3",
   "version": "3.6.3"
  }
 },
 "nbformat": 4,
 "nbformat_minor": 2
}
