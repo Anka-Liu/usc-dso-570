{
 "cells": [
  {
   "cell_type": "markdown",
   "metadata": {},
   "source": [
    "# Reading Python Code (1/18)\n",
    "\n",
    "**Learning Objectives:**\n",
    "\n",
    "-\tTranslate a given task into steps that a computer can follow. (Code)\n",
    "-\tDescribe a set of basic Python syntax and commands. (Code)\n",
    "-\tPredict the output of simple Python code. (Code)\n",
    "\n",
    "## Important Concepts\n",
    "\n",
    "1) How a computer \"thinks,\" so that we can give it instructions it can understand. Concepts covered includes: **algorithm, command, syntax, CPU, memory, input/output, pseudocode**.\n",
    "\n",
    "2) Basic elements of the Python language: **objects and variables, conditional statements, for loops, functions and packages, and input/output.** \n",
    "\n",
    "3) Reading a simple piece of python code to predict what it will do.\n",
    "\n",
    "Please watch the lecture video for more details.\n",
    "\n",
    "The code example we had in class was:"
   ]
  },
  {
   "cell_type": "code",
   "execution_count": 3,
   "metadata": {},
   "outputs": [
    {
     "name": "stdout",
     "output_type": "stream",
     "text": [
      "[2, 4, 5, 7]\n"
     ]
    }
   ],
   "source": [
    "l=[7,2,5,4]\n",
    "for i in range(len(l)):\n",
    "    for j in range(i+1,len(l)):\n",
    "        if l[i]>l[j]:\n",
    "            tmp=l[i]\n",
    "            l[i]=l[j]\n",
    "            l[j]=tmp\n",
    "print(l)"
   ]
  },
  {
   "cell_type": "markdown",
   "metadata": {},
   "source": [
    "To walk through the example, we will make a print statement at each loop so we see the inner working of the code. This is a useful strategy to understand a new piece of code. Note that I'm using the command string.format(). See documentation here: https://www.digitalocean.com/community/tutorials/how-to-use-string-formatters-in-python-3"
   ]
  },
  {
   "cell_type": "code",
   "execution_count": 17,
   "metadata": {},
   "outputs": [
    {
     "name": "stdout",
     "output_type": "stream",
     "text": [
      "Input list l=[7, 2, 5, 4]\n",
      "Executing outer for loop with i=0\n",
      "\tExecuting inner for loop with j=1\n",
      "\t\tComparing l[0]=7 and l[1]=2: 7 is bigger than 2, swap:\n",
      "\t\t list before swap: l=[7, 2, 5, 4]\n",
      "\t\t list after swap: l=[2, 7, 5, 4]\n",
      "\tExecuting inner for loop with j=2\n",
      "\t\tComparing l[0]=2 and l[2]=5: 2 is not bigger than 5, do nothing\n",
      "\tExecuting inner for loop with j=3\n",
      "\t\tComparing l[0]=2 and l[3]=4: 2 is not bigger than 4, do nothing\n",
      "\n",
      "Executing outer for loop with i=1\n",
      "\tExecuting inner for loop with j=2\n",
      "\t\tComparing l[1]=7 and l[2]=5: 7 is bigger than 5, swap:\n",
      "\t\t list before swap: l=[2, 7, 5, 4]\n",
      "\t\t list after swap: l=[2, 5, 7, 4]\n",
      "\tExecuting inner for loop with j=3\n",
      "\t\tComparing l[1]=5 and l[3]=4: 5 is bigger than 4, swap:\n",
      "\t\t list before swap: l=[2, 5, 7, 4]\n",
      "\t\t list after swap: l=[2, 4, 7, 5]\n",
      "\n",
      "Executing outer for loop with i=2\n",
      "\tExecuting inner for loop with j=3\n",
      "\t\tComparing l[2]=7 and l[3]=5: 7 is bigger than 5, swap:\n",
      "\t\t list before swap: l=[2, 4, 7, 5]\n",
      "\t\t list after swap: l=[2, 4, 5, 7]\n",
      "\n",
      "Executing outer for loop with i=3\n",
      "\n",
      "Final output:\n",
      "[2, 4, 5, 7]\n"
     ]
    }
   ],
   "source": [
    "l=[7,2,5,4]\n",
    "print ('Input list l={0}'.format(l))\n",
    "for i in range(len(l)):\n",
    "    print('Executing outer for loop with i={0}'.format(i))\n",
    "    for j in range(i+1,len(l)):\n",
    "        print ('\\tExecuting inner for loop with j={0}'.format(j))\n",
    "        print ('\\t\\tComparing l[{0}]={2} and l[{1}]={3}: '.format(i,j,l[i],l[j]),end=\"\")\n",
    "        if l[i]>l[j]:\n",
    "            print ('{0} is bigger than {1}, swap:'.format(l[i],l[j]))\n",
    "            print ('\\t\\t list before swap: l={0}'.format(l))\n",
    "            tmp=l[i]\n",
    "            l[i]=l[j]\n",
    "            l[j]=tmp\n",
    "            print ('\\t\\t list after swap: l={0}'.format(l))\n",
    "        else:\n",
    "            print ('{0} is not bigger than {1}, do nothing'.format(l[i],l[j]))\n",
    "    print()\n",
    "print('Final output:')\n",
    "print(l)"
   ]
  },
  {
   "cell_type": "markdown",
   "metadata": {},
   "source": [
    "## FAQ: \n",
    "\n",
    "**Q:** In the example above, why do we not use `range(len(l)-1)`, since python counts from 0?\n",
    "\n",
    "A: `range(4)=[0,1,2,3]` already, so this is taken into account by how the `range` is defined in Python. If we had used `range(len(l)-1)` or `range(3)`, we would only get `[0,1,2]`. The fact that `range(a,b)=[a,a+1,...,b-1]` rather than up to `b` is a confusing part of the language, but as with any language there are quirks one must get used to.\n",
    "\n",
    "**Q:** What is the meaning of \"pseudo-code\"?\n",
    "\n",
    "A: The word pseudo means \"fake,\" so pseudocode is not really correct code in terms of commands that computer can run, but an algorithm written using *computer logic but human words*. However, the hardest part of programming is generally translating the task into \"computer thinking,\" and from pseudocode it is simply a matter of Googling the correct syntax to turn it into real code.\n",
    "\n",
    "**Q:** When should we use Jupyter notebook versus Spyder?\n",
    "\n",
    "A: Jupyter notebook is ideal if we would like to share the result with another. You can simply send the .ipynb file and the other can read it. It also allows writing cells in \"markdown,\" which is not Python code but allows easy text formating. (All the course notes and homeworks are written using Jupyter notebooks.) The drawback is that it cannot edit a .py file, so we have to put all of the code into the boxes. Spyder is for developing a more serious application, with potentially many files. It has multiple windows, one console for running (like Jupyter notebook), and one for editing files."
   ]
  },
  {
   "cell_type": "markdown",
   "metadata": {},
   "source": [
    "\n",
    "## References\n",
    "\n",
    "There are many freely available Python resources on the Internet. In class we covered the basic logic and syntax of Python programming, which opens the door for you to learn from more advanced resources. As with any language, learning requires exposure, so I encourage you to check out these resources.\n",
    "\n",
    "1. Simple step by step tutorial of all Python commands we covered today, with online practice: https://www.learnpython.org/\n",
    "\n",
    "2. Basics of using Jupyter notebooks: http://jupyter-notebook.readthedocs.io/en/stable/examples/Notebook/Notebook%20Basics.html\n",
    "\n",
    "3. Seven minute video introduction to Jupyter notebook: https://www.youtube.com/watch?v=jZ952vChhuI\n",
    "\n",
    "4. Two minute video introduction to Spyder: https://www.youtube.com/watch?v=8JiWEZEnJ40\n"
   ]
  }
 ],
 "metadata": {
  "kernelspec": {
   "display_name": "Python 3",
   "language": "python",
   "name": "python3"
  },
  "language_info": {
   "codemirror_mode": {
    "name": "ipython",
    "version": 3
   },
   "file_extension": ".py",
   "mimetype": "text/x-python",
   "name": "python",
   "nbconvert_exporter": "python",
   "pygments_lexer": "ipython3",
   "version": "3.6.3"
  }
 },
 "nbformat": 4,
 "nbformat_minor": 2
}
