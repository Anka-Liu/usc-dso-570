{
 "cells": [
  {
   "cell_type": "markdown",
   "metadata": {},
   "source": [
    "# Probability Distributions (1/30)\n",
    "\n",
    "*Note: we depart from the schedule from the Syllabus for this class to catch up on probability distributions. We will be back on track next session when we combine a discussion on simulation modeling with an application on stochastic models of demand.*\n",
    "\n",
    "**Learning Objectives:**\n",
    "\n",
    "- Describe common probability distributions and examples of uncertainty each distribution is suitable for modeling. (Model)\n",
    "- Apply probability distributions to analyze business problems. (Analyze)\n",
    "- Write Python code to graph histograms and probability distributions and to perform simple calculations involving the PMF, PDF and CDF. (Code)\n",
    "\n",
    "**Textbook Readings:**\n",
    "DMD 2.6-7, 3.1-8\n",
    "\n",
    "Important concepts from the readings:\n",
    "\n",
    "- Binomial distribution: description and application.\n",
    "- Uniform distribution: description and application.\n",
    "- Normal distribution: description and application.\n",
    "- Computing the mean, standard deviation, and variance of common probability distributions.\n",
    "- The Probability Density Function (PDF) and Cumulative Distribution Function (CDF) for continuous random variables.\n",
    "- Sums of normal random variables. (Note similarity to generic formula for mean and standard deviation in DMD 2.11)\n",
    "- Central limit theorem (CLT) and the Normal approximation. (We will go over CLT in next class.)\n",
    "\n",
    "**Supplementary Concepts from the Lecture:**\n",
    "\n",
    "Please refer to the video recording of the class session for details.\n",
    "\n",
    "- Bernoulli distribution: description and application.\n",
    "- Geometric distribution: description and application.\n",
    "- Poisson distribution: description and application.\n",
    "- Calculations involving PDFs and CDFs using Python.\n",
    "- Plotting histograms and probability distributions in Python.\n"
   ]
  },
  {
   "cell_type": "markdown",
   "metadata": {},
   "source": [
    "# Plotting Histograms and Distribution Functions"
   ]
  },
  {
   "cell_type": "markdown",
   "metadata": {},
   "source": [
    "The following is code to plot the Poisson distribution with mean 20. This models how many people visit the bank between 1-2pm, assuming the average number is 20. The Poisson distribution in general models the number of events that occur within a given time interval, assuming that events occur at a uniform rate over time. The red dashed curve shows the actual pmf (which is the exact probabilities). The histogram shows proportion of the 1000 samples that are equal to each value. When the sample size is very large, the two will match. However, with smaller samples, there may be random fluctuations so the histogram may not match exactly the PMF."
   ]
  },
  {
   "cell_type": "code",
   "execution_count": 83,
   "metadata": {},
   "outputs": [
    {
     "data": {
      "image/png": "[encoded data removed]",
      "text/plain": [
       "<matplotlib.figure.Figure at 0x27cc1f140f0>"
      ]
     },
     "metadata": {},
     "output_type": "display_data"
    }
   ],
   "source": [
    "from scipy.stats import poisson\n",
    "import matplotlib.pyplot as plt\n",
    "dist=poisson(mu=20)\n",
    "data=dist.rvs(size=1000)\n",
    "plt.hist(data,bins=range(50),density=True)\n",
    "plt.xticks(range(0,50,5))\n",
    "values=range(0,30)\n",
    "plt.vlines(values,0,dist.pmf(values))        #Create vertical lines (vlines) at each value, from 0 to each pmf(value)\n",
    "plt.xlabel('Values')\n",
    "plt.ylabel('Probability')\n",
    "plt.title('Poisson distribution')\n",
    "plt.show()"
   ]
  },
  {
   "cell_type": "markdown",
   "metadata": {},
   "source": [
    "**Notes:**\n",
    "\n",
    "- In certain Python versions, the code `density=True` will return an error. In those cases, simply change it to `normed=True`. This is a change in the developer of Python on how they want to name the variables. The latest version uses `density`, the old version uses `normed`.\n",
    "- The variables `dist` is declared in the third line to be a Poisson distribution with mean 20. To analyze another distribution, simply change the definition of `dist`."
   ]
  },
  {
   "cell_type": "markdown",
   "metadata": {},
   "source": [
    "## Calculations involving PMF and CDF\n",
    "\n",
    "To calculate the proportion of values between 15 and 25, as well as the probability of obtaining exactly 20, we can use the cdf and pmf functions provided by scipy.stats. You can Google `scipy.stats` to get a list of all distributions and functions."
   ]
  },
  {
   "cell_type": "code",
   "execution_count": 84,
   "metadata": {},
   "outputs": [
    {
     "name": "stdout",
     "output_type": "stream",
     "text": [
      "Chance that between 15 and 25 people came is 0.782950746174\n",
      "Chance exactly 20 people came is 0.0888353173921\n"
     ]
    }
   ],
   "source": [
    "print('Chance that between 15 and 25 people came is',dist.cdf(25)-dist.cdf(14))\n",
    "print('Chance exactly 20 people came is',dist.pmf(20))"
   ]
  },
  {
   "cell_type": "markdown",
   "metadata": {},
   "source": [
    "In general, calculating the probability of a random variable being inside an interval is simply a difference of CDFs. This is true for both discrete and continuous random variables. However, for discrete random variables one has to pay attention to whether the end points are included, as the CDF is the probabiliy that the random variable is smaller than or equal to a certain value, so it includes the endpoint. For discrete, an alternative way is simply to sum up the PMF within the range of interest."
   ]
  },
  {
   "cell_type": "markdown",
   "metadata": {},
   "source": [
    "## Plotting Continuous Distributions\n",
    "\n",
    "The following shows similar plotting code for the normal distribution. Note that instead of `plt.vlines`, we use `plt.plot` to show a curve. (We could have done this with pmf as well but for discrete random variables vline may be easier to read. This is personal preference.) Furthermore, we use `np.linspace` to generate the x values for the PDF, instead of `range`, so we can have more values in between. For the Poisson, `range` is more natural because it generates integers, and the Poisson values are always at integers. For the Normal, the PDF is defined for any value so we don't need to stay in the integers, so it's more convenient to interpolate with `np.linspace`. Note further than in drawing the histogram, we use 100 equidistant bins, instead of specifying the end points of the bins via `range`."
   ]
  },
  {
   "cell_type": "code",
   "execution_count": 85,
   "metadata": {},
   "outputs": [
    {
     "data": {
      "image/png": "[encoded data removed]",
      "text/plain": [
       "<matplotlib.figure.Figure at 0x27cc231bba8>"
      ]
     },
     "metadata": {},
     "output_type": "display_data"
    }
   ],
   "source": [
    "from scipy.stats import norm\n",
    "import matplotlib.pyplot as plt\n",
    "import numpy as np\n",
    "X=norm(loc=100,scale=30)\n",
    "data=X.rvs(size=10000)\n",
    "plt.hist(data,bins=100,density=True)\n",
    "values=np.linspace(0,200,100)\n",
    "plt.plot(values,X.pdf(values),'r--')\n",
    "plt.xlabel('Values')\n",
    "plt.ylabel('Density')\n",
    "plt.title('Normal distribution')\n",
    "plt.show()"
   ]
  }
 ],
 "metadata": {
  "kernelspec": {
   "display_name": "Python 3",
   "language": "python",
   "name": "python3"
  },
  "language_info": {
   "codemirror_mode": {
    "name": "ipython",
    "version": 3
   },
   "file_extension": ".py",
   "mimetype": "text/x-python",
   "name": "python",
   "nbconvert_exporter": "python",
   "pygments_lexer": "ipython3",
   "version": "3.6.3"
  }
 },
 "nbformat": 4,
 "nbformat_minor": 2
}
