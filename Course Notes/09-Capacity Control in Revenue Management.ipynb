{
 "cells": [
  {
   "cell_type": "markdown",
   "metadata": {},
   "source": [
    "# Lab 2: Capacity Control in Revenue Management (2/6)\n",
    "\n",
    "**Learning Objectives:**\n",
    "\n",
    "- Use `numpy` arrays to perform calculations. (Code)\n",
    "- Analyze airline pricing policies using simulation. (Code) \n",
    "\n",
    "\n",
    "**Lab Worksheet:** \n",
    "\n",
    "http://nbviewer.jupyter.org/github/pengshi-usc/usc-dso-570/blob/master/Labs/Lab2/Lab%202.ipynb\n",
    "\n",
    "\n",
    "**Solutions:** \n",
    "\n",
    "http://nbviewer.jupyter.org/github/pengshi-usc/usc-dso-570/blob/master/Labs/Lab2/Lab%202-Solution.ipynb\n",
    "\n",
    "\n",
    "Please use the above analysis and write a **2-3 page business report** to the pricing manager at Trojan airlines, communicating the findings and your recommendations (see prompt in Lab worksheet). **You must submit the report on Blackboard before class on 2/13.** This exercise will assess your ability to communicate a quantitative analysis to a non-technical business audience. The grading rubric is on Blackboard.\n",
    "\n",
    "\n",
    "In the next class, we will spend more time digesting the code used in Lab 2 piece by piece and apply the Python constructs to other settings (this will be part of homework 5). This lab was very challenging, and meant to expose you to the end product of what you will be able to do using simulations for making pricing decisions. You are not expected to be able to do everything yourself yet, but you will get there through practice."
   ]
  }
 ],
 "metadata": {
  "kernelspec": {
   "display_name": "Python 3",
   "language": "python",
   "name": "python3"
  },
  "language_info": {
   "codemirror_mode": {
    "name": "ipython",
    "version": 3
   },
   "file_extension": ".py",
   "mimetype": "text/x-python",
   "name": "python",
   "nbconvert_exporter": "python",
   "pygments_lexer": "ipython3",
   "version": "3.6.3"
  }
 },
 "nbformat": 4,
 "nbformat_minor": 2
}
