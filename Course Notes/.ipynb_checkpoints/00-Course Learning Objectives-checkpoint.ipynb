{
 "cells": [
  {
   "cell_type": "markdown",
   "metadata": {},
   "source": [
    "Upon successful completion of the course DSO 570 (Analytics Edge: Data, Model, and Effective Decisions), students will be able to:\n",
    "1.\t**Model** a decision as an optimization problem, and clearly describe the assumptions. \n",
    "2.\t**Analyze** and solve problems involving optimization and probability. \n",
    "3.\t**Code** simulation models and optimization models in Python.\n",
    "4.\t**Communicate** optimization analyses using both technical and business language.\n",
    "\n",
    "The above four points are called the **learning objectives of the course**. They are skills that would make you a competent practitioner of prescriptive analytics, which is the science of decision making using rigorous mathematical tools of probability and optimization. Mastering these skills will give you a valuable edge in the eyes of your future employer over other business analysts.\n",
    "\n",
    "I will create a course note for every class session, matching the title of the session in the Syllabus. The course notes will be numbered in the order of the class sessions. At the beginning of every note, I will list **specific learning objectives for that session**, and show how each of them is related to the overall learning objectives above. For your own learning, you should focus on mastering these listed skills for each class session, rather than simply memorizing the factual details presented. \n",
    "\n",
    "The homework and lab work in this course are opportunities for you to practice the skills that are listed as learning objectives of previous classes. They are graded only based on timely completion, but you should assess your own mastery of the learning objectives by checking with the solution afterward. \n",
    "\n",
    "All of the graded assignments and exams in this course are designed to assess the above learning objectives. I will make the connection clear in the handouts for each assignment. \n"
   ]
  }
 ],
 "metadata": {
  "kernelspec": {
   "display_name": "Python 3",
   "language": "python",
   "name": "python3"
  },
  "language_info": {
   "codemirror_mode": {
    "name": "ipython",
    "version": 3
   },
   "file_extension": ".py",
   "mimetype": "text/x-python",
   "name": "python",
   "nbconvert_exporter": "python",
   "pygments_lexer": "ipython3",
   "version": "3.6.3"
  }
 },
 "nbformat": 4,
 "nbformat_minor": 2
}
