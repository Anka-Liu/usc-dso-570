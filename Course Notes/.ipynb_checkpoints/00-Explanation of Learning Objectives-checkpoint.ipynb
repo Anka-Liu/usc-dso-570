{
 "cells": [
  {
   "cell_type": "markdown",
   "metadata": {},
   "source": [
    "# Explanation of Learning Objectives\n",
    "\n",
    "Upon successful completion of the course DSO 570 (Analytics Edge: Data, Model, and Effective Decisions), students will be able to:\n",
    "1.\t**Model** a decision as an optimization problem, and clearly describe the assumptions. \n",
    "2.\t**Analyze** and solve problems involving optimization and probability. \n",
    "3.\t**Code** simulation models and optimization models in Python.\n",
    "4.\t**Communicate** optimization analyses using both technical and business language.\n",
    "\n",
    "The above four points are called the **learning objectives of the course**. They are skills that would make you a competent practitioner of prescriptive analytics, which is the science of decision making using rigorous mathematical tools of probability and optimization. Mastering these skills will give you a valuable edge in the eyes of your future employer over other business analysts:\n",
    "- **Model**: Business problems are usually vague and undefined, with no clear quantitative metrics. It is important therefore for you to learn to be able to translate a vague qualitative problem into a precise quantitative one, which will allow you to apply the rigorous techniques of optimization to gain an analytics edge. This precise formulation of the problem is called a \"model.\" However, it is important that the model accurately reflects the crux of the problem, so you must also learn to state and defend the assumptions of your model.\n",
    "- **Analyze**: Having appropriately framed the problem in a quantiative way, the next step is to use quantitative tools to solve the problem. The tools we will use in the course come from probability theory, which is a way of precisely studying uncertainty, as well as optimization theory, which helps us to find the best decision to adopt given the objectives and constraints of the problem.\n",
    "- **Code**: Most quantitative problems nowadays cannot be solved by hand, but require the use of the computer, which allows us to analyze large amounts of data and search through a large set of potential solutions to find the best one. Most problems in prescriptive analytics require us to evaluate how a given solution will perform, as well as find a good solution. The first is typically by *simulation* and the second by *optimization*. Python is a powerful programming language that allows us to do both of these with the least time spent on writing code. \n",
    "- **Communicate**: A successful business analyst must be able to communicate both to other analysts and convince them of the appropriateness of the assumptions and methodology of a given analysis, as well as to upper management, who may come from a non-technical background and require one to be crystal clear about the high-level business insights. Without effective communication skills, the value of your analysis will be severely downgraded. \n",
    "\n",
    "For every class session, I will create a course note similar to this one, matching the title of the session in the Syllabus. The course notes will be numbered in the order of the class sessions. At the beginning of every note, I will list **specific learning objectives for that session**, and show how each of them is related to the overall learning objectives above. For your own learning, you should focus on mastering these listed skills for each class session, rather than simply memorizing the factual details presented. \n",
    "\n",
    "The homework and lab work in this course are opportunities for you to practice the skills that are listed as learning objectives of previous classes. They are graded only based on timely completion, but you should assess your own mastery of the learning objectives by checking with the solution afterward. \n",
    "\n",
    "All of the graded assignments and exams in this course are designed to assess the above learning objectives. I will make the connection clear in the handouts for each assignment. \n"
   ]
  }
 ],
 "metadata": {
  "kernelspec": {
   "display_name": "Python 3",
   "language": "python",
   "name": "python3"
  },
  "language_info": {
   "codemirror_mode": {
    "name": "ipython",
    "version": 3
   },
   "file_extension": ".py",
   "mimetype": "text/x-python",
   "name": "python",
   "nbconvert_exporter": "python",
   "pygments_lexer": "ipython3",
   "version": "3.6.3"
  }
 },
 "nbformat": 4,
 "nbformat_minor": 2
}
