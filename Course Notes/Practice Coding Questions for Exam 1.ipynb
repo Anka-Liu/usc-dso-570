{
 "cells": [
  {
   "cell_type": "markdown",
   "metadata": {},
   "source": [
    "# Sample Question\n",
    "\n",
    "**Part 1.** Predict the output of the following code, which is similar to the RM2 policy in Lab 2."
   ]
  },
  {
   "cell_type": "code",
   "execution_count": null,
   "metadata": {},
   "outputs": [],
   "source": [
    "data=np.array([100,70,50,30,200])\n",
    "order=np.array([4,0,1,2,3])\n",
    "price=60\n",
    "left=3\n",
    "tot=0\n",
    "for element in data[order.argsort()]:\n",
    "    if element>=price:\n",
    "        tot+=price\n",
    "        left-=1\n",
    "    if left==2:\n",
    "        price=100\n",
    "    elif left==1:\n",
    "        price=150\n",
    "    elif left==0:\n",
    "        break\n",
    "print(tot)"
   ]
  },
  {
   "cell_type": "markdown",
   "metadata": {},
   "source": [
    "**Part 2.**\n",
    "In this question, you will write code to complete an analysis of the distribution of times before the tickets for a certain event sells out. USC is selling 400 tickets to a special event. The selling starts 8 weeks before the event takes place. Demand for the event is uncertain:\n",
    "\n",
    "- With probability 0.7, the event is of average popularity. In this case, the marketing team predicts that the weekly demand will distributed as a Poisson random variable with mean 45 and each week is independent from a nother.\n",
    "- With probability 0.3, the event is very popular. In this case, the mean of the Poisson random variable will be 100 each week.\n",
    "\n",
    "Complete the functions `generateScenario()` and `simulateScenario()` to complete the following analysis on the distribution of the number $X$ of weeks before the ticket sells out, starting the index from 0. (If the ticket sells out in the first week, then $X=0$. If it sells out in the second week, then $X=1$. If it does not sell out in all 8 weeks, then for convenience we say that $X=8$.) Read the docstrings for what the input and output should be. The output from running 1000 simulations is attached.\n"
   ]
  },
  {
   "cell_type": "code",
   "execution_count": null,
   "metadata": {},
   "outputs": [],
   "source": [
    "from scipy.stats import bernoulli,poisson\n",
    "import numpy as np\n",
    "\n",
    "# Write your code only in the following block\n",
    "# BEGINNING OF CODE EDIT BLOCK---------------\n",
    "def generateScenario():\n",
    "    ''' Function that returns a numpy array of size 8, with the \n",
    "    ith element corresponding to the realized demand in each week'''\n",
    "    \n",
    "    \n",
    "    \n",
    "    \n",
    "    \n",
    "    \n",
    "    \n",
    "    \n",
    "    \n",
    "    \n",
    "    \n",
    "    \n",
    "def simulateScenario(data,inventory):\n",
    "    ''' Function with two inputs:\n",
    "           data: the numpy array of 8 elements that you generate above.\n",
    "           inventory: an integer corresponding to how many tickets. \n",
    "                      In this problem it should be 400.\n",
    "        Returns: the index of the week when tickets sell out. (Start index from 0)\n",
    "                 For example, if inventory is 400, and the demand in week 0 already \n",
    "                 is at least 400, then the return value should be 0.\n",
    "                 If the demand in week 0 is 200 and in week 1 is 300, then the return\n",
    "                 value should be 1. (smallest return value possible)\n",
    "                 If the sum of demand in all 8 weeks is less than 400, then the return\n",
    "                 value should be 8.'''\n",
    "    \n",
    "    \n",
    "    \n",
    "    \n",
    "    \n",
    "    \n",
    "    \n",
    "    \n",
    "    \n",
    "    \n",
    "    \n",
    "    \n",
    "    \n",
    "    \n",
    "\n",
    "# END OF BLOCK--------------\n",
    "\n",
    "inventory=400\n",
    "dataset=[generateScenario() for i in range(1000)]\n",
    "values=[simulateScenario(data,inventory) for data in dataset]\n",
    "import matplotlib.pyplot as plt\n",
    "plt.hist(values,bins=range(10),density=True)\n",
    "plt.title('Distribution of weeks before tickets sell out')\n",
    "plt.ylabel('Probability')\n",
    "plt.xlabel('Week in which ticket sells out')\n",
    "plt.show()\n",
    "    "
   ]
  },
  {
   "cell_type": "code",
   "execution_count": 5,
   "metadata": {},
   "outputs": [
    {
     "data": {
      "image/png": "[encoded data removed]",
      "text/plain": [
       "<matplotlib.figure.Figure at 0x1dae28f22e8>"
      ]
     },
     "metadata": {},
     "output_type": "display_data"
    }
   ],
   "source": [
    "# Expected output once completed"
   ]
  }
 ],
 "metadata": {
  "kernelspec": {
   "display_name": "Python 3",
   "language": "python",
   "name": "python3"
  },
  "language_info": {
   "codemirror_mode": {
    "name": "ipython",
    "version": 3
   },
   "file_extension": ".py",
   "mimetype": "text/x-python",
   "name": "python",
   "nbconvert_exporter": "python",
   "pygments_lexer": "ipython3",
   "version": "3.6.3"
  }
 },
 "nbformat": 4,
 "nbformat_minor": 2
}
