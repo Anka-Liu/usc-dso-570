{
 "cells": [
  {
   "cell_type": "markdown",
   "metadata": {},
   "source": [
    "# Review for Exam 2 (4/19)\n",
    "\n",
    "As written in the syllabus, Exam 2 will be on Tue. 4/24 during class. The format is similar to the two practice exams given homework 8:\n",
    "\n",
    "**Question 1. (10 points)** Two **multiple choice** questions testing the following points:\n",
    "\n",
    "- LP Geometry: graphical solution in 2-D, binding constraints, non-binding constraints.\n",
    "- Shadow prices, allowable regions, and interpretation of shadow prices.\n",
    "- Conceptual questions involving LP or MIP.\n",
    "\n",
    "**Question 2. (30 points)** A word problem asking you to write a **concrete formulation** of a LP or MIP. (It's okay to write an abstract formulation instead but make sure you define the input data and write using the correct notation.)\n",
    "\n",
    "**Question 2. (35 points)** A word problem asking you to write a **concrete formulation** of a LP or MIP, followed by an **abstract formulation.** \n",
    "\n",
    "**Question 3. (25 points)** A problem in which you are given an abstract formulation of a LP or MIP, and are asked to **write code on paper** to implement it using Python and Gurobi. The question will provide the format of the input data, as well as the format of the output. For inputs and outputs, you should be comfortable working with `DataFrame`, `Series`, `list`, `dict`, and `float` data types. \n",
    "\n",
    "## Q & A\n",
    "\n",
    "**[Please submit your most urgent question to be answered during the review session on Thursday 4/19 using this survey.](https://uscmarshall.qualtrics.com/jfe/form/SV_eQdWeH4WvTmfzOR) If you desire your question to be answered during class, you should submit your question at least 1 hour before the start of class.**"
   ]
  }
 ],
 "metadata": {
  "kernelspec": {
   "display_name": "Python 3",
   "language": "python",
   "name": "python3"
  },
  "language_info": {
   "codemirror_mode": {
    "name": "ipython",
    "version": 3
   },
   "file_extension": ".py",
   "mimetype": "text/x-python",
   "name": "python",
   "nbconvert_exporter": "python",
   "pygments_lexer": "ipython3",
   "version": "3.6.3"
  }
 },
 "nbformat": 4,
 "nbformat_minor": 2
}
