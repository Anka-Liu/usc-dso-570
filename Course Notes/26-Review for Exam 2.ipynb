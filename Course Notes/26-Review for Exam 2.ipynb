{
 "cells": [
  {
   "cell_type": "markdown",
   "metadata": {},
   "source": [
    "# Review for Exam 2 (4/19)\n",
    "\n",
    "As written in the syllabus, Exam 2 will be on Tue. 4/24 during class. The format is similar to the two practice exams given homework 8:\n",
    "\n",
    "**Question 1. (10 points)** Two **multiple choice** questions testing the following points:\n",
    "\n",
    "- LP Geometry: graphical solution in 2-D, binding constraints, non-binding constraints.\n",
    "- Shadow prices, allowable regions, and interpretation of shadow prices.\n",
    "- Conceptual questions involving LP or MIP.\n",
    "\n",
    "**Question 2. (30 points)** A word problem asking you to write a **concrete formulation** of a LP or MIP. (It's okay to write an abstract formulation instead but make sure you define the input data and write using the correct notation.)\n",
    "\n",
    "**Question 2. (35 points)** A word problem asking you to write a **concrete formulation** of a LP or MIP, followed by an **abstract formulation.** \n",
    "\n",
    "**Question 3. (25 points)** A problem in which you are given an abstract formulation of a LP or MIP, and are asked to **write code on paper** to implement it using Python and Gurobi. The question will provide the format of the input data, as well as the format of the output. For inputs and outputs, you should be comfortable working with `DataFrame`, `Series`, `list`, `dict`, and `float` data types. \n",
    "\n",
    "## Submit Questions for Review Session\n",
    "\n",
    "**[Please submit your most urgent question to be answered during the review session on Thursday 4/19 using this survey.](https://uscmarshall.qualtrics.com/jfe/form/SV_eQdWeH4WvTmfzOR) If you desire your question to be answered during class, you should submit your question at least 1 hour before the start of class.**\n",
    "\n",
    "## Resources for Studying\n",
    "\n",
    "**Practice Exam Solutions (Most Relevant):**\n",
    "\n",
    "- [Solution to Homework 8 (Practice Exams)](../Homeworks/Homework 8-Solutions.ipynb)\n",
    "\n",
    "**General resources:**\n",
    "\n",
    "- [Folder with all in-class handouts](Handouts/)\n",
    "- [Folder with all online notes](./)\n",
    "\n",
    "**LP Geometry and Shadow Prices:**\n",
    "\n",
    "- Shadow prices: [16-LP Duality](16-LP Duality.ipynb).\n",
    "- Allowable range: [17-LP Modeling](17-LP Modeling.ipynb).\n",
    "- [Solution to Homework 6 (Basic LP and shadow prices)](../Homeworks/Homework 6 - Solution.ipynb)\n",
    "- [Solution to Quiz 2](../Homeworks/Quiz 2-Solutions.ipynb).\n",
    "\n",
    "**LP/MIP Modeling:**\n",
    "\n",
    "- Explanation of in-class examples: [21-Optimization Modeling I](21-Optimization Modeling I.ipynb), [22-Optimization Modeling II](22-Optimization Modeling II.ipynb), and [24-Modeling with Auxiliary Decision Variables](24-Modeling with Auxiliary Decision Variables.ipynb).\n",
    "- [Addional practice problems: see end of course notes to session 22](22-Optimization Modeling II.ipynb). [Solutions here](22b-Solution to Additional Problems.ipynb).\n",
    "- The exam will not include linearizing absolute values or modeling with quadratic constraints. However, you may need to use auxiliary variables \n",
    " - to link multiple periods as in Homework 8 Q2 and in [course notes to session 24](24-Modeling with Auxiliary Decision variables.ipynb).\n",
    " - to link binary auxiliary variables with continuous variables, as appeared in Homework 8 Q7, as explained in [course notes to session 24](24-Modeling with Auxiliary Decision variables.ipynb), and illustrated further in [25-Lab 7](25-Lab 7 Portfolio Optimization.ipynb).\n",
    " - to apply the tricks in [17-LP Modeling](17-LP Modeling.ipynb) with $U$, $L$, and soft constraints. You should also be able to apply the trick described here to simplify a constraint on a ratio by multiplying out the denominator.\n",
    "- (Optional) additional practice from the book: DMD Exercise 7.7, 7.11, 7.13, 7.14, 7.15, 9.2, 9.3, 9.4, 9.5, 9.6, 9.7, 9.8. (For each question, focus on writing the formulation: decision variables, objective, and constraints.)\n",
    "\n",
    "**Relevant Python Coding:**\n",
    "\n",
    "- [Basic Gurobi Commands for Linear Programming (end of notes for 16-LP Duality)](16-LP Duality.ipynb)\n",
    "- [Solution to Homework 7 (Labs 5 and 6)](../Homeworks/Homework 7 - Solutions.ipynb)\n",
    "- [DataFrames and Excel (beginning of notes for 19-Mixed Integer Programming)](19-Mixed Integer Programming.ipynb)\n",
    "- Additional practice: code up the abstract formulation for Exercise 1 and 2 from [Session 21](21-Optimization Modeling I.ipynb), as well as Exercise 4 from [Session 24](24-Modeling with Auxiliary Decision Variables.ipynb). If you want additional practice, then generalize the concrete formulations to the [additional exercises here](22b-Solution to Additional Problems.ipynb) to abstract formulations, create an Excel file containing the data, and code up the formulations in Gurobi (on paper), outputing the solutions to another Excel file. To check, you can type up your code and see if it works.\n",
    "- [(Optional) Easy to read tutorial of DataFrame and Series](https://www.dataquest.io/blog/pandas-python-tutorial/)\n",
    "- [(Optional) Additional explanation on list comprehension](http://www.pythonforbeginners.com/basics/list-comprehensions-in-python)\n",
    "\n",
    "\n"
   ]
  }
 ],
 "metadata": {
  "kernelspec": {
   "display_name": "Python 3",
   "language": "python",
   "name": "python3"
  },
  "language_info": {
   "codemirror_mode": {
    "name": "ipython",
    "version": 3
   },
   "file_extension": ".py",
   "mimetype": "text/x-python",
   "name": "python",
   "nbconvert_exporter": "python",
   "pygments_lexer": "ipython3",
   "version": "3.6.3"
  }
 },
 "nbformat": 4,
 "nbformat_minor": 2
}
