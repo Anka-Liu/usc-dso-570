{
 "cells": [
  {
   "cell_type": "markdown",
   "metadata": {},
   "source": [
    "# Homework 1 (due before class on 1/16)\n",
    "\n",
    "**Learning Objectives Assessed:**\n",
    "-\tIdentify potential applications of optimization in daily life and in future career. \n",
    "-\tIdentify the decision variables, constraints, and objective of an optimization problem, and articulate the tradeoffs. \n",
    "-\tRead mathematical notations for optimization. \n",
    "-\tIdentifying local and global optimum.\n",
    "\n",
    "**Question 1.** Alice is interviewing for an internship at Optimized Financial Services, which applies analytics to help individuals and firms make financial decisions. Her interviewer is on a team that is developing a software to help tax payers decide when to invest in a retirement account, how much to invest in, and what types of account to invest in. The types of accounts include IRA, Roth IRA, 401(k), and Roth 401(k). Each account has contribution limits set by the Internal Revenue Services (IRS) and has various types of tax benefits. (If you are unfamiliar with these types of accounts, see __[this article](https://www.rothira.com/roth-401ks)__ for a comparison. See also __<a href=\"https://en.wikipedia.org/wiki/Comparison_of_401(k)_and_IRA_accounts\">this Wikipedia table</a>__ for a detailed comparison of the four types, taking into account the __[recent changes under the GOP tax reform](https://money.usnews.com/money/retirement/401ks/articles/2017-10-23/new-401-k-and-ira-rules-for-2018)__) Help Alice to answer the following questions from the interviewer?\n",
    "\n",
    "**a)** How can optimization be used to help a client make retirement account investment decisions? Describe a possible choice of:\n",
    "- Decision variables.\n",
    "- Objective.\n",
    "- Constraints. (There are many constraints due to IRS rules, so limit your response to at most 5 constraints.)\n",
    "\n",
    "You do not have to use mathematical notation, but can use English to describe each of the above. But try to be as precise in your language as you can.\n",
    "\n",
    "**b)** Briefly describe one tradeoff present in the above optimization problem.\n",
    "\n",
    "**c)** Is this an appropriate context to apply optimization? Why or why not?\n"
   ]
  },
  {
   "cell_type": "markdown",
   "metadata": {},
   "source": [
    "\n",
    "**Question 2.** Proctor & Gamble (P&G) has a multi-billion dollar fabric-care business that oversees a global portfolio of products, including brands such as Tide, Dash, and Gain. Components of the business include:\n",
    "- Sourcing raw material from vendors;\n",
    "- Developing the right mix of raw materials to formulate its products;\n",
    "- Choosing where and how to manufacture its products;\n",
    "- Marketing its products;\n",
    "- Deciding on pricing and production quantities.\n",
    "\n",
    "Pick three of the above areas and formulate an optimization problem related with each area, stating the decision variables, objective, and constraints, and describe one tradeoff in the optimization. You can state everything in English, without using mathematical notation, but try to be precise in your language."
   ]
  },
  {
   "cell_type": "markdown",
   "metadata": {},
   "source": [
    "**Question 3.** Consider optimizing your decision of what you would do after graduation. What would be your decision variables, objectives, domain/constraints? What are some of the trade-offs?\n",
    "\n",
    "**Question 4.** Let $f(x)$, $g(x)$, and $h(x)$ be three real-valued functions (meaning that they map $\\mathbb{R} \\to \\mathbb{R}$.) Consider the following optimization problem.\n",
    "$$\\max_{x\\in \\mathbb{R}} f(x)$$\n",
    "$$\\text{Subject to the constraint: } g(x)\\ge 0$$\n",
    "Suppose that an optimal solution is $x=5$, with optimal objective value $f(5)=13$. Suppose also that $h(5)=0$.\n",
    "\n",
    "Now, if we add the additional constraint $$h(x) = 0$$ to the above optimization problem, would the optimal objective value still necessarily be $13$? Why or why not?\n"
   ]
  },
  {
   "cell_type": "markdown",
   "metadata": {},
   "source": [
    "**Question 5.**\n",
    "Consider the following function $f(x)$ under the domain $x \\in [-5,6]$. For your convenience, the graph of the function is given below (ignore the Python code for now). Label on the graph all of the local and global maxima, as well as all of the local and global minima. (You can either label them on a printout of the graph directly or sketch the graph yourself and label it there.)"
   ]
  },
  {
   "cell_type": "code",
   "execution_count": 17,
   "metadata": {},
   "outputs": [
    {
     "data": {
      "image/png": "[encoded data removed]",
      "text/plain": [
       "<matplotlib.figure.Figure at 0x217cb7d30f0>"
      ]
     },
     "metadata": {},
     "output_type": "display_data"
    }
   ],
   "source": [
    "import numpy as np\n",
    "import matplotlib.pyplot as plt\n",
    "x=np.arange(-5,6.01,0.01)\n",
    "def f(x):\n",
    "    return np.sin(x)*np.abs(x+2)\n",
    "plt.plot(x,f(x))\n",
    "plt.xlabel('$x$')\n",
    "plt.ylabel('$f(x)=sin(x)|x+2|$')\n",
    "plt.xlim((-5,6))\n",
    "plt.show()"
   ]
  }
 ],
 "metadata": {
  "kernelspec": {
   "display_name": "Python 3",
   "language": "python",
   "name": "python3"
  },
  "language_info": {
   "codemirror_mode": {
    "name": "ipython",
    "version": 3
   },
   "file_extension": ".py",
   "mimetype": "text/x-python",
   "name": "python",
   "nbconvert_exporter": "python",
   "pygments_lexer": "ipython3",
   "version": "3.6.3"
  }
 },
 "nbformat": 4,
 "nbformat_minor": 2
}
